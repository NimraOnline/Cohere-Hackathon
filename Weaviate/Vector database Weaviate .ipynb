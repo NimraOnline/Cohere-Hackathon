{
 "cells": [
  {
   "cell_type": "code",
   "execution_count": 3,
   "id": "204f9226",
   "metadata": {},
   "outputs": [],
   "source": [
    "# You need to install the python Weaviate client\n",
    "#!pip install weaviate-client\n",
    "#pip install --upgrade cohere"
   ]
  },
  {
   "cell_type": "markdown",
   "id": "fe10c32b",
   "metadata": {},
   "source": [
    "## ☁️☁️ Configure the Weaviate Cloud Instance ☁️☁️✔ \n",
    "### You can have free 14 day  here: https://console.weaviate.cloud/"
   ]
  },
  {
   "cell_type": "code",
   "execution_count": 8,
   "id": "b6bfb80e",
   "metadata": {},
   "outputs": [
    {
     "data": {
      "text/plain": [
       "True"
      ]
     },
     "execution_count": 8,
     "metadata": {},
     "output_type": "execute_result"
    }
   ],
   "source": [
    "import os\n",
    "import weaviate\n",
    "import json\n",
    "\n",
    "auth_config = weaviate.auth.AuthApiKey(api_key='<your weaviate api key')\n",
    "client = weaviate.Client(\n",
    "    url=\"https://cohere-hack-jrvynxdk.weaviate.network\",\n",
    "    auth_client_secret=auth_config,\n",
    "    additional_headers={\n",
    "        \"X-Cohere-Api-Key\":\"your cohere api key\"\n",
    "    }\n",
    ")\n",
    "client.is_ready()"
   ]
  },
  {
   "cell_type": "markdown",
   "id": "395b6edc",
   "metadata": {},
   "source": [
    "## Create Database Schema ✔"
   ]
  },
  {
   "cell_type": "code",
   "execution_count": 9,
   "id": "dde8cb41",
   "metadata": {},
   "outputs": [
    {
     "name": "stdout",
     "output_type": "stream",
     "text": [
      "The schema has been created\n"
     ]
    }
   ],
   "source": [
    "# delete existing schema, (note, this will delete all your weaviate data)\n",
    "client.schema.delete_all()\n",
    "\n",
    "article_schema = {\n",
    "    \"class\": \"quran\",\n",
    "    \"description\": \"Ayat and tafsir\",\n",
    "    \"vectorizer\": \"text2vec-cohere\",#multi-lingual\n",
    "    \"moduleConfig\": {\n",
    "        \"text2vec-cohere\": {\n",
    "            \"model\": \"multilingual-22-12\",\n",
    "            \"truncate\": \"RIGHT\"\n",
    "        }, \n",
    "\n",
    "    },\n",
    "    \"vectorIndexConfig\": {\n",
    "        \"distance\": \"dot\"\n",
    "    },\n",
    "    \"properties\": [\n",
    "    {\n",
    "        \"name\": \"Sura\",\n",
    "        \"dataType\": [ \"int\" ],\n",
    "        \"moduleConfig\": { \"text2vec-cohere\": { \"skip\": True } ,\n",
    "                \"vectorizePropertyName\": False}\n",
    "    },\n",
    "    {\n",
    "        \"name\": \"Aya\",\n",
    "        \"dataType\": [ \"string\" ],\n",
    "        \"moduleConfig\": { \"text2vec-cohere\": { \"skip\": True } ,\n",
    "                \"vectorizePropertyName\": False}\n",
    "    },\n",
    " {\n",
    "        \"name\": \"Tafsir\",\n",
    "        \"dataType\": [ \"text\" ],\n",
    "        \"description\": \"Article body\",\n",
    "        \"moduleConfig\": {\n",
    "            \"text2vec-cohere\": {\n",
    "                \"skip\": False,\n",
    "                \"vectorizePropertyName\": False\n",
    "            }\n",
    "        }\n",
    "    },\n",
    "    ]\n",
    "}\n",
    "\n",
    "# add the schema\n",
    "#client.schema.delete_all()\n",
    "client.schema.create_class(article_schema)\n",
    "\n",
    "print(\"The schema has been created\")"
   ]
  },
  {
   "cell_type": "markdown",
   "id": "7e8f64e1",
   "metadata": {},
   "source": [
    "## Preprocessing ✔"
   ]
  },
  {
   "cell_type": "code",
   "execution_count": 10,
   "id": "f1475bdb",
   "metadata": {},
   "outputs": [],
   "source": [
    "import pandas as pd\n",
    "df = pd.read_csv('chunked_tafsir.csv')"
   ]
  },
  {
   "cell_type": "code",
   "execution_count": 11,
   "id": "e04eb182",
   "metadata": {},
   "outputs": [],
   "source": [
    "# Specify the column(s) to be dropped\n",
    "columns_to_drop = ['Unnamed: 0']\n",
    "\n",
    "# Use the drop method\n",
    "df = df.drop(columns=columns_to_drop)\n"
   ]
  },
  {
   "cell_type": "code",
   "execution_count": 12,
   "id": "64659c31",
   "metadata": {
    "scrolled": true
   },
   "outputs": [
    {
     "data": {
      "text/html": [
       "<div>\n",
       "<style scoped>\n",
       "    .dataframe tbody tr th:only-of-type {\n",
       "        vertical-align: middle;\n",
       "    }\n",
       "\n",
       "    .dataframe tbody tr th {\n",
       "        vertical-align: top;\n",
       "    }\n",
       "\n",
       "    .dataframe thead th {\n",
       "        text-align: right;\n",
       "    }\n",
       "</style>\n",
       "<table border=\"1\" class=\"dataframe\">\n",
       "  <thead>\n",
       "    <tr style=\"text-align: right;\">\n",
       "      <th></th>\n",
       "      <th>Sura</th>\n",
       "      <th>Aya</th>\n",
       "      <th>Tafsir</th>\n",
       "    </tr>\n",
       "  </thead>\n",
       "  <tbody>\n",
       "    <tr>\n",
       "      <th>0</th>\n",
       "      <td>1</td>\n",
       "      <td>1</td>\n",
       "      <td>In the Name of Allah, the Most Gracious, the M...</td>\n",
       "    </tr>\n",
       "    <tr>\n",
       "      <th>1</th>\n",
       "      <td>1</td>\n",
       "      <td>1</td>\n",
       "      <td>Abu Hurayrah once performed the prayer and rec...</td>\n",
       "    </tr>\n",
       "    <tr>\n",
       "      <th>2</th>\n",
       "      <td>1</td>\n",
       "      <td>1</td>\n",
       "      <td>Virtue of Al-Fatihah..Imam Ahmad recorded in h...</td>\n",
       "    </tr>\n",
       "    <tr>\n",
       "      <th>3</th>\n",
       "      <td>1</td>\n",
       "      <td>1</td>\n",
       "      <td>as partners with Him He is Allah, the Creator,...</td>\n",
       "    </tr>\n",
       "    <tr>\n",
       "      <th>4</th>\n",
       "      <td>1</td>\n",
       "      <td>1</td>\n",
       "      <td>Allah also said, \"And He is ever Rahim (mercif...</td>\n",
       "    </tr>\n",
       "  </tbody>\n",
       "</table>\n",
       "</div>"
      ],
      "text/plain": [
       "   Sura Aya                                             Tafsir\n",
       "0     1   1  In the Name of Allah, the Most Gracious, the M...\n",
       "1     1   1  Abu Hurayrah once performed the prayer and rec...\n",
       "2     1   1  Virtue of Al-Fatihah..Imam Ahmad recorded in h...\n",
       "3     1   1  as partners with Him He is Allah, the Creator,...\n",
       "4     1   1  Allah also said, \"And He is ever Rahim (mercif..."
      ]
     },
     "execution_count": 12,
     "metadata": {},
     "output_type": "execute_result"
    }
   ],
   "source": [
    "df.head()"
   ]
  },
  {
   "cell_type": "markdown",
   "id": "a2a86fb4",
   "metadata": {},
   "source": [
    "## Batch and Add the file to Weaviate ✔"
   ]
  },
  {
   "cell_type": "code",
   "execution_count": 14,
   "id": "5f4a984c",
   "metadata": {},
   "outputs": [
    {
     "data": {
      "text/plain": [
       "<weaviate.batch.crud_batch.Batch at 0x22aa2139640>"
      ]
     },
     "execution_count": 14,
     "metadata": {},
     "output_type": "execute_result"
    }
   ],
   "source": [
    "### Step 1 - configure Weaviate Batch, which optimizes CRUD operations in bulk\n",
    "# - starting batch size of 100\n",
    "# - dynamically increase/decrease based on performance\n",
    "# - add timeout retries if something goes wrong\n",
    "\n",
    "client.batch.configure(\n",
    "    batch_size=200,\n",
    "    dynamic=True,\n",
    "    timeout_retries=3,\n",
    ")"
   ]
  },
  {
   "cell_type": "code",
   "execution_count": 15,
   "id": "d92b1202",
   "metadata": {},
   "outputs": [
    {
     "name": "stdout",
     "output_type": "stream",
     "text": [
      "Import 3743 / 3743 \n",
      "Import complete\n"
     ]
    }
   ],
   "source": [
    "data = df[:10000] # make sure it is not more than 10k objects\n",
    "\n",
    "counter=0\n",
    "\n",
    "with client.batch as batch:\n",
    "    for idx, item in data.iterrows():        \n",
    "        # print update message every 100 objects        \n",
    "        if (counter %100 == 0):\n",
    "            print(f\"Import {counter} / {len(data)} \", end=\"\\r\")\n",
    "\n",
    "        properties = {\n",
    "        \"Sura\": item[\"Sura\"],\n",
    "        \"Aya\": item[\"Aya\"],\n",
    "        \"Tafsir\": item[\"Tafsir\"]       \n",
    "        }\n",
    "\n",
    "        #vector = item[\"emb\"]\n",
    "\n",
    "        batch.add_data_object(properties, \"quran\", None, None)\n",
    "        counter = counter+1\n",
    "    print(f\"Import {counter} / {len(data)}\")\n",
    "    print(\"Import complete\")"
   ]
  },
  {
   "cell_type": "markdown",
   "id": "c1f4f3af",
   "metadata": {},
   "source": [
    "## 🔎🔎All the ways you can search your data:🔍🔍\n",
    "\n",
    "### 1. Classic Word Search \n",
    "- Basic word matching. Look for the occurence of a word in the document.\n",
    "\n",
    "### 2. Vector Search\n",
    "- Find closest object vectors closest to query vector. Fetches objects the have similar meaning to the query.\n",
    "\n",
    "### 3. Hybrid Search - combine word and semantic match.\n",
    "- Perform both word and vector search and then combine the results.\n",
    "\n",
    "### 4. Generative Search - search and interpret with an LLM.\n",
    "- Search for semantically relevant documents to a prompt and then provide them as context to a LLM to guide its generation."
   ]
  },
  {
   "cell_type": "code",
   "execution_count": 31,
   "id": "4aba21d9",
   "metadata": {},
   "outputs": [
    {
     "ename": "AttributeError",
     "evalue": "'AggregateBuilder' object has no attribute 'count'",
     "output_type": "error",
     "traceback": [
      "\u001b[1;31m---------------------------------------------------------------------------\u001b[0m",
      "\u001b[1;31mAttributeError\u001b[0m                            Traceback (most recent call last)",
      "Cell \u001b[1;32mIn[31], line 3\u001b[0m\n\u001b[0;32m      1\u001b[0m \u001b[38;5;66;03m# Assuming a hypothetical library with a different syntax\u001b[39;00m\n\u001b[0;32m      2\u001b[0m result \u001b[38;5;241m=\u001b[39m (\n\u001b[1;32m----> 3\u001b[0m     \u001b[43mclient\u001b[49m\u001b[38;5;241;43m.\u001b[39;49m\u001b[43mquery\u001b[49m\u001b[38;5;241;43m.\u001b[39;49m\u001b[43maggregate\u001b[49m\u001b[43m(\u001b[49m\u001b[38;5;124;43m\"\u001b[39;49m\u001b[38;5;124;43mquran\u001b[39;49m\u001b[38;5;124;43m\"\u001b[39;49m\u001b[43m)\u001b[49m\n\u001b[0;32m      4\u001b[0m \u001b[43m    \u001b[49m\u001b[38;5;241;43m.\u001b[39;49m\u001b[43mcount\u001b[49m()  \u001b[38;5;66;03m# Adjust this line based on library documentation\u001b[39;00m\n\u001b[0;32m      5\u001b[0m     \u001b[38;5;241m.\u001b[39mdo()\n\u001b[0;32m      6\u001b[0m )\n\u001b[0;32m      8\u001b[0m \u001b[38;5;28mprint\u001b[39m(\u001b[38;5;124m\"\u001b[39m\u001b[38;5;124mObject count: \u001b[39m\u001b[38;5;124m\"\u001b[39m, result[\u001b[38;5;124m\"\u001b[39m\u001b[38;5;124mcount\u001b[39m\u001b[38;5;124m\"\u001b[39m])\n",
      "\u001b[1;31mAttributeError\u001b[0m: 'AggregateBuilder' object has no attribute 'count'"
     ]
    }
   ],
   "source": [
    "# Assuming a hypothetical library with a different syntax\n",
    "result = (\n",
    "    client.query.aggregate(\"quran\")\n",
    "    .count()  # Adjust this line based on library documentation\n",
    "    .do()\n",
    ")\n",
    "\n",
    "print(\"Object count: \", result[\"count\"])\n"
   ]
  },
  {
   "cell_type": "markdown",
   "id": "025bef95",
   "metadata": {},
   "source": [
    "### 1. Classic Word Search "
   ]
  },
  {
   "cell_type": "code",
   "execution_count": 18,
   "id": "556bda5c",
   "metadata": {},
   "outputs": [
    {
     "name": "stdout",
     "output_type": "stream",
     "text": [
      "{\n",
      "  \"data\": {\n",
      "    \"Get\": {\n",
      "      \"Quran\": [\n",
      "        {\n",
      "          \"aya\": \"6,7\",\n",
      "          \"sura\": 1,\n",
      "          \"tafsir\": \"Guide us to the straight path.The Meaning of Guidance mentioned in the Surah.The guidance mentioned in the Surah implies being directed and guided to success Allah said, \\\"Guide us to the straight path.\\\" meaning guide, direct, lead and grant us the correct guidance Also, \\\"And shown him the two ways (good and evil.\\\") (90:10), means, `We explained to him the paths of good and evil Also, Allah said, \\\"He (Allah.\\\" chose him (as an intimate friend) and guided him to a straight path) (16:121), and, \\\"And lead them on to the way of flaming Fire (Hell.\\\") (37:23) Similarly, Allah said, \\\"And verily, you (O Muhammad .\\\" are indeed guiding (mankind) to the straight path) (42:52), and, \\\"All praise and thanks be to Allah, Who has guided us to this.\\\" (7:43), meaning, guided us and directed us and qualified us for this end - Paradise. The Meaning of As-Sirat Al-Mustaqim, the Straight Path...As for the meaning of As-Sirat Al-Mustaqim, Imam Abu Ja`far At-Tabari said, \\\"The Ummah agreed that Sirat Al-Mustaqim, is the clear path without branches, according to the language of the Arabs For instance, Jarir bin `Atiyah Al-Khatafi said in a poem, `The Leader of the faithful is on a path that will remain straight even though the other paths are crooked At-Tabari also stated that, \\\"There are many evidences to this fact At-Tabari then proceeded, \\\"The Arabs use the term, Sirat in reference to every deed and statement whether righteous or wicked Hence the Arabs would describe the honest person as being straight and the wicked person as being crooked The straight path mentioned in the Quran refers to Islam..Imam Ahmad recorded in his Musnad that An-Nawwas bin Sam`an said that the Prophet said, : : : : \\\"Allah has set an example: a Sirat (straight path.\\\" that is surrounded by two walls on both sides, with several open doors within the walls covered with curtains There is a caller on the gate of the Sirat who heralds, O people! Stay on the path and do not deviate from it Meanwhile, a caller from above the path is also warning any person who wants to open any of these doors, Woe unto you! Do not open it, for if you open it you will pass through The straight path is Islam, the two walls are Allahs set limits, while the doors resemble what Allah has prohibited The caller on the gate of the Sirat is the Book of Allah, while the caller above the Sirat is Allahs admonishment in the heart of every Muslim.) The Faithful ask for and abide by Guidance..If someone asks, \\\"Why does the believer ask Allah for guidance during every prayer and at other times, while he is already properly guided Has he not already acquired guidance.The answer to these questions is that if it were not a fact that the believer needs to keep asking for guidance day and night, Allah would not have directed him to invoke Him to acquire the guidance The\"\n",
      "        },\n",
      "        {\n",
      "          \"aya\": \"4\",\n",
      "          \"sura\": 2,\n",
      "          \"tafsir\": \"no distinction between any of them (Messengers.\\\") (4:152),.This is a sample of the Ayat that indicate that the true believers all believe in Allah, His Messengers and His Books..The faithful among the People of the Book, have a special significance here, since they believe in their Books and in all of the details related to that, so when such people embrace Islam and sincerely believe in the details of the religion, then they will get two rewards As for the others, they can only believe in the previous religious teachings in a general way For instance, the Prophet stated, : \\\"When the People of the Book narrate to you, neither reject nor affirm what they say Rather, say, We believe in what was revealed to us and what was revealed to you..\\\".However, the faith that many Arabs have in the religion of Islam as it was revealed to Muhammad might be more complete, encompassing and firmer than the faith of the People of the Book who embraced Islam Therefore, if the believers in Islam among the People of the Book gain two rewards, other Muslims who have firmer Islamic faith might gain an equal reward that compares to the two the People of the Book gain (upon embracing Islam) And Allah knows best..\"\n",
      "        },\n",
      "        {\n",
      "          \"aya\": \"3\",\n",
      "          \"sura\": 2,\n",
      "          \"tafsir\": \"Those Who have faith in the Ghayb)..The Meaning of Iman..Abu Ja`far Ar-Razi said that Al-`Ala bin Al-Musayyib bin Rafi` narrated from Abu Ishaq that Abu Al-Ahwas said that `Abdullah said, \\\"Iman is to trust. `Ali bin Abi Talhah reported that Ibn `Abbas said, \\\"who have faith.\\\" means they trust Also, Ma`mar said that Az-Zuhri said, \\\"Iman is the deeds In addition, Abu Ja`far Ar-Razi said that Ar-Rabi` bin Anas said that, `They have faith, means, they fear (Allah)..Ibn Jarir (At-Tabari) commented, \\\"The prefered view is that they be described as having faith in the Unseen by the tongue, deed and creed In this case, fear of Allah is included in the general meaning of Iman, which necessitates following deeds of the tongue by implementation Hence, Iman is a general term that includes affirming and believing in Allah, His Books and His Messengers, and realizing this affirmation through adhering to the implications of what the tongue utters and affirms..Linguistically, in the absolute sense, Iman merely means trust, and it is used to mean that sometimes in the Quran, for instance, Allah the Exalted said, \\\"He trusts (yuminu.\\\" in Allah, and trusts (yuminu) in the believers.) (9: 61).Prophet Yusufs brothers said to their father, \\\"But you will never believe us even when we speak the truth.\\\" (12:17)..Further, the word Iman is sometimes mentioned along with deeds, such as Allah said, \\\"Save those who believe (in Islamic Monotheism.\\\" and do righteous deeds) (95:6)..However, when Iman is used in an unrestricted manner, it includes beliefs, deeds, and statements of the tongue.We should state here that Iman increases and decreases..There are many narrations and Hadiths on this subject, and we discussed them in the beginning of our explanation of Sahih Al-Bukhari, all favors are from Allah Some scholars explained that Iman means Khashyah (fear of Allah) For instance, Allah said; \\\"Verily, those who fear their Lord unseen (i.e they do not see Him, nor His punishment in the Hereafter.\\\") (67:12), and, \\\"Who feared the Most Gracious (Allah.\\\" in the Ghayb (unseen) and brought a heart turned in repentance (to Him and absolutely free from every kind of polytheism)) (50: 33)..Fear is the core of Iman and knowledge, just as Allah the Exalted said, \\\"It is only those who have knowledge among His servants that fear Allah.\\\" (35:28). The Meaning of Al-Ghayb..As for the meaning of Ghayb here, the Salaf have different explanations of it, all of which are correct, indicating the same general meaning For instance, Abu Ja`far Ar-Razi quoted Ar-Rabi` bin Anas, reporting from Abu Al-`Aliyah about Allahs statement, i \\\"(Those who.\\\" have faith in the Ghayb), \\\"They believe in Allah, His angels, Books, Messengers, the Last Day, His Paradise, Fire and in the meeting with Him They also believe in life after death and in Resurrection All of this is the Ghayb Qatadah bin Di`amah said similarly..Sa`id bin Mansur reported from `Abdur-Rahman bin Yazid who said, \\\"We were sitting with `Abdullah bin Mas`ud when we mentioned the Companions of the Prophet and their\"\n",
      "        }\n",
      "      ]\n",
      "    }\n",
      "  }\n",
      "}\n"
     ]
    }
   ],
   "source": [
    "where_filter = {\n",
    "  \"path\": [\"tafsir\"],\n",
    "  \"operator\": \"Like\", \n",
    "  \"valueString\": \"prophet\"\n",
    "}\n",
    "\n",
    "query_result = (\n",
    "  client.query\n",
    "  .get(\"quran\", [\"sura\", \"aya\",\"tafsir\"])\n",
    "  .with_where(where_filter)\n",
    "  .with_limit(3)\n",
    "  .do()\n",
    ")\n",
    "\n",
    "print(json.dumps(query_result, indent=2))"
   ]
  },
  {
   "cell_type": "markdown",
   "id": "32536a75",
   "metadata": {},
   "source": [
    "### 2. Vector Search"
   ]
  },
  {
   "cell_type": "code",
   "execution_count": 38,
   "id": "9ff5129c",
   "metadata": {},
   "outputs": [],
   "source": [
    "query = \"The oneness of God. Feeling Grateful\"\n",
    "\n",
    "def semantic_search(query):\n",
    "    nearText = {\n",
    "        \"concepts\": [query], # example from earlier -> 'kitten'\n",
    "#         \"distance\": -139.0,\n",
    "    }\n",
    "\n",
    "    properties = [\n",
    "        \"sura\", \"aya\", \"tafsir\",\n",
    "        \"_additional {distance}\"\n",
    "    ]\n",
    "\n",
    "    response = (\n",
    "        client.query\n",
    "        .get(\"quran\", properties)\n",
    "        .with_near_text(nearText)\n",
    "        .with_limit(3)\n",
    "        .do()\n",
    "    )\n",
    "\n",
    "    result = response['data']['Get']['quran']\n",
    "\n",
    "    return result\n",
    "    \n",
    "def print_result(result):\n",
    "    for item in result:\n",
    "        print(f\"\\033[95m{item['aya']} ({item['tafsir']}) {item['_additional']['distance']}\\033[0m\")\n",
    "        print(f\"\\033[4m{item['url']}\\033[0m\")\n",
    "        print(item['text'])\n",
    "        print()"
   ]
  },
  {
   "cell_type": "code",
   "execution_count": 39,
   "id": "e5ada856",
   "metadata": {},
   "outputs": [
    {
     "data": {
      "text/plain": [
       "[{'_additional': {'distance': -146.52103},\n",
       "  'aya': '61,62,63,64,65',\n",
       "  'sura': 40,\n",
       "  'tafsir': 'Allah, it is He Who has made the night for you that you may rest therein and the day for you to see Truly, Allah is full of bounty to mankind; yet, most of mankind give no thanks That is Allah, your Lord, the Creator of all things, La ilaha ila Huwa How then are you turning away Thus were turned away those who used to deny the Ayat of Allah Allah, it is He Who has made for you the earth as a dwelling place and the sky as a canopy, and has given you shape and made your shapes good and pure (looking) and has provided you with good things That is Allah, your Lord, so Blessed be Allah, the Lord of all that exists He is the Ever Living, La ilaha illa Huwa; so invoke Him making the religion for Him Alone All the praises and thanks be to Allah, the Lord of all that exits..Signs of the Power and Oneness of Allah..Allah reminds us of His grace towards His creation in that He has given them the night in which they rest and relax from their activities so that they can go back to them for their livelihood during the day He has given them the day with its light, so that they can undertake their journeys and engage in their business. \"Truly, Allah is full of bounty to mankind; yet, most of mankind give no thanks..\" means, they do not express gratitude for the favors which Allah bestows upon them Then Allah says: \"That is Allah, your Lord, the Creator of all things, La ilaha illa Huwa..\" means, the One Who does all of these things is Allah, the One, the Unique, the Creator of all things, besides Whom there is no other god or lord. \"How then are you turning away.\" means, `how can you worship idols which cannot create anything but are themselves hand-made and carved \"Thus were turned away those who used to deny the Ayat of Allah.\" means, just as these people Quraysh were led astray by their worship of gods other than Allah, those who came before them also disbelieved and worshipped others, with no proof or evidence, but on the basis of ignorance and desires They denied the signs and proof of Allah. \"Allah, it is He Who has made for you the earth as a dwelling place.\" means, `He made it stable and spread it out for you, so that you might live on it and travel about in it; He strengthened it with the mountains so that it does not shake with you. \"and the sky as a canopy,.\" means, `a roof covering and protecting the world. \"and has given you shape and made your shapes good.\" means, `He created you in the best and most perfect form. \"and has provided you with good and pure things..\" means, of food and drink in this world Allah states that that He is the Creator of the dwelling place'},\n",
       " {'_additional': {'distance': -145.38113},\n",
       "  'aya': '19,20,21,22',\n",
       "  'sura': 42,\n",
       "  'tafsir': 'Allah is very Gracious and Kind to His servants He gives provisions to whom He wills And He is the All-Strong, the Almighty Whosoever desires the reward of the Hereafter, We give him increase in his reward, and whosoever desires the reward of this world, We give him thereof, and he has no portion in the Hereafter Or have they partners with Allah who have instituted for them a religion which Allah has not ordained And had it not been for a decisive Word, the matter would have been judged between them And verily, for the wrongdoers there is a painful torment You will see the wrongdoers fearful of that which they have earned, and it will surely befall them But those who believe and do righteous deeds (will be) in the flowering meadows of the Gardens They shall have whatsoever they desire with their Lord That is the supreme grace..The Provision of Allah in this World and the Hereafter.Here Allah speaks of His kindness towards His creation, in that He provides for every last one of them and does not forget anyone When it comes to His provision, the righteous and the sinner are alike Allah says: \"And no moving creature is there on the earth but its provision is due from Allah And He knows its dwelling place and its deposit All is in a Clear Book..\" (11:6) And there are many similar Ayat. \"He gives provisions to whom He wills..\" means, He gives generously to whomsoever He wills. \"And He is the All-Strong, the Almighty..\" means, there is nothing that can overpower Him Then Allah says: \"Whosoever desires the reward of the Hereafter,.\" means, whoever does things for the sake of the Hereafter, \"We give him increase in his reward, .\" meaning, `We will give him strength and help him to do what he wants to do, and We will increase it for him So for every good, We will multiply it and give him between ten and seven hundred good rewards, as much as Allah wills. \"and whosoever desires the reward of this world, We give him thereof, and he has no portion in the Hereafter..\" means, whoever strives for the purpose of worldly gains, and never pays any heed to the Hereafter at all, Allah will deny him the Hereafter; and in this world, if He wills He will give to him and if He does not will, he will gain neither So the one who strives with this intention in mind will have the worst deal in this world and in the Hereafter The evidence for that is the fact that this Ayah is reinforced by the passage in Subhan (i.e., Surat Al-Isra) in which Allah says: y - - - \"Whoever desires the quick-passing, We readily grant him what We will for whom We like Then, afterwards, We have appointed for him Hell; he will (enter.\" burn therein disgraced and rejected And whoever desires the Hereafter and strives for it, with the necessary'},\n",
       " {'_additional': {'distance': -145.08838},\n",
       "  'aya': '22,23',\n",
       "  'sura': 16,\n",
       "  'tafsir': 'Your god is one God But for those who believe not in the Hereafter, their hearts are in denial, and they are proud Certainly, Allah knows what they conceal and what they reveal Truly, He does not like the proud..None is to be worshipped except Allah.Allah tells us that there is none to be worshipped besides Him, the One, the Unique, the Lone, the Self-Sufficient He tells us that the hearts of the disbelievers deny that and are astonished by that: \"\"Has he made the gods (all.\" into One God! Verily, this is a curious thing!) (38:5). \"And when Allah alone is mentioned, the hearts of those who do not believe in the Hereafter are filled with disgust, and when those besides Him are mentioned, behold, they rejoice!.\" (39:45). \"and they are proud.\" meaning they are too proud to worship Allah, and their hearts reject the idea of singling Him out, as Allah says: \"Verily! Those who scorn My worship they will surely enter Hell in humiliation!.\" 40:60 So here, Allah says; \"Certainly.\", meaning truly, \"Allah knows what they conceal and what they reveal..\" meaning He will requite them for that in full. \"Truly, He does not like the proud..\".'}]"
      ]
     },
     "execution_count": 39,
     "metadata": {},
     "output_type": "execute_result"
    }
   ],
   "source": [
    "query = \"The oneness of God. Feeling Grateful\"\n",
    "\n",
    "def semantic_search(query):\n",
    "    nearText = {\n",
    "        \"concepts\": [query],\n",
    "#         \"distance\": -139.0,\n",
    "    }\n",
    "\n",
    "    properties = [\n",
    "        \"sura\", \"aya\", \"tafsir\",\n",
    "        \"_additional {distance}\"\n",
    "    ]\n",
    "\n",
    "    response = (\n",
    "        client.query\n",
    "        .get(\"quran\", properties)\n",
    "        .with_near_text(nearText)\n",
    "        .with_limit(3)\n",
    "        .do()\n",
    "    )\n",
    "\n",
    "    result = response['data']['Get']['Quran']\n",
    "\n",
    "    return result\n",
    "    \n",
    "\n",
    "res = semantic_search(query)\n",
    "res"
   ]
  },
  {
   "cell_type": "markdown",
   "id": "844728c4",
   "metadata": {},
   "source": [
    "### ... but wait ... this is a Multi-Lingual Model! 🗣❗️\n",
    "\n",
    " - You can use it to perform multilingual search! Search in one language that model understands and recieve relevant documents in any language!"
   ]
  },
  {
   "cell_type": "code",
   "execution_count": 42,
   "id": "59cc15dc",
   "metadata": {},
   "outputs": [
    {
     "name": "stdout",
     "output_type": "stream",
     "text": [
      "\u001b[95m1,2,3,4,5,6,7,8 (Lord.\".) -145.16997\u001b[0m\n"
     ]
    },
    {
     "ename": "KeyError",
     "evalue": "'url'",
     "output_type": "error",
     "traceback": [
      "\u001b[1;31m---------------------------------------------------------------------------\u001b[0m",
      "\u001b[1;31mKeyError\u001b[0m                                  Traceback (most recent call last)",
      "Cell \u001b[1;32mIn[42], line 7\u001b[0m\n\u001b[0;32m      1\u001b[0m \u001b[38;5;66;03m# This is a multi-lingual model so it can take in queries in different languages!\u001b[39;00m\n\u001b[0;32m      2\u001b[0m \n\u001b[0;32m      3\u001b[0m \u001b[38;5;66;03m#good movies in hindi\u001b[39;00m\n\u001b[0;32m      5\u001b[0m query_result \u001b[38;5;241m=\u001b[39m semantic_search(\u001b[38;5;124m\"\u001b[39m\u001b[38;5;124mईश्वर\u001b[39m\u001b[38;5;124m\"\u001b[39m)\n\u001b[1;32m----> 7\u001b[0m \u001b[43mprint_result\u001b[49m\u001b[43m(\u001b[49m\u001b[43mquery_result\u001b[49m\u001b[43m)\u001b[49m\n",
      "Cell \u001b[1;32mIn[38], line 29\u001b[0m, in \u001b[0;36mprint_result\u001b[1;34m(result)\u001b[0m\n\u001b[0;32m     27\u001b[0m \u001b[38;5;28;01mfor\u001b[39;00m item \u001b[38;5;129;01min\u001b[39;00m result:\n\u001b[0;32m     28\u001b[0m     \u001b[38;5;28mprint\u001b[39m(\u001b[38;5;124mf\u001b[39m\u001b[38;5;124m\"\u001b[39m\u001b[38;5;130;01m\\033\u001b[39;00m\u001b[38;5;124m[95m\u001b[39m\u001b[38;5;132;01m{\u001b[39;00mitem[\u001b[38;5;124m'\u001b[39m\u001b[38;5;124maya\u001b[39m\u001b[38;5;124m'\u001b[39m]\u001b[38;5;132;01m}\u001b[39;00m\u001b[38;5;124m (\u001b[39m\u001b[38;5;132;01m{\u001b[39;00mitem[\u001b[38;5;124m'\u001b[39m\u001b[38;5;124mtafsir\u001b[39m\u001b[38;5;124m'\u001b[39m]\u001b[38;5;132;01m}\u001b[39;00m\u001b[38;5;124m) \u001b[39m\u001b[38;5;132;01m{\u001b[39;00mitem[\u001b[38;5;124m'\u001b[39m\u001b[38;5;124m_additional\u001b[39m\u001b[38;5;124m'\u001b[39m][\u001b[38;5;124m'\u001b[39m\u001b[38;5;124mdistance\u001b[39m\u001b[38;5;124m'\u001b[39m]\u001b[38;5;132;01m}\u001b[39;00m\u001b[38;5;130;01m\\033\u001b[39;00m\u001b[38;5;124m[0m\u001b[39m\u001b[38;5;124m\"\u001b[39m)\n\u001b[1;32m---> 29\u001b[0m     \u001b[38;5;28mprint\u001b[39m(\u001b[38;5;124mf\u001b[39m\u001b[38;5;124m\"\u001b[39m\u001b[38;5;130;01m\\033\u001b[39;00m\u001b[38;5;124m[4m\u001b[39m\u001b[38;5;132;01m{\u001b[39;00mitem[\u001b[38;5;124m'\u001b[39m\u001b[38;5;124murl\u001b[39m\u001b[38;5;124m'\u001b[39m]\u001b[38;5;132;01m}\u001b[39;00m\u001b[38;5;130;01m\\033\u001b[39;00m\u001b[38;5;124m[0m\u001b[39m\u001b[38;5;124m\"\u001b[39m)\n\u001b[0;32m     30\u001b[0m     \u001b[38;5;28mprint\u001b[39m(item[\u001b[38;5;124m'\u001b[39m\u001b[38;5;124mtext\u001b[39m\u001b[38;5;124m'\u001b[39m])\n\u001b[0;32m     31\u001b[0m     \u001b[38;5;28mprint\u001b[39m()\n",
      "\u001b[1;31mKeyError\u001b[0m: 'url'"
     ]
    }
   ],
   "source": [
    "# This is a multi-lingual model so it can take in queries in different languages!\n",
    "\n",
    "#good movies in hindi\n",
    "\n",
    "query_result = semantic_search(\"ईश्वर\")\n",
    "\n",
    "print_result(query_result)"
   ]
  },
  {
   "cell_type": "code",
   "execution_count": 43,
   "id": "6214567f",
   "metadata": {},
   "outputs": [
    {
     "name": "stdout",
     "output_type": "stream",
     "text": [
      "\u001b[95m17,18,19,20 (Verily, those who have Taqwa will be in Gardens and Delight Enjoying in that which their Lord has bestowed on them, and (the fact that) their Lord saved them from the torment of the blazing Fire \"Eat and drink with happiness because of what you used to do They will recline on thrones Masfufah And We shall marry them to Hur (fair females) with wide lovely eyes..Description of the Destination of the Happy.Allah the Exalted described the destination of the happy ones, \"Verily, those who have Taqwa will be in Gardens and Delight..\" in contrast to the torment and punishment of the miserable; \"Enjoying in that which their Lord has bestowed on them,.\" meaning, enjoying the various types of delight that Allah has granted them therein, such as various types of foods, drinks, clothes, dwelling places, mounts, and so forth, \"and (the fact that.\" their Lord saved them from the torment of the blazing Fire.) He saved them from the torment of the Fire, which is a bounty itself Added to this blessing is the fact that they were entered into Paradise, which has delights that no eye has ever seen, no ear has ever heard, nor has a heart ever imagined The statement of Allah the Exalted, \"\"Eat and drink with happiness because of what you used to do.\" is similar to another of His statements, \"Eat and drink at ease for that which you have sent on before you in days past!.\"(69:24) meaning this is the just reward for your deeds; surely, all this is a favor from Allah and a reward from Him Allah the Exalted said, \"They will recline (with ease.\" on thrones Masfufah.) Ath-Thawri reported from Husayn, from Mujahid, from Ibn `Abbas: \"Thrones in howdahs And the meaning of, (Masfufah) is they will be facing each other, \"Facing one another on thrones..\"(37:44) Allah said next, \"And We shall marry them to Hur (fair females.\" with wide lovely eyes.) We made for them righteous spouses, beautiful wives from Al-Hur Al-`Ayn We mentioned the description of Al-Hur Al-`Ayn in several other places in this Tafsir, and therefore, it is not necessary to repeat their description here..) -139.14478\u001b[0m\n"
     ]
    },
    {
     "ename": "KeyError",
     "evalue": "'url'",
     "output_type": "error",
     "traceback": [
      "\u001b[1;31m---------------------------------------------------------------------------\u001b[0m",
      "\u001b[1;31mKeyError\u001b[0m                                  Traceback (most recent call last)",
      "Cell \u001b[1;32mIn[43], line 5\u001b[0m\n\u001b[0;32m      1\u001b[0m \u001b[38;5;66;03m#vacation spots in Farsi\u001b[39;00m\n\u001b[0;32m      3\u001b[0m query_result \u001b[38;5;241m=\u001b[39m semantic_search(\u001b[38;5;124m\"\u001b[39m\u001b[38;5;124mمکان های تعطیلات\u001b[39m\u001b[38;5;124m\"\u001b[39m)\n\u001b[1;32m----> 5\u001b[0m \u001b[43mprint_result\u001b[49m\u001b[43m(\u001b[49m\u001b[43mquery_result\u001b[49m\u001b[43m)\u001b[49m\n",
      "Cell \u001b[1;32mIn[38], line 29\u001b[0m, in \u001b[0;36mprint_result\u001b[1;34m(result)\u001b[0m\n\u001b[0;32m     27\u001b[0m \u001b[38;5;28;01mfor\u001b[39;00m item \u001b[38;5;129;01min\u001b[39;00m result:\n\u001b[0;32m     28\u001b[0m     \u001b[38;5;28mprint\u001b[39m(\u001b[38;5;124mf\u001b[39m\u001b[38;5;124m\"\u001b[39m\u001b[38;5;130;01m\\033\u001b[39;00m\u001b[38;5;124m[95m\u001b[39m\u001b[38;5;132;01m{\u001b[39;00mitem[\u001b[38;5;124m'\u001b[39m\u001b[38;5;124maya\u001b[39m\u001b[38;5;124m'\u001b[39m]\u001b[38;5;132;01m}\u001b[39;00m\u001b[38;5;124m (\u001b[39m\u001b[38;5;132;01m{\u001b[39;00mitem[\u001b[38;5;124m'\u001b[39m\u001b[38;5;124mtafsir\u001b[39m\u001b[38;5;124m'\u001b[39m]\u001b[38;5;132;01m}\u001b[39;00m\u001b[38;5;124m) \u001b[39m\u001b[38;5;132;01m{\u001b[39;00mitem[\u001b[38;5;124m'\u001b[39m\u001b[38;5;124m_additional\u001b[39m\u001b[38;5;124m'\u001b[39m][\u001b[38;5;124m'\u001b[39m\u001b[38;5;124mdistance\u001b[39m\u001b[38;5;124m'\u001b[39m]\u001b[38;5;132;01m}\u001b[39;00m\u001b[38;5;130;01m\\033\u001b[39;00m\u001b[38;5;124m[0m\u001b[39m\u001b[38;5;124m\"\u001b[39m)\n\u001b[1;32m---> 29\u001b[0m     \u001b[38;5;28mprint\u001b[39m(\u001b[38;5;124mf\u001b[39m\u001b[38;5;124m\"\u001b[39m\u001b[38;5;130;01m\\033\u001b[39;00m\u001b[38;5;124m[4m\u001b[39m\u001b[38;5;132;01m{\u001b[39;00mitem[\u001b[38;5;124m'\u001b[39m\u001b[38;5;124murl\u001b[39m\u001b[38;5;124m'\u001b[39m]\u001b[38;5;132;01m}\u001b[39;00m\u001b[38;5;130;01m\\033\u001b[39;00m\u001b[38;5;124m[0m\u001b[39m\u001b[38;5;124m\"\u001b[39m)\n\u001b[0;32m     30\u001b[0m     \u001b[38;5;28mprint\u001b[39m(item[\u001b[38;5;124m'\u001b[39m\u001b[38;5;124mtext\u001b[39m\u001b[38;5;124m'\u001b[39m])\n\u001b[0;32m     31\u001b[0m     \u001b[38;5;28mprint\u001b[39m()\n",
      "\u001b[1;31mKeyError\u001b[0m: 'url'"
     ]
    }
   ],
   "source": [
    "#vacation spots in Farsi\n",
    "\n",
    "query_result = semantic_search(\"مکان های تعطیلات\")\n",
    "\n",
    "print_result(query_result)"
   ]
  },
  {
   "cell_type": "markdown",
   "id": "b567c3f0",
   "metadata": {},
   "source": [
    "### 3. Hybrid Search:"
   ]
  },
  {
   "cell_type": "code",
   "execution_count": 48,
   "id": "2f590b20",
   "metadata": {},
   "outputs": [
    {
     "name": "stdout",
     "output_type": "stream",
     "text": [
      "{\n",
      "  \"data\": {\n",
      "    \"Get\": {\n",
      "      \"Quran\": [\n",
      "        {\n",
      "          \"_additional\": {\n",
      "            \"explainScore\": \"(bm25)\\n(hybrid) Document 35012538-1d3e-4295-81dd-0a716737fe3f contributed 0.01639344262295082 to the score\",\n",
      "            \"score\": \"0.016393442\"\n",
      "          },\n",
      "          \"sura\": 34,\n",
      "          \"tafsir\": \"from me and from the Shaytan, and Allah and His Messenger have nothing to do with it. .Truly, He is All-Hearer, Ever Near means, He hears all the words of His servants, and He is always near to respond to them when they call on Him An-Nasa0 0 recorded the H ad0th of Abu Mu0sa0 which also appears in the Two S ah 0h s: \\\"You are not calling upon one who is deaf or absent; you are calling upon One Who is All-Hearer, Ever Near and Responsive..\\\".\"\n",
      "        },\n",
      "        {\n",
      "          \"_additional\": {\n",
      "            \"explainScore\": \"(bm25)\\n(hybrid) Document 4559d4e2-4ed9-434a-bd89-6cb7bf4e4b9c contributed 0.016129032258064516 to the score\",\n",
      "            \"score\": \"0.016129032\"\n",
      "          },\n",
      "          \"sura\": 19,\n",
      "          \"tafsir\": \"Have you seen him who disbelieved in Our Ayat and said: \\\"I shall certainly be given wealth and children if I live again Has he known the Unseen or has he taken a covenant from the Most Gracious Nay, We shall record what he says, and We shall increase his torment; And We shall inherit from him all that he speaks of, and he shall come to Us alone..Refuting the Disbelievers Who claim that They will be given Wealth and Children in the Hereafter..Imam Ahmad reported from Khabbab bin Al-Aratt that he said, \\\"I was a blacksmith and Al-\\\" \\u00ae256 s bin Wail owed me a debt So I went to him to collect my debt from him He said to me, `No, by Allah, I will not pay my debt to you until you disbelieve in Muhammad I replied to him, `No, by Allah, I will not disbelieve in Muhammad until you die and are resurrected again He then said to me, `Verily, if I die and am resurrected, and you come to me, I will also have abundance of wealth and children and I will repay you then Then, Allah revealed these Ayat, \\\"Have you seen him who disbelieved in Our Ayat and said: \\\"I shall certainly be given wealth and children..\\\" until, \\\"and he shall come to Us alone..\\\" This was also recorded by the two compilers of the Sahihs and other collections as well In the wording of Al-Bukhari it states that Khabbab said, \\\"I used to be a blacksmith in Makkah and I made a sword for Al-\\\" \\u00ae256 s bin Wail So I went to him to collect my pay from him.. then he mentioned the rest of the Hadith and he said, \\\"or has he taken a covenant from the Most Gracious.\\\" \\\"This means an agreement Concerning Allahs statement, \\\"Has he known the Unseen.\\\" This is a rejection of the person who says, \\\"I shall certainly be given wealth and children..\\\" Meaning, on the Day of Resurrection In other words, \\\"Does he know what he will have in the Hereafter, to such an extent that he can swear to it \\\"or has he taken a covenant from the Most Gracious.\\\" Or has he received a promise from Allah that he will be given these things It has already been stated that in Sahih Al-Bukhari it is mentioned that covenant means an agreement Concerning Allahs statement, \\\"Nay,.\\\" This is a participle that opposes what came before it and gives emphasis to what follows it. \\\"We shall record what he says,.\\\" what he is seeking, and his idea that he has given himself about what he hopes for, and his disbelief in Allah the Most Great. \\\"We shall increase his torment .\\\" This is referring to what will happen in the abode of the Hereafter, because of his saying his disbelief in Allah in this life. \\\"And We shall inherit from him all that he speaks of,.\\\" His wealth and children It means, \\\"We will\"\n",
      "        },\n",
      "        {\n",
      "          \"_additional\": {\n",
      "            \"explainScore\": \"(bm25)\\n(hybrid) Document 065284f4-5797-414c-b0e8-e8bd17788e19 contributed 0.015873015873015872 to the score\",\n",
      "            \"score\": \"0.015873017\"\n",
      "          },\n",
      "          \"sura\": 11,\n",
      "          \"tafsir\": \"(this worldly.\\\" life,) This means that they continued in their ways of disobedience and evils and they did not heed the protesting of those righteous people, until the torment suddenly seized them. \\\"and were criminals..\\\" Then, Allah informs that he does not destroy any town, except that it has wronged itself No correctional punishment or torment comes to any town, except that its people were wrongdoers This is as Allah says, s \\\"We wronged them not, but they wronged themselves..\\\" 11:101 Allah also says, \\\"And your Lord is not at all unjust to (His.\\\" servants.) 41: .\"\n",
      "        }\n",
      "      ]\n",
      "    }\n",
      "  }\n",
      "}\n"
     ]
    }
   ],
   "source": [
    "response = (\n",
    "    client.query\n",
    "    .get(\"quran\", [\"tafsir\", \"sura\"])\n",
    "    .with_hybrid(\n",
    "        query=\"who's is the prophet?\",\n",
    "        alpha=0\n",
    "    )\n",
    "    .with_additional([\"score\", \"explainScore\"])\n",
    "    .with_limit(3)\n",
    "    .do()\n",
    ")\n",
    "\n",
    "print(json.dumps(response, indent=2))"
   ]
  },
  {
   "cell_type": "markdown",
   "id": "efd27f7d",
   "metadata": {},
   "source": [
    "### 4. Generative Search:\n",
    "- Attaching your search engine outputs to a LLM to generate with!/"
   ]
  },
  {
   "cell_type": "code",
   "execution_count": 50,
   "id": "3f2c5cfa",
   "metadata": {
    "scrolled": true
   },
   "outputs": [
    {
     "name": "stdout",
     "output_type": "stream",
     "text": [
      "\u001b[95m65,66,67,68 (right to be followers of Ibrahim are those who followed his religion and this Prophet, Muhammad , and his Companions from the Muhajirin, Ansar and those who followed their lead Sa`id bin Mansur recorded that Ibn Mas`ud said that the Messenger of Allah said, \"Every Prophet had a Wali (supporter, best friend.\" from among the Prophets My Wali among them is my father Ibrahim, the Khalil (intimate friend) of my Lord, the Exalted and Most Honored).The Prophet then recited, \"Verily, among mankind who have the best claim to Ibrahim are those who followed him....\".Allahs statement, \"And Allah is the Wali (Protector and Helper.\" of the believers.) means, Allah is the Protector of all those who believe in His Messengers..) -147.4716\u001b[0m\n"
     ]
    },
    {
     "ename": "KeyError",
     "evalue": "'url'",
     "output_type": "error",
     "traceback": [
      "\u001b[1;31m---------------------------------------------------------------------------\u001b[0m",
      "\u001b[1;31mKeyError\u001b[0m                                  Traceback (most recent call last)",
      "Cell \u001b[1;32mIn[50], line 2\u001b[0m\n\u001b[0;32m      1\u001b[0m b_res \u001b[38;5;241m=\u001b[39m semantic_search(\u001b[38;5;124m\"\u001b[39m\u001b[38;5;124mibrahim\u001b[39m\u001b[38;5;124m\"\u001b[39m)\n\u001b[1;32m----> 2\u001b[0m \u001b[43mprint_result\u001b[49m\u001b[43m(\u001b[49m\u001b[43mb_res\u001b[49m\u001b[43m)\u001b[49m\n",
      "Cell \u001b[1;32mIn[38], line 29\u001b[0m, in \u001b[0;36mprint_result\u001b[1;34m(result)\u001b[0m\n\u001b[0;32m     27\u001b[0m \u001b[38;5;28;01mfor\u001b[39;00m item \u001b[38;5;129;01min\u001b[39;00m result:\n\u001b[0;32m     28\u001b[0m     \u001b[38;5;28mprint\u001b[39m(\u001b[38;5;124mf\u001b[39m\u001b[38;5;124m\"\u001b[39m\u001b[38;5;130;01m\\033\u001b[39;00m\u001b[38;5;124m[95m\u001b[39m\u001b[38;5;132;01m{\u001b[39;00mitem[\u001b[38;5;124m'\u001b[39m\u001b[38;5;124maya\u001b[39m\u001b[38;5;124m'\u001b[39m]\u001b[38;5;132;01m}\u001b[39;00m\u001b[38;5;124m (\u001b[39m\u001b[38;5;132;01m{\u001b[39;00mitem[\u001b[38;5;124m'\u001b[39m\u001b[38;5;124mtafsir\u001b[39m\u001b[38;5;124m'\u001b[39m]\u001b[38;5;132;01m}\u001b[39;00m\u001b[38;5;124m) \u001b[39m\u001b[38;5;132;01m{\u001b[39;00mitem[\u001b[38;5;124m'\u001b[39m\u001b[38;5;124m_additional\u001b[39m\u001b[38;5;124m'\u001b[39m][\u001b[38;5;124m'\u001b[39m\u001b[38;5;124mdistance\u001b[39m\u001b[38;5;124m'\u001b[39m]\u001b[38;5;132;01m}\u001b[39;00m\u001b[38;5;130;01m\\033\u001b[39;00m\u001b[38;5;124m[0m\u001b[39m\u001b[38;5;124m\"\u001b[39m)\n\u001b[1;32m---> 29\u001b[0m     \u001b[38;5;28mprint\u001b[39m(\u001b[38;5;124mf\u001b[39m\u001b[38;5;124m\"\u001b[39m\u001b[38;5;130;01m\\033\u001b[39;00m\u001b[38;5;124m[4m\u001b[39m\u001b[38;5;132;01m{\u001b[39;00mitem[\u001b[38;5;124m'\u001b[39m\u001b[38;5;124murl\u001b[39m\u001b[38;5;124m'\u001b[39m]\u001b[38;5;132;01m}\u001b[39;00m\u001b[38;5;130;01m\\033\u001b[39;00m\u001b[38;5;124m[0m\u001b[39m\u001b[38;5;124m\"\u001b[39m)\n\u001b[0;32m     30\u001b[0m     \u001b[38;5;28mprint\u001b[39m(item[\u001b[38;5;124m'\u001b[39m\u001b[38;5;124mtext\u001b[39m\u001b[38;5;124m'\u001b[39m])\n\u001b[0;32m     31\u001b[0m     \u001b[38;5;28mprint\u001b[39m()\n",
      "\u001b[1;31mKeyError\u001b[0m: 'url'"
     ]
    }
   ],
   "source": [
    "b_res = semantic_search(\"ibrahim\")\n",
    "print_result(b_res)"
   ]
  },
  {
   "cell_type": "code",
   "execution_count": 53,
   "id": "4cbee297",
   "metadata": {},
   "outputs": [],
   "source": [
    "generatePrompt = \"Write me some questions I can ask {tafsir} here is some information about them {sura}\"\n",
    "\n",
    "result = (\n",
    "  client.query\n",
    "  .get(\"quran\", [\"tafsir\",\"sura\"])\n",
    "  .with_generate(single_prompt=generatePrompt) # Pass in each obj 1 at a time\n",
    "  .with_near_text({\n",
    "    \"concepts\": [\"ismail\"]\n",
    "  })\n",
    "  .with_limit(3)\n",
    ").do()"
   ]
  },
  {
   "cell_type": "code",
   "execution_count": 54,
   "id": "d0206d49",
   "metadata": {},
   "outputs": [
    {
     "name": "stdout",
     "output_type": "stream",
     "text": [
      "{\n",
      "  \"errors\": [\n",
      "    {\n",
      "      \"locations\": [\n",
      "        {\n",
      "          \"column\": 81,\n",
      "          \"line\": 1\n",
      "        }\n",
      "      ],\n",
      "      \"message\": \"Cannot query field \\\"generate\\\" on type \\\"QuranAdditional\\\".\",\n",
      "      \"path\": null\n",
      "    }\n",
      "  ]\n",
      "}\n"
     ]
    }
   ],
   "source": [
    "print(json.dumps(result, indent=2))"
   ]
  }
 ],
 "metadata": {
  "kernelspec": {
   "display_name": "Python 3 (ipykernel)",
   "language": "python",
   "name": "python3"
  },
  "language_info": {
   "codemirror_mode": {
    "name": "ipython",
    "version": 3
   },
   "file_extension": ".py",
   "mimetype": "text/x-python",
   "name": "python",
   "nbconvert_exporter": "python",
   "pygments_lexer": "ipython3",
   "version": "3.9.18"
  }
 },
 "nbformat": 4,
 "nbformat_minor": 5
}

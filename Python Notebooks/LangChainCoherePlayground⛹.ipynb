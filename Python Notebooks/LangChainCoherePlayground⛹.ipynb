{
  "nbformat": 4,
  "nbformat_minor": 0,
  "metadata": {
    "colab": {
      "provenance": [],
      "collapsed_sections": [
        "fLhwa63nkeec",
        "KqQl8GaOJGAu",
        "u3Tey2yVBdLw",
        "IU6XicvPoJF6",
        "16xJ6tkY4C_8",
        "HSARV1tx-FFO",
        "DKzd5-Rw-KNn",
        "SNTHQvp7-nTf",
        "7XjvVhLZLPCZ"
      ]
    },
    "kernelspec": {
      "name": "python3",
      "display_name": "Python 3"
    },
    "language_info": {
      "name": "python"
    }
  },
  "cells": [
    {
      "cell_type": "markdown",
      "source": [
        "# LangChain Cohere Playground ⛹"
      ],
      "metadata": {
        "id": "fLhwa63nkeec"
      }
    },
    {
      "cell_type": "code",
      "source": [
        "from google.colab import userdata\n",
        "cohere_api_key = userdata.get('COHERE_API_KEY')"
      ],
      "metadata": {
        "id": "lim79lVT1efG"
      },
      "execution_count": 1,
      "outputs": []
    },
    {
      "cell_type": "code",
      "source": [
        "!pip install langchain cohere chromadb"
      ],
      "metadata": {
        "id": "kZ02_08C01dY",
        "colab": {
          "base_uri": "https://localhost:8080/"
        },
        "outputId": "fdab6bee-8a1c-4d19-8ebc-9cbdae708695"
      },
      "execution_count": 2,
      "outputs": [
        {
          "output_type": "stream",
          "name": "stdout",
          "text": [
            "Collecting langchain\n",
            "  Downloading langchain-0.0.337-py3-none-any.whl (2.0 MB)\n",
            "\u001b[2K     \u001b[90m━━━━━━━━━━━━━━━━━━━━━━━━━━━━━━━━━━━━━━━━\u001b[0m \u001b[32m2.0/2.0 MB\u001b[0m \u001b[31m15.1 MB/s\u001b[0m eta \u001b[36m0:00:00\u001b[0m\n",
            "\u001b[?25hCollecting cohere\n",
            "  Downloading cohere-4.35-py3-none-any.whl (48 kB)\n",
            "\u001b[2K     \u001b[90m━━━━━━━━━━━━━━━━━━━━━━━━━━━━━━━━━━━━━━━━\u001b[0m \u001b[32m48.7/48.7 kB\u001b[0m \u001b[31m883.9 kB/s\u001b[0m eta \u001b[36m0:00:00\u001b[0m\n",
            "\u001b[?25hCollecting chromadb\n",
            "  Downloading chromadb-0.4.17-py3-none-any.whl (496 kB)\n",
            "\u001b[2K     \u001b[90m━━━━━━━━━━━━━━━━━━━━━━━━━━━━━━━━━━━━━━━━\u001b[0m \u001b[32m496.8/496.8 kB\u001b[0m \u001b[31m15.2 MB/s\u001b[0m eta \u001b[36m0:00:00\u001b[0m\n",
            "\u001b[?25hRequirement already satisfied: PyYAML>=5.3 in /usr/local/lib/python3.10/dist-packages (from langchain) (6.0.1)\n",
            "Requirement already satisfied: SQLAlchemy<3,>=1.4 in /usr/local/lib/python3.10/dist-packages (from langchain) (2.0.23)\n",
            "Requirement already satisfied: aiohttp<4.0.0,>=3.8.3 in /usr/local/lib/python3.10/dist-packages (from langchain) (3.8.6)\n",
            "Requirement already satisfied: anyio<4.0 in /usr/local/lib/python3.10/dist-packages (from langchain) (3.7.1)\n",
            "Requirement already satisfied: async-timeout<5.0.0,>=4.0.0 in /usr/local/lib/python3.10/dist-packages (from langchain) (4.0.3)\n",
            "Collecting dataclasses-json<0.7,>=0.5.7 (from langchain)\n",
            "  Downloading dataclasses_json-0.6.2-py3-none-any.whl (28 kB)\n",
            "Collecting jsonpatch<2.0,>=1.33 (from langchain)\n",
            "  Downloading jsonpatch-1.33-py2.py3-none-any.whl (12 kB)\n",
            "Collecting langsmith<0.1.0,>=0.0.63 (from langchain)\n",
            "  Downloading langsmith-0.0.65-py3-none-any.whl (46 kB)\n",
            "\u001b[2K     \u001b[90m━━━━━━━━━━━━━━━━━━━━━━━━━━━━━━━━━━━━━━━━\u001b[0m \u001b[32m46.1/46.1 kB\u001b[0m \u001b[31m4.7 MB/s\u001b[0m eta \u001b[36m0:00:00\u001b[0m\n",
            "\u001b[?25hRequirement already satisfied: numpy<2,>=1 in /usr/local/lib/python3.10/dist-packages (from langchain) (1.23.5)\n",
            "Requirement already satisfied: pydantic<3,>=1 in /usr/local/lib/python3.10/dist-packages (from langchain) (1.10.13)\n",
            "Requirement already satisfied: requests<3,>=2 in /usr/local/lib/python3.10/dist-packages (from langchain) (2.31.0)\n",
            "Requirement already satisfied: tenacity<9.0.0,>=8.1.0 in /usr/local/lib/python3.10/dist-packages (from langchain) (8.2.3)\n",
            "Collecting backoff<3.0,>=2.0 (from cohere)\n",
            "  Downloading backoff-2.2.1-py3-none-any.whl (15 kB)\n",
            "Collecting fastavro==1.8.2 (from cohere)\n",
            "  Downloading fastavro-1.8.2-cp310-cp310-manylinux_2_17_x86_64.manylinux2014_x86_64.whl (2.7 MB)\n",
            "\u001b[2K     \u001b[90m━━━━━━━━━━━━━━━━━━━━━━━━━━━━━━━━━━━━━━━━\u001b[0m \u001b[32m2.7/2.7 MB\u001b[0m \u001b[31m32.8 MB/s\u001b[0m eta \u001b[36m0:00:00\u001b[0m\n",
            "\u001b[?25hRequirement already satisfied: importlib_metadata<7.0,>=6.0 in /usr/local/lib/python3.10/dist-packages (from cohere) (6.8.0)\n",
            "Requirement already satisfied: urllib3<3,>=1.26 in /usr/local/lib/python3.10/dist-packages (from cohere) (2.0.7)\n",
            "Collecting chroma-hnswlib==0.7.3 (from chromadb)\n",
            "  Downloading chroma_hnswlib-0.7.3-cp310-cp310-manylinux_2_17_x86_64.manylinux2014_x86_64.whl (2.4 MB)\n",
            "\u001b[2K     \u001b[90m━━━━━━━━━━━━━━━━━━━━━━━━━━━━━━━━━━━━━━━━\u001b[0m \u001b[32m2.4/2.4 MB\u001b[0m \u001b[31m41.6 MB/s\u001b[0m eta \u001b[36m0:00:00\u001b[0m\n",
            "\u001b[?25hCollecting fastapi>=0.95.2 (from chromadb)\n",
            "  Downloading fastapi-0.104.1-py3-none-any.whl (92 kB)\n",
            "\u001b[2K     \u001b[90m━━━━━━━━━━━━━━━━━━━━━━━━━━━━━━━━━━━━━━━━\u001b[0m \u001b[32m92.9/92.9 kB\u001b[0m \u001b[31m11.7 MB/s\u001b[0m eta \u001b[36m0:00:00\u001b[0m\n",
            "\u001b[?25hCollecting uvicorn[standard]>=0.18.3 (from chromadb)\n",
            "  Downloading uvicorn-0.24.0.post1-py3-none-any.whl (59 kB)\n",
            "\u001b[2K     \u001b[90m━━━━━━━━━━━━━━━━━━━━━━━━━━━━━━━━━━━━━━━━\u001b[0m \u001b[32m59.7/59.7 kB\u001b[0m \u001b[31m7.8 MB/s\u001b[0m eta \u001b[36m0:00:00\u001b[0m\n",
            "\u001b[?25hCollecting posthog>=2.4.0 (from chromadb)\n",
            "  Downloading posthog-3.0.2-py2.py3-none-any.whl (37 kB)\n",
            "Requirement already satisfied: typing-extensions>=4.5.0 in /usr/local/lib/python3.10/dist-packages (from chromadb) (4.5.0)\n",
            "Collecting pulsar-client>=3.1.0 (from chromadb)\n",
            "  Downloading pulsar_client-3.3.0-cp310-cp310-manylinux_2_17_x86_64.manylinux2014_x86_64.whl (5.4 MB)\n",
            "\u001b[2K     \u001b[90m━━━━━━━━━━━━━━━━━━━━━━━━━━━━━━━━━━━━━━━━\u001b[0m \u001b[32m5.4/5.4 MB\u001b[0m \u001b[31m97.0 MB/s\u001b[0m eta \u001b[36m0:00:00\u001b[0m\n",
            "\u001b[?25hCollecting onnxruntime>=1.14.1 (from chromadb)\n",
            "  Downloading onnxruntime-1.16.2-cp310-cp310-manylinux_2_17_x86_64.manylinux2014_x86_64.whl (6.4 MB)\n",
            "\u001b[2K     \u001b[90m━━━━━━━━━━━━━━━━━━━━━━━━━━━━━━━━━━━━━━━━\u001b[0m \u001b[32m6.4/6.4 MB\u001b[0m \u001b[31m88.2 MB/s\u001b[0m eta \u001b[36m0:00:00\u001b[0m\n",
            "\u001b[?25hCollecting opentelemetry-api>=1.2.0 (from chromadb)\n",
            "  Downloading opentelemetry_api-1.21.0-py3-none-any.whl (57 kB)\n",
            "\u001b[2K     \u001b[90m━━━━━━━━━━━━━━━━━━━━━━━━━━━━━━━━━━━━━━━━\u001b[0m \u001b[32m57.9/57.9 kB\u001b[0m \u001b[31m6.4 MB/s\u001b[0m eta \u001b[36m0:00:00\u001b[0m\n",
            "\u001b[?25hCollecting opentelemetry-exporter-otlp-proto-grpc>=1.2.0 (from chromadb)\n",
            "  Downloading opentelemetry_exporter_otlp_proto_grpc-1.21.0-py3-none-any.whl (18 kB)\n",
            "Collecting opentelemetry-sdk>=1.2.0 (from chromadb)\n",
            "  Downloading opentelemetry_sdk-1.21.0-py3-none-any.whl (105 kB)\n",
            "\u001b[2K     \u001b[90m━━━━━━━━━━━━━━━━━━━━━━━━━━━━━━━━━━━━━━━━\u001b[0m \u001b[32m105.3/105.3 kB\u001b[0m \u001b[31m12.5 MB/s\u001b[0m eta \u001b[36m0:00:00\u001b[0m\n",
            "\u001b[?25hRequirement already satisfied: tokenizers>=0.13.2 in /usr/local/lib/python3.10/dist-packages (from chromadb) (0.15.0)\n",
            "Collecting pypika>=0.48.9 (from chromadb)\n",
            "  Downloading PyPika-0.48.9.tar.gz (67 kB)\n",
            "\u001b[2K     \u001b[90m━━━━━━━━━━━━━━━━━━━━━━━━━━━━━━━━━━━━━━━━\u001b[0m \u001b[32m67.3/67.3 kB\u001b[0m \u001b[31m7.7 MB/s\u001b[0m eta \u001b[36m0:00:00\u001b[0m\n",
            "\u001b[?25h  Installing build dependencies ... \u001b[?25l\u001b[?25hdone\n",
            "  Getting requirements to build wheel ... \u001b[?25l\u001b[?25hdone\n",
            "  Preparing metadata (pyproject.toml) ... \u001b[?25l\u001b[?25hdone\n",
            "Requirement already satisfied: tqdm>=4.65.0 in /usr/local/lib/python3.10/dist-packages (from chromadb) (4.66.1)\n",
            "Collecting overrides>=7.3.1 (from chromadb)\n",
            "  Downloading overrides-7.4.0-py3-none-any.whl (17 kB)\n",
            "Requirement already satisfied: importlib-resources in /usr/local/lib/python3.10/dist-packages (from chromadb) (6.1.1)\n",
            "Requirement already satisfied: grpcio>=1.58.0 in /usr/local/lib/python3.10/dist-packages (from chromadb) (1.59.2)\n",
            "Collecting bcrypt>=4.0.1 (from chromadb)\n",
            "  Downloading bcrypt-4.0.1-cp36-abi3-manylinux_2_28_x86_64.whl (593 kB)\n",
            "\u001b[2K     \u001b[90m━━━━━━━━━━━━━━━━━━━━━━━━━━━━━━━━━━━━━━━━\u001b[0m \u001b[32m593.7/593.7 kB\u001b[0m \u001b[31m33.0 MB/s\u001b[0m eta \u001b[36m0:00:00\u001b[0m\n",
            "\u001b[?25hRequirement already satisfied: typer>=0.9.0 in /usr/local/lib/python3.10/dist-packages (from chromadb) (0.9.0)\n",
            "Collecting kubernetes>=28.1.0 (from chromadb)\n",
            "  Downloading kubernetes-28.1.0-py2.py3-none-any.whl (1.6 MB)\n",
            "\u001b[2K     \u001b[90m━━━━━━━━━━━━━━━━━━━━━━━━━━━━━━━━━━━━━━━━\u001b[0m \u001b[32m1.6/1.6 MB\u001b[0m \u001b[31m56.3 MB/s\u001b[0m eta \u001b[36m0:00:00\u001b[0m\n",
            "\u001b[?25hRequirement already satisfied: attrs>=17.3.0 in /usr/local/lib/python3.10/dist-packages (from aiohttp<4.0.0,>=3.8.3->langchain) (23.1.0)\n",
            "Requirement already satisfied: charset-normalizer<4.0,>=2.0 in /usr/local/lib/python3.10/dist-packages (from aiohttp<4.0.0,>=3.8.3->langchain) (3.3.2)\n",
            "Requirement already satisfied: multidict<7.0,>=4.5 in /usr/local/lib/python3.10/dist-packages (from aiohttp<4.0.0,>=3.8.3->langchain) (6.0.4)\n",
            "Requirement already satisfied: yarl<2.0,>=1.0 in /usr/local/lib/python3.10/dist-packages (from aiohttp<4.0.0,>=3.8.3->langchain) (1.9.2)\n",
            "Requirement already satisfied: frozenlist>=1.1.1 in /usr/local/lib/python3.10/dist-packages (from aiohttp<4.0.0,>=3.8.3->langchain) (1.4.0)\n",
            "Requirement already satisfied: aiosignal>=1.1.2 in /usr/local/lib/python3.10/dist-packages (from aiohttp<4.0.0,>=3.8.3->langchain) (1.3.1)\n",
            "Requirement already satisfied: idna>=2.8 in /usr/local/lib/python3.10/dist-packages (from anyio<4.0->langchain) (3.4)\n",
            "Requirement already satisfied: sniffio>=1.1 in /usr/local/lib/python3.10/dist-packages (from anyio<4.0->langchain) (1.3.0)\n",
            "Requirement already satisfied: exceptiongroup in /usr/local/lib/python3.10/dist-packages (from anyio<4.0->langchain) (1.1.3)\n",
            "Collecting marshmallow<4.0.0,>=3.18.0 (from dataclasses-json<0.7,>=0.5.7->langchain)\n",
            "  Downloading marshmallow-3.20.1-py3-none-any.whl (49 kB)\n",
            "\u001b[2K     \u001b[90m━━━━━━━━━━━━━━━━━━━━━━━━━━━━━━━━━━━━━━━━\u001b[0m \u001b[32m49.4/49.4 kB\u001b[0m \u001b[31m4.9 MB/s\u001b[0m eta \u001b[36m0:00:00\u001b[0m\n",
            "\u001b[?25hCollecting typing-inspect<1,>=0.4.0 (from dataclasses-json<0.7,>=0.5.7->langchain)\n",
            "  Downloading typing_inspect-0.9.0-py3-none-any.whl (8.8 kB)\n",
            "Collecting starlette<0.28.0,>=0.27.0 (from fastapi>=0.95.2->chromadb)\n",
            "  Downloading starlette-0.27.0-py3-none-any.whl (66 kB)\n",
            "\u001b[2K     \u001b[90m━━━━━━━━━━━━━━━━━━━━━━━━━━━━━━━━━━━━━━━━\u001b[0m \u001b[32m67.0/67.0 kB\u001b[0m \u001b[31m7.0 MB/s\u001b[0m eta \u001b[36m0:00:00\u001b[0m\n",
            "\u001b[?25hCollecting typing-extensions>=4.5.0 (from chromadb)\n",
            "  Downloading typing_extensions-4.8.0-py3-none-any.whl (31 kB)\n",
            "Requirement already satisfied: zipp>=0.5 in /usr/local/lib/python3.10/dist-packages (from importlib_metadata<7.0,>=6.0->cohere) (3.17.0)\n",
            "Collecting jsonpointer>=1.9 (from jsonpatch<2.0,>=1.33->langchain)\n",
            "  Downloading jsonpointer-2.4-py2.py3-none-any.whl (7.8 kB)\n",
            "Requirement already satisfied: certifi>=14.05.14 in /usr/local/lib/python3.10/dist-packages (from kubernetes>=28.1.0->chromadb) (2023.7.22)\n",
            "Requirement already satisfied: six>=1.9.0 in /usr/local/lib/python3.10/dist-packages (from kubernetes>=28.1.0->chromadb) (1.16.0)\n",
            "Requirement already satisfied: python-dateutil>=2.5.3 in /usr/local/lib/python3.10/dist-packages (from kubernetes>=28.1.0->chromadb) (2.8.2)\n",
            "Requirement already satisfied: google-auth>=1.0.1 in /usr/local/lib/python3.10/dist-packages (from kubernetes>=28.1.0->chromadb) (2.17.3)\n",
            "Requirement already satisfied: websocket-client!=0.40.0,!=0.41.*,!=0.42.*,>=0.32.0 in /usr/local/lib/python3.10/dist-packages (from kubernetes>=28.1.0->chromadb) (1.6.4)\n",
            "Requirement already satisfied: requests-oauthlib in /usr/local/lib/python3.10/dist-packages (from kubernetes>=28.1.0->chromadb) (1.3.1)\n",
            "Requirement already satisfied: oauthlib>=3.2.2 in /usr/local/lib/python3.10/dist-packages (from kubernetes>=28.1.0->chromadb) (3.2.2)\n",
            "Collecting urllib3<3,>=1.26 (from cohere)\n",
            "  Downloading urllib3-1.26.18-py2.py3-none-any.whl (143 kB)\n",
            "\u001b[2K     \u001b[90m━━━━━━━━━━━━━━━━━━━━━━━━━━━━━━━━━━━━━━━━\u001b[0m \u001b[32m143.8/143.8 kB\u001b[0m \u001b[31m11.1 MB/s\u001b[0m eta \u001b[36m0:00:00\u001b[0m\n",
            "\u001b[?25hCollecting coloredlogs (from onnxruntime>=1.14.1->chromadb)\n",
            "  Downloading coloredlogs-15.0.1-py2.py3-none-any.whl (46 kB)\n",
            "\u001b[2K     \u001b[90m━━━━━━━━━━━━━━━━━━━━━━━━━━━━━━━━━━━━━━━━\u001b[0m \u001b[32m46.0/46.0 kB\u001b[0m \u001b[31m2.7 MB/s\u001b[0m eta \u001b[36m0:00:00\u001b[0m\n",
            "\u001b[?25hRequirement already satisfied: flatbuffers in /usr/local/lib/python3.10/dist-packages (from onnxruntime>=1.14.1->chromadb) (23.5.26)\n",
            "Requirement already satisfied: packaging in /usr/local/lib/python3.10/dist-packages (from onnxruntime>=1.14.1->chromadb) (23.2)\n",
            "Requirement already satisfied: protobuf in /usr/local/lib/python3.10/dist-packages (from onnxruntime>=1.14.1->chromadb) (3.20.3)\n",
            "Requirement already satisfied: sympy in /usr/local/lib/python3.10/dist-packages (from onnxruntime>=1.14.1->chromadb) (1.12)\n",
            "Collecting deprecated>=1.2.6 (from opentelemetry-api>=1.2.0->chromadb)\n",
            "  Downloading Deprecated-1.2.14-py2.py3-none-any.whl (9.6 kB)\n",
            "Requirement already satisfied: googleapis-common-protos~=1.52 in /usr/local/lib/python3.10/dist-packages (from opentelemetry-exporter-otlp-proto-grpc>=1.2.0->chromadb) (1.61.0)\n",
            "Collecting opentelemetry-exporter-otlp-proto-common==1.21.0 (from opentelemetry-exporter-otlp-proto-grpc>=1.2.0->chromadb)\n",
            "  Downloading opentelemetry_exporter_otlp_proto_common-1.21.0-py3-none-any.whl (17 kB)\n",
            "Collecting opentelemetry-proto==1.21.0 (from opentelemetry-exporter-otlp-proto-grpc>=1.2.0->chromadb)\n",
            "  Downloading opentelemetry_proto-1.21.0-py3-none-any.whl (50 kB)\n",
            "\u001b[2K     \u001b[90m━━━━━━━━━━━━━━━━━━━━━━━━━━━━━━━━━━━━━━━━\u001b[0m \u001b[32m50.8/50.8 kB\u001b[0m \u001b[31m4.1 MB/s\u001b[0m eta \u001b[36m0:00:00\u001b[0m\n",
            "\u001b[?25hCollecting opentelemetry-semantic-conventions==0.42b0 (from opentelemetry-sdk>=1.2.0->chromadb)\n",
            "  Downloading opentelemetry_semantic_conventions-0.42b0-py3-none-any.whl (36 kB)\n",
            "Collecting monotonic>=1.5 (from posthog>=2.4.0->chromadb)\n",
            "  Downloading monotonic-1.6-py2.py3-none-any.whl (8.2 kB)\n",
            "Requirement already satisfied: greenlet!=0.4.17 in /usr/local/lib/python3.10/dist-packages (from SQLAlchemy<3,>=1.4->langchain) (3.0.1)\n",
            "Requirement already satisfied: huggingface_hub<1.0,>=0.16.4 in /usr/local/lib/python3.10/dist-packages (from tokenizers>=0.13.2->chromadb) (0.19.3)\n",
            "Requirement already satisfied: click<9.0.0,>=7.1.1 in /usr/local/lib/python3.10/dist-packages (from typer>=0.9.0->chromadb) (8.1.7)\n",
            "Collecting h11>=0.8 (from uvicorn[standard]>=0.18.3->chromadb)\n",
            "  Downloading h11-0.14.0-py3-none-any.whl (58 kB)\n",
            "\u001b[2K     \u001b[90m━━━━━━━━━━━━━━━━━━━━━━━━━━━━━━━━━━━━━━━━\u001b[0m \u001b[32m58.3/58.3 kB\u001b[0m \u001b[31m6.1 MB/s\u001b[0m eta \u001b[36m0:00:00\u001b[0m\n",
            "\u001b[?25hCollecting httptools>=0.5.0 (from uvicorn[standard]>=0.18.3->chromadb)\n",
            "  Downloading httptools-0.6.1-cp310-cp310-manylinux_2_5_x86_64.manylinux1_x86_64.manylinux_2_17_x86_64.manylinux2014_x86_64.whl (341 kB)\n",
            "\u001b[2K     \u001b[90m━━━━━━━━━━━━━━━━━━━━━━━━━━━━━━━━━━━━━━━━\u001b[0m \u001b[32m341.4/341.4 kB\u001b[0m \u001b[31m32.8 MB/s\u001b[0m eta \u001b[36m0:00:00\u001b[0m\n",
            "\u001b[?25hCollecting python-dotenv>=0.13 (from uvicorn[standard]>=0.18.3->chromadb)\n",
            "  Downloading python_dotenv-1.0.0-py3-none-any.whl (19 kB)\n",
            "Collecting uvloop!=0.15.0,!=0.15.1,>=0.14.0 (from uvicorn[standard]>=0.18.3->chromadb)\n",
            "  Downloading uvloop-0.19.0-cp310-cp310-manylinux_2_17_x86_64.manylinux2014_x86_64.whl (3.4 MB)\n",
            "\u001b[2K     \u001b[90m━━━━━━━━━━━━━━━━━━━━━━━━━━━━━━━━━━━━━━━━\u001b[0m \u001b[32m3.4/3.4 MB\u001b[0m \u001b[31m62.8 MB/s\u001b[0m eta \u001b[36m0:00:00\u001b[0m\n",
            "\u001b[?25hCollecting watchfiles>=0.13 (from uvicorn[standard]>=0.18.3->chromadb)\n",
            "  Downloading watchfiles-0.21.0-cp310-cp310-manylinux_2_17_x86_64.manylinux2014_x86_64.whl (1.3 MB)\n",
            "\u001b[2K     \u001b[90m━━━━━━━━━━━━━━━━━━━━━━━━━━━━━━━━━━━━━━━━\u001b[0m \u001b[32m1.3/1.3 MB\u001b[0m \u001b[31m54.7 MB/s\u001b[0m eta \u001b[36m0:00:00\u001b[0m\n",
            "\u001b[?25hCollecting websockets>=10.4 (from uvicorn[standard]>=0.18.3->chromadb)\n",
            "  Downloading websockets-12.0-cp310-cp310-manylinux_2_5_x86_64.manylinux1_x86_64.manylinux_2_17_x86_64.manylinux2014_x86_64.whl (130 kB)\n",
            "\u001b[2K     \u001b[90m━━━━━━━━━━━━━━━━━━━━━━━━━━━━━━━━━━━━━━━━\u001b[0m \u001b[32m130.2/130.2 kB\u001b[0m \u001b[31m12.4 MB/s\u001b[0m eta \u001b[36m0:00:00\u001b[0m\n",
            "\u001b[?25hRequirement already satisfied: wrapt<2,>=1.10 in /usr/local/lib/python3.10/dist-packages (from deprecated>=1.2.6->opentelemetry-api>=1.2.0->chromadb) (1.14.1)\n",
            "Requirement already satisfied: cachetools<6.0,>=2.0.0 in /usr/local/lib/python3.10/dist-packages (from google-auth>=1.0.1->kubernetes>=28.1.0->chromadb) (5.3.2)\n",
            "Requirement already satisfied: pyasn1-modules>=0.2.1 in /usr/local/lib/python3.10/dist-packages (from google-auth>=1.0.1->kubernetes>=28.1.0->chromadb) (0.3.0)\n",
            "Requirement already satisfied: rsa<5,>=3.1.4 in /usr/local/lib/python3.10/dist-packages (from google-auth>=1.0.1->kubernetes>=28.1.0->chromadb) (4.9)\n",
            "Requirement already satisfied: filelock in /usr/local/lib/python3.10/dist-packages (from huggingface_hub<1.0,>=0.16.4->tokenizers>=0.13.2->chromadb) (3.13.1)\n",
            "Requirement already satisfied: fsspec>=2023.5.0 in /usr/local/lib/python3.10/dist-packages (from huggingface_hub<1.0,>=0.16.4->tokenizers>=0.13.2->chromadb) (2023.6.0)\n",
            "Collecting mypy-extensions>=0.3.0 (from typing-inspect<1,>=0.4.0->dataclasses-json<0.7,>=0.5.7->langchain)\n",
            "  Downloading mypy_extensions-1.0.0-py3-none-any.whl (4.7 kB)\n",
            "Collecting humanfriendly>=9.1 (from coloredlogs->onnxruntime>=1.14.1->chromadb)\n",
            "  Downloading humanfriendly-10.0-py2.py3-none-any.whl (86 kB)\n",
            "\u001b[2K     \u001b[90m━━━━━━━━━━━━━━━━━━━━━━━━━━━━━━━━━━━━━━━━\u001b[0m \u001b[32m86.8/86.8 kB\u001b[0m \u001b[31m9.2 MB/s\u001b[0m eta \u001b[36m0:00:00\u001b[0m\n",
            "\u001b[?25hRequirement already satisfied: mpmath>=0.19 in /usr/local/lib/python3.10/dist-packages (from sympy->onnxruntime>=1.14.1->chromadb) (1.3.0)\n",
            "Requirement already satisfied: pyasn1<0.6.0,>=0.4.6 in /usr/local/lib/python3.10/dist-packages (from pyasn1-modules>=0.2.1->google-auth>=1.0.1->kubernetes>=28.1.0->chromadb) (0.5.0)\n",
            "Building wheels for collected packages: pypika\n",
            "  Building wheel for pypika (pyproject.toml) ... \u001b[?25l\u001b[?25hdone\n",
            "  Created wheel for pypika: filename=PyPika-0.48.9-py2.py3-none-any.whl size=53723 sha256=f1781b13600dd617382058501b297ed921674aa6425087c7395818701c7d91d7\n",
            "  Stored in directory: /root/.cache/pip/wheels/e1/26/51/d0bffb3d2fd82256676d7ad3003faea3bd6dddc9577af665f4\n",
            "Successfully built pypika\n",
            "Installing collected packages: pypika, monotonic, websockets, uvloop, urllib3, typing-extensions, python-dotenv, pulsar-client, overrides, opentelemetry-semantic-conventions, opentelemetry-proto, mypy-extensions, marshmallow, jsonpointer, humanfriendly, httptools, h11, fastavro, deprecated, chroma-hnswlib, bcrypt, backoff, watchfiles, uvicorn, typing-inspect, starlette, opentelemetry-exporter-otlp-proto-common, opentelemetry-api, jsonpatch, coloredlogs, posthog, opentelemetry-sdk, onnxruntime, langsmith, fastapi, dataclasses-json, cohere, opentelemetry-exporter-otlp-proto-grpc, langchain, kubernetes, chromadb\n",
            "  Attempting uninstall: urllib3\n",
            "    Found existing installation: urllib3 2.0.7\n",
            "    Uninstalling urllib3-2.0.7:\n",
            "      Successfully uninstalled urllib3-2.0.7\n",
            "  Attempting uninstall: typing-extensions\n",
            "    Found existing installation: typing_extensions 4.5.0\n",
            "    Uninstalling typing_extensions-4.5.0:\n",
            "      Successfully uninstalled typing_extensions-4.5.0\n",
            "\u001b[31mERROR: pip's dependency resolver does not currently take into account all the packages that are installed. This behaviour is the source of the following dependency conflicts.\n",
            "lida 0.0.10 requires kaleido, which is not installed.\n",
            "lida 0.0.10 requires python-multipart, which is not installed.\n",
            "llmx 0.0.15a0 requires openai, which is not installed.\n",
            "llmx 0.0.15a0 requires tiktoken, which is not installed.\n",
            "tensorflow-probability 0.22.0 requires typing-extensions<4.6.0, but you have typing-extensions 4.8.0 which is incompatible.\u001b[0m\u001b[31m\n",
            "\u001b[0mSuccessfully installed backoff-2.2.1 bcrypt-4.0.1 chroma-hnswlib-0.7.3 chromadb-0.4.17 cohere-4.35 coloredlogs-15.0.1 dataclasses-json-0.6.2 deprecated-1.2.14 fastapi-0.104.1 fastavro-1.8.2 h11-0.14.0 httptools-0.6.1 humanfriendly-10.0 jsonpatch-1.33 jsonpointer-2.4 kubernetes-28.1.0 langchain-0.0.337 langsmith-0.0.65 marshmallow-3.20.1 monotonic-1.6 mypy-extensions-1.0.0 onnxruntime-1.16.2 opentelemetry-api-1.21.0 opentelemetry-exporter-otlp-proto-common-1.21.0 opentelemetry-exporter-otlp-proto-grpc-1.21.0 opentelemetry-proto-1.21.0 opentelemetry-sdk-1.21.0 opentelemetry-semantic-conventions-0.42b0 overrides-7.4.0 posthog-3.0.2 pulsar-client-3.3.0 pypika-0.48.9 python-dotenv-1.0.0 starlette-0.27.0 typing-extensions-4.8.0 typing-inspect-0.9.0 urllib3-1.26.18 uvicorn-0.24.0.post1 uvloop-0.19.0 watchfiles-0.21.0 websockets-12.0\n"
          ]
        }
      ]
    },
    {
      "cell_type": "code",
      "source": [
        "from langchain.embeddings import CohereEmbeddings"
      ],
      "metadata": {
        "id": "YeA1vi2LqgIZ"
      },
      "execution_count": 19,
      "outputs": []
    },
    {
      "cell_type": "code",
      "source": [
        "embeddings = CohereEmbeddings(cohere_api_key=cohere_api_key)"
      ],
      "metadata": {
        "id": "CfpcUoBI00T_"
      },
      "execution_count": 20,
      "outputs": []
    },
    {
      "cell_type": "code",
      "source": [
        "from langchain.chat_models import ChatCohere\n",
        "chat = ChatCohere(cohere_api_key=cohere_api_key)"
      ],
      "metadata": {
        "id": "M0kfuGECB7qN"
      },
      "execution_count": 21,
      "outputs": []
    },
    {
      "cell_type": "code",
      "source": [
        "import csv\n",
        "\n",
        "csv_file = open('/content/chunked_tafsir.csv')\n",
        "csv_reader = csv.reader(csv_file)\n",
        "csv_data = list(csv_reader)\n",
        "\n",
        "parsed_data = [{\n",
        "    \"Surah\": x[1],\n",
        "    \"Aya\": x[2],\n",
        "    \"Tafsir\": x[3],\n",
        "} for x in csv_data]"
      ],
      "metadata": {
        "id": "lTa5mlnl1X-Q"
      },
      "execution_count": 6,
      "outputs": []
    },
    {
      "cell_type": "code",
      "source": [
        "from langchain.vectorstores import Chroma\n",
        "from langchain.prompts import PromptTemplate\n",
        "\n",
        "#Loading the tafsir into the vector database\n",
        "docsearch = Chroma.from_texts(\n",
        "    [x[\"Tafsir\"] for x in parsed_data],\n",
        "    embeddings,\n",
        "    metadatas=parsed_data).as_retriever()"
      ],
      "metadata": {
        "id": "WIqTfABd6uYw"
      },
      "execution_count": 7,
      "outputs": []
    },
    {
      "cell_type": "markdown",
      "source": [
        "\n",
        "\n",
        "```\n",
        "You are a helpful muslim at the masjid, providing very short wise words to fellow muslims.\n",
        "When spoken to, your response should depend exclusively on tafsirs here: {context}\n",
        "You speak at most one sentence.\n",
        "\n",
        "Provide the proper islamic concepts based on the user's situation: {message}\n",
        "```\n",
        "\n"
      ],
      "metadata": {
        "id": "uQUFkptCoa5I"
      }
    },
    {
      "cell_type": "markdown",
      "source": [
        "\n",
        "\n",
        "```\n",
        "For each page_content, finish the sentence: \"You may be interested in this verse because it is about....\"\n",
        "\n",
        "Your objective is to very briefly explain WHY a user searching {message} may be interested in that page_content.\n",
        "\n",
        "Put each page_content's sentence explanation into a python list.\n",
        "If there are N page_contents then there MUST BE N explanations!\n",
        "Ensure len(python_list)==N\n",
        "Here are the Documents containing N page_contents: {context}\n",
        "\n",
        "DO NOT RETURN ANYTHING OTHER THAN THE PYTHON LIST CONTAINING THE N STRING VALUES!!!  \n",
        "```\n",
        "\n"
      ],
      "metadata": {
        "id": "QxK77rJOveRi"
      }
    },
    {
      "cell_type": "code",
      "source": [
        "r = docsearch.get_relevant_documents(\"Charity\")\n",
        "doc_dic = {}\n",
        "documentsDocs = []\n",
        "for docs in r:\n",
        "    Document(\n",
        "    page_content= docs.metadata['Tafsir'],\n",
        "    metadata= {\"source\": (docs.metadata['Surah'], docs.metadata['Aya'])}\n",
        "    )\n",
        "  # print(docs.metadata['Surah'])\n",
        "  # print()\n",
        "\n",
        "    documentsDocs.append(Document)\n",
        "\n"
      ],
      "metadata": {
        "id": "Ww2qXIdp-z8g"
      },
      "execution_count": 116,
      "outputs": []
    },
    {
      "cell_type": "code",
      "source": [
        "documentsDocs"
      ],
      "metadata": {
        "colab": {
          "base_uri": "https://localhost:8080/"
        },
        "id": "-DZT7g_v_bIl",
        "outputId": "608aaa34-b7e3-4919-ae1a-e8ad408676c4"
      },
      "execution_count": 151,
      "outputs": [
        {
          "output_type": "execute_result",
          "data": {
            "text/plain": [
              "[langchain.schema.document.Document,\n",
              " langchain.schema.document.Document,\n",
              " langchain.schema.document.Document,\n",
              " langchain.schema.document.Document]"
            ]
          },
          "metadata": {},
          "execution_count": 151
        }
      ]
    },
    {
      "cell_type": "code",
      "source": [
        "from langchain.chains.summarize import load_summarize_chain\n",
        "from langchain.prompts import ChatPromptTemplate\n",
        "from langchain.chat_models import ChatCohere\n",
        "\n",
        "llm = ChatCohere(cohere_api_key=cohere_api_key)\n",
        "chain_type = \"map_reduce\"\n",
        "\n",
        "chain = load_summarize_chain(llm, chain_type=chain_type, verbose=False)\n",
        "\n",
        "prompt = ChatPromptTemplate.from_template(\"\"\"\n",
        "A user searches \"{message}\" and the following result comes up: {context}\n",
        "\n",
        "Your job is to summarize this result in relation to the user's search into ONE sentence.\n",
        "\n",
        "Only respond with the sentence and nothing else.\n",
        "\"\"\")\n",
        "\n",
        "\n",
        "chain = prompt | chat\n",
        "query = \"I am interested in about the role of parents.\"\n",
        "documents = docsearch.get_relevant_documents(query)\n",
        "\n",
        "\n",
        "chain.batch([{\"message\": query, \"context\": documents[0]}, {\"message\": query, \"context\":documents[1]}, {\"message\": query, \"context\":documents[2]}])\n"
      ],
      "metadata": {
        "colab": {
          "base_uri": "https://localhost:8080/"
        },
        "id": "NwZvKyP7G6mv",
        "outputId": "9a15f501-33b2-42d3-e55b-8a576e240dec"
      },
      "execution_count": 207,
      "outputs": [
        {
          "output_type": "execute_result",
          "data": {
            "text/plain": [
              "[AIMessage(content='The role of parents is paramount as outlined by Islamic texts, which emphasize the importance of being kind and dutiful to parents, along with worshiping Allah alone and being charitable. Commands to treat parents well are mentioned in the Quran, and Prophet Muhammad emphasized the importance of this duty as well. \\n\\nWould you like me to expand on any of the points related to the role of parents as outlined by Islamic texts?'),\n",
              " AIMessage(content='According to the majority of scholars, Ibn Jarir, and Ath-Thawri, parents must consult with each other on all major decisions pertaining to their child rearing, especially in regards to weaning, as stated in Surah 2, Aya 233 of the Quran. \\n\\nWould you like to know more about the Quran?'),\n",
              " AIMessage(content=\"The Hadith warns against extravagance and miserliness when spending orphans' money but encourages spending it wisely. It also instructs the guardian of an orphan to return the orphan's property once they reach adulthood, in the presence of witnesses, with Allah as the ultimate Witness.\")]"
            ]
          },
          "metadata": {},
          "execution_count": 207
        }
      ]
    },
    {
      "cell_type": "code",
      "source": [
        "from langchain.chains.question_answering import load_qa_chain\n",
        "from langchain.chains import LLMChain\n",
        "import requests\n",
        "\n",
        "# Reference the quran verse(s): ({surah}:{aya})\n",
        "prompt_template = \"\"\"\n",
        "A user googles \"{message}\" and the following N results comes up: {context}\n",
        "\n",
        "Your job is to summarize EACH result in relation to the user's google search into ONE sentence.\n",
        "\n",
        "Only summarize each result and do nothing else\n",
        "\n",
        "\"\"\"\n",
        "\n",
        "PROMPT = PromptTemplate(\n",
        "    template=prompt_template, input_variables=['context', 'message']\n",
        ")\n",
        "\n",
        "verse_rec_chain = (\n",
        "    {\n",
        "        \"input_documents\": lambda x: docsearch.get_relevant_documents(x[\"message\"]),\n",
        "        \"message\": lambda x: x[\"message\"],\n",
        "    }\n",
        "    | load_qa_chain(chat, chain_type=\"stuff\", prompt=PROMPT)\n",
        ")\n",
        "\n",
        "query = \"I am interested in about the role of parents.\"\n",
        "result = verse_rec_chain.invoke({\"message\": query})\n",
        "print(result)"
      ],
      "metadata": {
        "colab": {
          "base_uri": "https://localhost:8080/"
        },
        "id": "bWeCwvHgBKPY",
        "outputId": "11a3d309-6a86-4a2e-a0f8-39ed16b591f2"
      },
      "execution_count": 127,
      "outputs": [
        {
          "output_type": "stream",
          "name": "stdout",
          "text": [
            "{'input_documents': [Document(page_content='And (remember) when We took a covenant from the Children of Israel, (saying): Worship none but Allah (alone) and be dutiful and good to parents, and to kindred, and to orphans and (the poor), and speak good to people and perform As-Salah and give Zakah Then you slid back, except a few of you, while you are backsliders. The Covenant that Allah took from the Children of Israel..Allah reminded the Children of Israel of the commandments that He gave them, and the covenants that He took from them to abide by those commands, and how they intentionally and knowingly turned away from all of that Allah commanded them to worship Him and to associate none with Him in worship, just as He has commanded all of His creatures, for this is why Allah created them Allah said, \"And We did not send any Messenger before you (O Muhammad .\" but We revealed to him (saying): La ilaha illa Ana none has the right to be worshipped but I (Allah), so worship Me (alone and none else)) (21:25), and, \"And verily, We have sent among every Ummah (community, nation.\" a Messenger (proclaiming): \"Worship Allah (alone), and avoid the Taghut (all false deities,)) (16:36)..This is the highest and most important right, that is, Allahs right that He be worshipped alone without partners..After that comes the right of the creatures, foremost, the right of the parents Allah usually mentions the rights of the parents along with His rights For instance, Allah said, \"Give thanks to Me and to your parents Unto Me is the final destination.\" (31:14) Also, Allah said, \"And your Lord has decreed that you worship none but Him And that you be dutiful to your parents.\" (17:23), until, \"And give to the kinsman his due and to the Miskin (poor.\" and to the wayfarer) (17:26) The Two Sahihs record that Ibn Mas`ud said, : : : : : : \"I said, `O Messenger of Allah! What is the best deed He said, `Performing the prayer on time I said, Then what He said, `Being kind to ones parents I said, `Then what He said, `Jihad in the cause of Allah..\".Allah then said, \"and to orphans.\" meaning, the young who have no fathers to fend for them. \"and Al-Masakin (the poor.\"), plural for Miskin, the one who does not find what he needs to spend on himself and his family We will discuss these categories when we explain the Ayah of Surat An-Nisa` where Allah said, \"Worship Allah and join none with Him (in worship.\"; and do good to parents) (4:36)..Allahs statement, \"and speak good to people.\" meaning, say good words to them and be lenient with them, this includes commanding good and forbidding evil Al-Hasan Al-Basri commented on Allahs statement, \"and speak good to people.\", \".`The good saying means commanding good and forbidding evil, and being patient and forgiving The `good words to people, as Allah commanded, also includes every good type of behavior that Allah is pleased with Imam', metadata={'Aya': '83', 'Surah': '2', 'Tafsir': 'And (remember) when We took a covenant from the Children of Israel, (saying): Worship none but Allah (alone) and be dutiful and good to parents, and to kindred, and to orphans and (the poor), and speak good to people and perform As-Salah and give Zakah Then you slid back, except a few of you, while you are backsliders. The Covenant that Allah took from the Children of Israel..Allah reminded the Children of Israel of the commandments that He gave them, and the covenants that He took from them to abide by those commands, and how they intentionally and knowingly turned away from all of that Allah commanded them to worship Him and to associate none with Him in worship, just as He has commanded all of His creatures, for this is why Allah created them Allah said, \"And We did not send any Messenger before you (O Muhammad .\" but We revealed to him (saying): La ilaha illa Ana none has the right to be worshipped but I (Allah), so worship Me (alone and none else)) (21:25), and, \"And verily, We have sent among every Ummah (community, nation.\" a Messenger (proclaiming): \"Worship Allah (alone), and avoid the Taghut (all false deities,)) (16:36)..This is the highest and most important right, that is, Allahs right that He be worshipped alone without partners..After that comes the right of the creatures, foremost, the right of the parents Allah usually mentions the rights of the parents along with His rights For instance, Allah said, \"Give thanks to Me and to your parents Unto Me is the final destination.\" (31:14) Also, Allah said, \"And your Lord has decreed that you worship none but Him And that you be dutiful to your parents.\" (17:23), until, \"And give to the kinsman his due and to the Miskin (poor.\" and to the wayfarer) (17:26) The Two Sahihs record that Ibn Mas`ud said, : : : : : : \"I said, `O Messenger of Allah! What is the best deed He said, `Performing the prayer on time I said, Then what He said, `Being kind to ones parents I said, `Then what He said, `Jihad in the cause of Allah..\".Allah then said, \"and to orphans.\" meaning, the young who have no fathers to fend for them. \"and Al-Masakin (the poor.\"), plural for Miskin, the one who does not find what he needs to spend on himself and his family We will discuss these categories when we explain the Ayah of Surat An-Nisa` where Allah said, \"Worship Allah and join none with Him (in worship.\"; and do good to parents) (4:36)..Allahs statement, \"and speak good to people.\" meaning, say good words to them and be lenient with them, this includes commanding good and forbidding evil Al-Hasan Al-Basri commented on Allahs statement, \"and speak good to people.\", \".`The good saying means commanding good and forbidding evil, and being patient and forgiving The `good words to people, as Allah commanded, also includes every good type of behavior that Allah is pleased with Imam'}), Document(page_content='rights and refrain from harming her, according to the Tafsir of the majority of the scholars We should state that Ibn Jarir has explained this subject in detail in his Tafsir and that he also stated that suckling the child after the second year might harm the childs body and mind Sufyan Ath-Thawri narrated that `Alqamah asked a woman who was suckling her child after the second year ended, not to do that. Fitam (weaning) occurs by Mutual Consent..Allah said: \"If they both decide on weaning, by mutual consent, and after due consultation, there is no sin on them..\".This Ayah indicates that if the father and the mother decide on the Fitam (weaning) before the two years (of suckling) end, and for a benefit that they duly discuss and agree upon, then there is no sin in this case So, the Ayah indicates that one parent is not allowed to make this kind of decision without duly consulting the other parent, as stated by Ath-Thawri The method of mutual consultation protects the childs interests It is also a mercy from Allah to His servants, for He has legislated the best method for parents to rear their children, and His legislation guides and directs the parents and the children to success Similarly, Allah said in Surat At-Talaq (chapter 65 in the Quran): \"Then if they give suck to the children for you, give them their due payment, and let each of you accept the advice of the other in a just way But if you make difficulties for one another, then some other woman may give suck for him (the father of the child.\".) (65:6).Allah then said: \"And if you decide on a foster suckling-mother for your children, there is no sin on you, provided you pay (the mother.\" what you agreed (to give her) on a reasonable basis.) meaning, if the mother and the father both agree that the father assumes custody of the child due to a circumstance that compels her or allows him to do so, then there is no sin in this case Hence, the mother is allowed to give up the child and the father is allowed to assume custody of the child The father should kindly give the mother her expenses for the previous period (during which she reared and suckled the child), and he should seek other women to suckle his child for monetary compensation Thereafter, Allah said: \"And fear Allah.\" meaning, in all of your affairs, \"And know that Allah is All-Seer of what you do..\" meaning, none of your affairs or speech escapes His perfect Watch..', metadata={'Aya': '233', 'Surah': '2', 'Tafsir': 'rights and refrain from harming her, according to the Tafsir of the majority of the scholars We should state that Ibn Jarir has explained this subject in detail in his Tafsir and that he also stated that suckling the child after the second year might harm the childs body and mind Sufyan Ath-Thawri narrated that `Alqamah asked a woman who was suckling her child after the second year ended, not to do that. Fitam (weaning) occurs by Mutual Consent..Allah said: \"If they both decide on weaning, by mutual consent, and after due consultation, there is no sin on them..\".This Ayah indicates that if the father and the mother decide on the Fitam (weaning) before the two years (of suckling) end, and for a benefit that they duly discuss and agree upon, then there is no sin in this case So, the Ayah indicates that one parent is not allowed to make this kind of decision without duly consulting the other parent, as stated by Ath-Thawri The method of mutual consultation protects the childs interests It is also a mercy from Allah to His servants, for He has legislated the best method for parents to rear their children, and His legislation guides and directs the parents and the children to success Similarly, Allah said in Surat At-Talaq (chapter 65 in the Quran): \"Then if they give suck to the children for you, give them their due payment, and let each of you accept the advice of the other in a just way But if you make difficulties for one another, then some other woman may give suck for him (the father of the child.\".) (65:6).Allah then said: \"And if you decide on a foster suckling-mother for your children, there is no sin on you, provided you pay (the mother.\" what you agreed (to give her) on a reasonable basis.) meaning, if the mother and the father both agree that the father assumes custody of the child due to a circumstance that compels her or allows him to do so, then there is no sin in this case Hence, the mother is allowed to give up the child and the father is allowed to assume custody of the child The father should kindly give the mother her expenses for the previous period (during which she reared and suckled the child), and he should seek other women to suckle his child for monetary compensation Thereafter, Allah said: \"And fear Allah.\" meaning, in all of your affairs, \"And know that Allah is All-Seer of what you do..\" meaning, none of your affairs or speech escapes His perfect Watch..'}), Document(page_content='collected this Hadith Imam Ahmad recorded that `Amr bin Shu`ayb said that his father said that his father told him that a man asked the Messenger of Allah , \"I do not have money, but I have an orphan under my care The Messenger said, \"Eat from your orphans wealth without extravagance or wastefulness, or mixing it, and without saving your money by spending his..\" Allah said, \"And when you release their property to them..\" after they become adults, and you see that they are wise, then, \"take a witness in their presence;.\" Allah commands the guardians of orphans to surrender the property of the orphans who become consenting adults, in the presence of witnesses, so that none of them denies the fact that he received his money Allah said next, \"and Allah is All-Sufficient in taking account..\" meaning, Allah is sufficient as Witness, Reckoner and Watcher over their work for orphans, and when they surrender their money to them, whether their property was complete and whole, or deficient and less Indeed, Allah knows all of that In his Sahih, Muslim recorded that the Messenger of Allah said, \"O Abu Dharr! Verily, you are weak, and I love for you what I love for myself Do not become a leader of two nor assume guardianship of an orphans property..\".', metadata={'Aya': '5,6', 'Surah': '4', 'Tafsir': 'collected this Hadith Imam Ahmad recorded that `Amr bin Shu`ayb said that his father said that his father told him that a man asked the Messenger of Allah , \"I do not have money, but I have an orphan under my care The Messenger said, \"Eat from your orphans wealth without extravagance or wastefulness, or mixing it, and without saving your money by spending his..\" Allah said, \"And when you release their property to them..\" after they become adults, and you see that they are wise, then, \"take a witness in their presence;.\" Allah commands the guardians of orphans to surrender the property of the orphans who become consenting adults, in the presence of witnesses, so that none of them denies the fact that he received his money Allah said next, \"and Allah is All-Sufficient in taking account..\" meaning, Allah is sufficient as Witness, Reckoner and Watcher over their work for orphans, and when they surrender their money to them, whether their property was complete and whole, or deficient and less Indeed, Allah knows all of that In his Sahih, Muslim recorded that the Messenger of Allah said, \"O Abu Dharr! Verily, you are weak, and I love for you what I love for myself Do not become a leader of two nor assume guardianship of an orphans property..\".'}), Document(page_content='Worship Allah and join none with Him in worship, and do good to parents, kinsfolk, orphans, the poor, the neighbor who is near of kin, the neighbor who is a stranger, the companion by your side, the wayfarer (you meet), and those (slaves) whom your right hands possess Verily, Allah does not like such as are proud and boastful..The Order to Worship Allah Alone and to Be Dutiful to Parents.Allah orders that He be worshipped Alone without partners, because He Alone is the Creator and Sustainer Who sends His favors and bounties on His creation in all situations and instances Therefore He deserves to be singled out, without associating anything or anyone from His creation with Him in worship Indeed, the Prophet said to Mu`adh, \"Do you know what Allahs right on His servants is.\" Mu`adh replied, \"Allah and His Messenger know better He said, \"That they should worship Him and should not worship any others with Him..\" The Prophet then said, \"Do you know what the right of the servants on Allah is if they do this He should not punish them..\" Allah then commands the servants to be dutiful to their parents, for Allah made parents the reason for the servants to come to existence, after they did not exist Allah joins the order to worship Him with being dutiful to parents in many places For example, He said, \"give thanks to Me and to your parents.\", and, \"And your Lord has decreed that you worship none but Him And that you be dutiful to your parents.\" After Allah ordained being dutiful to parents, He ordained kind treatment of relatives, males and females A Hadith states, \"Charity given to the poor is Sadaqah, while charity given to relatives is both Sadaqah and Silah (keeping the relations.\".) Allah then said, \"orphans.\", because they lost their caretakers who would spend on them So Allah commands that the orphans be treated with kindness and compassion Allah then said, \"Al-Masakin (the poor.\") who have various needs and cannot find what sustains these needs Therefore, Allah commands they should be helped in acquiring their needs in a sufficient manner that will end their inadequacy We will further elaborate on the matter of the destitute and the poor in Surah Barah (9:60). The Right of the Neighbor.Allah said, \"the neighbor who is near of kin, the neighbor who is a stranger.\" `Ali bin Abi Talhah said that Ibn `Abbas said that, \"the neighbor who is near of kin.\" means, \"The neighbor who is also a relative, while, \"The neighbor who is a stranger.\" means, \"Who is not a relative It was also reported that `Ikrimah, Mujahid, Maymun bin Mihran, Ad-Dahhak, Zayd bin Aslam, Muqatil bin Hayyan and Qatadah said similarly Mujahid was also reported to have said that Allahs statement, \"the neighbor who is a stranger.\" means, \"The companion during travel There are many Hadiths that command kind treatment to the neighbors, and we will mention some of them here with Allahs help The', metadata={'Aya': '36', 'Surah': '4', 'Tafsir': 'Worship Allah and join none with Him in worship, and do good to parents, kinsfolk, orphans, the poor, the neighbor who is near of kin, the neighbor who is a stranger, the companion by your side, the wayfarer (you meet), and those (slaves) whom your right hands possess Verily, Allah does not like such as are proud and boastful..The Order to Worship Allah Alone and to Be Dutiful to Parents.Allah orders that He be worshipped Alone without partners, because He Alone is the Creator and Sustainer Who sends His favors and bounties on His creation in all situations and instances Therefore He deserves to be singled out, without associating anything or anyone from His creation with Him in worship Indeed, the Prophet said to Mu`adh, \"Do you know what Allahs right on His servants is.\" Mu`adh replied, \"Allah and His Messenger know better He said, \"That they should worship Him and should not worship any others with Him..\" The Prophet then said, \"Do you know what the right of the servants on Allah is if they do this He should not punish them..\" Allah then commands the servants to be dutiful to their parents, for Allah made parents the reason for the servants to come to existence, after they did not exist Allah joins the order to worship Him with being dutiful to parents in many places For example, He said, \"give thanks to Me and to your parents.\", and, \"And your Lord has decreed that you worship none but Him And that you be dutiful to your parents.\" After Allah ordained being dutiful to parents, He ordained kind treatment of relatives, males and females A Hadith states, \"Charity given to the poor is Sadaqah, while charity given to relatives is both Sadaqah and Silah (keeping the relations.\".) Allah then said, \"orphans.\", because they lost their caretakers who would spend on them So Allah commands that the orphans be treated with kindness and compassion Allah then said, \"Al-Masakin (the poor.\") who have various needs and cannot find what sustains these needs Therefore, Allah commands they should be helped in acquiring their needs in a sufficient manner that will end their inadequacy We will further elaborate on the matter of the destitute and the poor in Surah Barah (9:60). The Right of the Neighbor.Allah said, \"the neighbor who is near of kin, the neighbor who is a stranger.\" `Ali bin Abi Talhah said that Ibn `Abbas said that, \"the neighbor who is near of kin.\" means, \"The neighbor who is also a relative, while, \"The neighbor who is a stranger.\" means, \"Who is not a relative It was also reported that `Ikrimah, Mujahid, Maymun bin Mihran, Ad-Dahhak, Zayd bin Aslam, Muqatil bin Hayyan and Qatadah said similarly Mujahid was also reported to have said that Allahs statement, \"the neighbor who is a stranger.\" means, \"The companion during travel There are many Hadiths that command kind treatment to the neighbors, and we will mention some of them here with Allahs help The'})], 'message': 'I am interested in about the role of parents.', 'output_text': \"Result 1: Allah commands us to worship him alone and to be dutiful and good to our parents, along with other kin, the orphans, the poor, and our neighbors. \\n\\nResult 2: Ibn Mas'ud said that the best deed is to pray on time, and the next best deed is to be kind to one's parents. Weaning a child after 2 years of age is permissible if both parents consent, otherwise it is forbidden. \\n\\nResult 3: Charity given to relatives is considered both sadaqah and silah (keeping relations). \\n\\nResult 4: Allah commands us to worship him alone and to be dutiful to our parents. Additionally, we are to treat orphans and the poor with kindness once we gain possession of their property. \\n\\nResult 5: Allah commands us to abstain from pride and boastfulness, to worship him alone, and to be kind to our parents, relatives, orphans, the poor, and our neighbors. \\n\\nWould you like help with anything else regarding the search results?\"}\n"
          ]
        }
      ]
    },
    {
      "cell_type": "code",
      "source": [
        "print(result['output_text'])"
      ],
      "metadata": {
        "colab": {
          "base_uri": "https://localhost:8080/"
        },
        "id": "isBNqUwUcM18",
        "outputId": "3e5ae67d-85be-4294-83e3-9dba46b06e6e"
      },
      "execution_count": 128,
      "outputs": [
        {
          "output_type": "stream",
          "name": "stdout",
          "text": [
            "Result 1: Allah commands us to worship him alone and to be dutiful and good to our parents, along with other kin, the orphans, the poor, and our neighbors. \n",
            "\n",
            "Result 2: Ibn Mas'ud said that the best deed is to pray on time, and the next best deed is to be kind to one's parents. Weaning a child after 2 years of age is permissible if both parents consent, otherwise it is forbidden. \n",
            "\n",
            "Result 3: Charity given to relatives is considered both sadaqah and silah (keeping relations). \n",
            "\n",
            "Result 4: Allah commands us to worship him alone and to be dutiful to our parents. Additionally, we are to treat orphans and the poor with kindness once we gain possession of their property. \n",
            "\n",
            "Result 5: Allah commands us to abstain from pride and boastfulness, to worship him alone, and to be kind to our parents, relatives, orphans, the poor, and our neighbors. \n",
            "\n",
            "Would you like help with anything else regarding the search results?\n"
          ]
        }
      ]
    },
    {
      "cell_type": "code",
      "source": [
        "n_docs = 0\n",
        "for r in result['input_documents']:\n",
        "  n_docs+=1\n",
        "n_docs"
      ],
      "metadata": {
        "colab": {
          "base_uri": "https://localhost:8080/"
        },
        "id": "jb7nSv15vBrh",
        "outputId": "2b83d28a-d9ee-4db2-ce1a-5b9722830f5e"
      },
      "execution_count": 129,
      "outputs": [
        {
          "output_type": "execute_result",
          "data": {
            "text/plain": [
              "4"
            ]
          },
          "metadata": {},
          "execution_count": 129
        }
      ]
    },
    {
      "cell_type": "code",
      "source": [
        "for r in result['input_documents']:\n",
        "  print(r.metadata['Tafsir'])\n",
        "  print()"
      ],
      "metadata": {
        "colab": {
          "base_uri": "https://localhost:8080/"
        },
        "id": "JRSYyfjG8LhF",
        "outputId": "8122cf9d-8574-439e-8c79-46d0743fff63"
      },
      "execution_count": 94,
      "outputs": [
        {
          "output_type": "stream",
          "name": "stdout",
          "text": [
            "anything more insane than deviating from this path and following the path of misguidance and deviation instead Is there more injustice than this Allah said, \"Verily, joining others in worship with Allah is a great Zulm (wrong.\" indeed) (31:13)..Abu Al-`Aliyah and Qatadah said, \"This Ayah (2:130) was revealed about the Jews who invented a practice that did not come from Allah and that defied the religion of Ibrahim Allahs statement, - \"Ibrahim was neither a Jew nor a Christian, but he was a true Muslim Hanifa (to worship none but Allah alone.\" and he was not of Al-Mushrikin Verily, among mankind who have the best claim to Ibrahim are those who followed him, and this Prophet (Muhammad ) and those who have believed (Muslims) And Allah is the Wali (Protector and Helper) of the believers.) (3:67-68), testifies to this fact..Allah said next, \"When his Lord said to him, \"Submit (i e be a Muslim.\"! He said, \"I have submitted myself (as a Muslim) to the Lord of the `Alamin (mankind, Jinn and all that exists).).This Ayah indicates that Allah commanded Ibrahim to be sincere with Him and to abide and submit to Him; Ibrahim perfectly adhered to Allahs command Allahs statement, \"And this (submission to Allah, Islam.\" was enjoined by Ibrahim upon his sons and by Ya`qub) means, Ibrahim commanded his offspring to follow this religion, that is, Islam, for Allah Or, the Ayah might be referring to Ibrahims words, \"I have submitted myself (as a Muslim.\" to the Lord of the `Alamin (mankind, Jinn and all that exists))..This means that these Prophets loved these words so much that they preserved them until the time of death and advised their children to adhere to them after them Similarly, Allah said, \"And he (Ibrahim.\" made it i.e La ilaha illallah (none has the right to be worshipped but Allah alone) a Word lasting among his offspring, (true Monotheism)) (43:28)..It might be that Ibrahim advised his children, including Jacob, Isaacs son, who were present It appears, and Allah knows best, that Isaac was endowed with Jacob, during the lifetime of Ibrahim and Sarah, for the good news includes both of them in Allahs statement, \"But We gave her (Sarah.\" glad tidings of Ishaq (Isaac), and after Ishaq, of Ya`qub (Jacob)) (11:71)..Also, if Jacob was not alive then, there would be no use here in mentioning him specifically among Isaacs children Also, Allah said in Surat Al-`Ankabut, \"And We bestowed on him (Ibrahim.\", Ishaq and Ya`qub, and We ordained among his offspring prophethood and the Book.) (29:27), and, \"And We bestowed upon him Ishaq, and (a grandson.\" Ya`qub) (21:72), thus, indicating that this occurred during Ibrahims lifetime Also, Jacob built Bayt Al-Maqdis, as earlier books testified The Two Sahihs recorded that Abu Dharr said, \"I said, `O Messenger of Allah! Which Masjid was built first He said, (Al-Masjid Al-Haram (Al-Ka`bah).) I said, `Then He said, (Bayt Al- Maqdis.) I said, `How many years later He said, (Forty years ) Further, the advice that\n",
            "\n",
            "It will not be in accordance with your desires, nor those of the People of the Scripture, whosoever works evil, will have the recompense thereof, and he will not find any protector or helper besides Allah And whoever does righteous good deeds, male or female, and is a believer, such will enter Paradise and not the least injustice, even to the size of a Naqir, will be done to them And who can be better in religion than one who submits his face (himself) to Allah; and he is a Muhsin (a doer of good) And follows the religion of Ibrahim the Hanif (Monotheist) And Allah did take Ibrahim as a Khalil (an intimate friend)! And to Allah belongs all that is in the heavens and all that is in the earth And Allah is Ever Encompassing all things..Success is Only Achieved by Performing Righteous Deeds, not Wishful Thinking.Qatadah said, \"We were told that the Muslims and the People of the Scriptures mentioned their own virtues to each other People of the Scriptures said, `Our Prophet came before your Prophet and our Book before your Book Therefore, we should have more right to Allah than you have Muslims said, `Rather, we have more right to Allah than you, our Prophet is the Final Prophet and our Book supersedes all the Books before it Allah sent down, \"It will not be in accordance with your desires (Muslims.\", nor those of the People of the Scripture (Jews and Christians), whosoever works evil, will have the recompense thereof), \"And who can be better in religion than one who submits his face (himself.\" to Allah; and he is a Muhsin.) Allah then supported the argument of the Muslims against their opponents of the other religions Similar statements were attributed to As-Suddi, Masruq, Ad-Dahhak and Abu Salih Al-`Awfi reported that Ibn `Abbas commented on this Ayah 4:123, \"The followers of various religions disputed, the people of the Tawrah said, `Our Book is the best Book and our Prophet (Musa) is the best Prophet The people of the Injil said similarly, the people of Islam said, `There is no religion except Islam, our Book has abrogated every other Book, our Prophet is the Final Prophet, and you were commanded to believe in your Books and adhere to our Book Allah judged between them, saying, o \"It will not be in accordance with your desires, nor those of the People of the Scripture, whosoever works evil, will have the recompense thereof.\" This Ayah indicates that the religion is not accepted on account of wishful thinking or mere hopes Rather, the accepted religion relies on what resides in the heart and which is made truthful through actions It is not true that when one utters a claim to something, he attains it merely on account of his claim It is not true that every person who claims to be on the truth is considered as such, merely on account of his words, until his claim gains merit with\n",
            "\n",
            "Do they seek other than the religion of Allah, while to Him submitted all creatures in the heavens and the earth, willingly or unwillingly And to Him shall they all be returned Say: \"We believe in Allah and in what has been sent down to us, and what was sent down to Ibrahim, Isma`il, Ishaq, Ya`qub and Al-Asbat, and what was given to Musa, `Isa and the Prophets from their Lord We make no distinction between one another among them and to Him (Allah) we have submitted And whoever seeks a religion other than Islam, it will never be accepted of him, and in the Hereafter he will be one of the losers..The Only Valid Religion To Allah is Islam.Allah rebukes those who prefer a religion other than the religion that He sent His Books and Messengers with, which is the worship of Allah Alone without partners, to Whom, \"submitted all creatures in the heavens and the earth,.\" Willingly, or not Allah said in other Ayat, \"And unto Allah (Alone.\" falls in prostration whoever is in the heavens and the earth, willingly or unwillingly.) 13:15, and, \"Have they not observed things that Allah has created: (how.\" their shadows incline to the right and to the left, making prostration unto Allah, and they are lowly And to Allah prostrate all that is in the heavens and all that is in the earth, of the moving creatures and the angels, and they are not proud They fear their Lord above them, and they do what they are commanded) 16: 48- .Therefore, the faithful believer submits to Allah in heart and body, while the disbeliever unwillingly submits to Him in body only, since he is under Allahs power, irresistible control and mighty kingship that cannot be repelled or resisted Waki` reported that Mujahid said that the Ayah, \"While to Him submitted all creatures in the heavens and the earth, willingly or unwillingly.\", is similar to the Ayah, \"And verily, if you ask them: \"Who created the heavens and the earth Surely, they will say: \"Allah.\" 39: .He also reported that Ibn `Abbas said about, \"while to Him submitted all creatures in the heavens and the earth, willingly or unwillingly..\".\"When He took the covenant from them. \"And to Him shall they all be returned.\" on the Day of Return, when He will reward or punish each person according to his or her deeds..Allah then said, \"Say: \"We believe in Allah and in what has been sent down to us.\" the Quran, \"and what was sent down to Ibrahim, Ismai`0l, Ishaq, Ya`qub.\" the scriptures and revelation, \"and the Asbat,.\" the Asbat are the twelve tribes who originated from the twelve children of Israel (Ya`qub). \"and what was given to Musa, `Isa.\" the Tawrah and the Injil, \"and the Prophets from their Lord..\" and this encompasses all of Allahs Prophets. \"We make no distinction between one another among them.\" we believe in all of them, \"And to Him (Allah.\" we have submitted (in Islam)).Therefore, faithful Muslims\n",
            "\n",
            "Never will the Jews nor the Christians be pleased with you (O Muhammad ) till you follow their religion Say: \"Verily, the guidance of Allah (i.e Islamic Monotheism) that is the (only) guidance And if you (O Muhammad ) were to follow their (Jews and Christians) desires after what you have received of Knowledge (i.e the Quran), then you would have against Allah neither any Wali (protector or guardian) nor any helper Those to whom we gave the Book recite it as it should be recited (Yatlunahu Haqqa Tilawatihi) they are the ones who believe therein And whoso disbelieve in it, those are they who are the losers.) Ibn Jarir said, \"Allah said, \"Never will the Jews nor the Christians be pleased with you (O Muhammad .\" till you follow their religion.) meaning, `The Jews and the Christians will never be happy with you, O Muhammad! Therefore, do not seek what pleases or appeases them, and stick to what pleases Allah by calling them to the truth that Allah sent you with Allahs statement, \"Say: \"Verily, the guidance of Allah (i.e Islamic Monotheism.\" that is the (only) guidance) emeans, `Say, O Muhammad , the guidance of Allah that He sent me with is the true guidance, meaning the straight, perfect and comprehensive religion Qatadah said that Allahs statement, \"Say: \"Verily, the guidance of Allah (i.e Islamic Monotheism.\" that is the (only) guidance) is, \"A true argument that Allah taught Muhammad and his Companions and which they used against the people of misguidance Qatadah said, \"We were told that the Messenger of Allah used to say, \"There will always be a group of my Ummah fighting upon the truth, having the upper hand, not harmed by their opponents, until the decree of Allah (the Last Hour.\" comes.).This Hadith was collected in the Sahih and narrated from `Abdullah bin `Amr. \"And if you (O Muhammad .\" were to follow their (Jews and Christians) desires after what you have received of Knowledge (i.e the Quran), then you would have against Allah neither any Wali (protector or guardian) nor any helper.).This Ayah carries a stern warning for the Muslim Ummah against imitating the ways and methods of the Jews and Christians, after they have acquired knowledge of the Quran and Sunnah, may Allah grant us refuge from this behavior Although the speech in this Ayah was directed at the Messenger , the ruling of which applies to his entire Ummah..The Meaning of Correct Tilawah..Allah said, \"Those to whom We gave the Book Yatlunahu Haqqan Tilawatih..\".`Abdur-Razzaq said from Ma`mar, from Qatadah, \"They are the Jews and Christians This is the opinion of `Abdur-Rahman bin Zayd bin Aslam, and it was also chosen by Ibn Jarir Sa`id reported from Qatadah, \"They are the Companions of the Messenger of Allah Abu Al-`Aliyah said that Ibn Mas`ud said, \"By He in Whose Hand is my soul! The right Tilawah is allowing what it makes lawful, prohibiting what it makes unlawful, reciting it as it was revealed by Allah,\n",
            "\n"
          ]
        }
      ]
    },
    {
      "cell_type": "markdown",
      "source": [
        "# Retrieving MetaData\n",
        "\n",
        "*Creating list of metadata values*"
      ],
      "metadata": {
        "id": "KqQl8GaOJGAu"
      }
    },
    {
      "cell_type": "code",
      "source": [
        "quran_data = {}\n",
        "for page_content in result['input_documents']:\n",
        "  for metadata in page_content:\n",
        "    if (metadata[0] == \"metadata\"):\n",
        "      for dictionary in metadata:\n",
        "        if (type(dictionary)==dict):\n",
        "          print((dictionary['Surah'], dictionary['Aya']))\n",
        "          #Create Verse\n",
        "          verse = (dictionary['Surah'], dictionary['Aya'])\n",
        "\n",
        "          try:\n",
        "            if dictionary['Tafsir'] not in quran_data[verse]:\n",
        "              quran_data[verse].append(dictionary['Tafsir'])\n",
        "          except:\n",
        "            quran_data[verse] = dictionary['Tafsir']\n",
        "\n",
        "\n",
        "print()\n",
        "for keys in quran_data.keys():\n",
        "  print(keys)"
      ],
      "metadata": {
        "colab": {
          "base_uri": "https://localhost:8080/"
        },
        "outputId": "739f8bce-dbc8-4492-fb64-6590c6e0babc",
        "id": "Y7NNVpmbOVnP"
      },
      "execution_count": 59,
      "outputs": [
        {
          "output_type": "stream",
          "name": "stdout",
          "text": [
            "('2', '130,131,132')\n",
            "('4', '123,124,125,126')\n",
            "('3', '83,84,85')\n",
            "('2', '120,121')\n",
            "\n",
            "('2', '130,131,132')\n",
            "('4', '123,124,125,126')\n",
            "('3', '83,84,85')\n",
            "('2', '120,121')\n"
          ]
        }
      ]
    },
    {
      "cell_type": "markdown",
      "source": [
        "## Displaying Verses"
      ],
      "metadata": {
        "id": "u3Tey2yVBdLw"
      }
    },
    {
      "cell_type": "code",
      "source": [
        "# GET VERSE INFO with API\n",
        "returned_verses = {}\n",
        "i = 0\n",
        "for verse_tuple in quran_data.keys():\n",
        "  surah, ayas = verse_tuple\n",
        "  aya_list = [int(x) for x in ayas.split(',')]\n",
        "  eng_verse_chunk = \"\"\n",
        "  arb_verse_chunk = \"\"\n",
        "  tafsir_docs = quran_data[verse_tuple]\n",
        "  for aya in aya_list:\n",
        "    api_url = f\"https://quranenc.com/api/v1/translation/aya/english_saheeh/{surah}/{aya}\"\n",
        "    response = requests.get(api_url)\n",
        "    data = response.json()\n",
        "    eng = data['result']['translation']\n",
        "    arb = data['result']['arabic_text']\n",
        "    # footnote = data['result']['footnotes']\n",
        "    # print(arb)\n",
        "    # print(eng)\n",
        "    # print(f\"({surah}:{aya})\")\n",
        "    eng_verse_chunk+=eng\n",
        "    arb_verse_chunk+=arb + f\"({aya})\"\n",
        "  returned_verses[i] = {\"English\": eng_verse_chunk,\n",
        "                        \"Arabic\": arb_verse_chunk,\n",
        "                        \"Citation\": f\"({surah}:{ayas})\",\n",
        "                        \"Docs\": tafsir_docs}\n",
        "  i+=1"
      ],
      "metadata": {
        "id": "k9lp51L9A5mZ"
      },
      "execution_count": 10,
      "outputs": []
    },
    {
      "cell_type": "code",
      "source": [
        "returned_verses"
      ],
      "metadata": {
        "colab": {
          "base_uri": "https://localhost:8080/"
        },
        "id": "W9gNeLkskdBU",
        "outputId": "8d61dadc-9e8e-4091-b0ed-a54976a1d9f5"
      },
      "execution_count": 11,
      "outputs": [
        {
          "output_type": "execute_result",
          "data": {
            "text/plain": [
              "{0: {'English': '(130) And who would be averse to the religion of Abraham except one who makes a fool of himself. And We had chosen him in this world, and indeed he, in the Hereafter, will be among the righteous.(131) When his Lord said to him, \"Submit,\" he said, \"I have submitted [in Islām][45] to the Lord of the worlds.\"(132) And Abraham instructed his sons [to do the same] and [so did] Jacob, [saying], \"O my sons, indeed Allāh has chosen for you this religion, so do not die except while you are Muslims.\"',\n",
              "  'Arabic': 'وَمَن يَرۡغَبُ عَن مِّلَّةِ إِبۡرَٰهِـۧمَ إِلَّا مَن سَفِهَ نَفۡسَهُۥۚ وَلَقَدِ ٱصۡطَفَيۡنَٰهُ فِي ٱلدُّنۡيَاۖ وَإِنَّهُۥ فِي ٱلۡأٓخِرَةِ لَمِنَ ٱلصَّٰلِحِينَ(130)إِذۡ قَالَ لَهُۥ رَبُّهُۥٓ أَسۡلِمۡۖ قَالَ أَسۡلَمۡتُ لِرَبِّ ٱلۡعَٰلَمِينَ(131)وَوَصَّىٰ بِهَآ إِبۡرَٰهِـۧمُ بَنِيهِ وَيَعۡقُوبُ يَٰبَنِيَّ إِنَّ ٱللَّهَ ٱصۡطَفَىٰ لَكُمُ ٱلدِّينَ فَلَا تَمُوتُنَّ إِلَّا وَأَنتُم مُّسۡلِمُونَ(132)',\n",
              "  'Citation': '(2:130,131,132)',\n",
              "  'Docs': 'anything more insane than deviating from this path and following the path of misguidance and deviation instead Is there more injustice than this Allah said, \"Verily, joining others in worship with Allah is a great Zulm (wrong.\" indeed) (31:13)..Abu Al-`Aliyah and Qatadah said, \"This Ayah (2:130) was revealed about the Jews who invented a practice that did not come from Allah and that defied the religion of Ibrahim Allahs statement, - \"Ibrahim was neither a Jew nor a Christian, but he was a true Muslim Hanifa (to worship none but Allah alone.\" and he was not of Al-Mushrikin Verily, among mankind who have the best claim to Ibrahim are those who followed him, and this Prophet (Muhammad ) and those who have believed (Muslims) And Allah is the Wali (Protector and Helper) of the believers.) (3:67-68), testifies to this fact..Allah said next, \"When his Lord said to him, \"Submit (i e be a Muslim.\"! He said, \"I have submitted myself (as a Muslim) to the Lord of the `Alamin (mankind, Jinn and all that exists).).This Ayah indicates that Allah commanded Ibrahim to be sincere with Him and to abide and submit to Him; Ibrahim perfectly adhered to Allahs command Allahs statement, \"And this (submission to Allah, Islam.\" was enjoined by Ibrahim upon his sons and by Ya`qub) means, Ibrahim commanded his offspring to follow this religion, that is, Islam, for Allah Or, the Ayah might be referring to Ibrahims words, \"I have submitted myself (as a Muslim.\" to the Lord of the `Alamin (mankind, Jinn and all that exists))..This means that these Prophets loved these words so much that they preserved them until the time of death and advised their children to adhere to them after them Similarly, Allah said, \"And he (Ibrahim.\" made it i.e La ilaha illallah (none has the right to be worshipped but Allah alone) a Word lasting among his offspring, (true Monotheism)) (43:28)..It might be that Ibrahim advised his children, including Jacob, Isaacs son, who were present It appears, and Allah knows best, that Isaac was endowed with Jacob, during the lifetime of Ibrahim and Sarah, for the good news includes both of them in Allahs statement, \"But We gave her (Sarah.\" glad tidings of Ishaq (Isaac), and after Ishaq, of Ya`qub (Jacob)) (11:71)..Also, if Jacob was not alive then, there would be no use here in mentioning him specifically among Isaacs children Also, Allah said in Surat Al-`Ankabut, \"And We bestowed on him (Ibrahim.\", Ishaq and Ya`qub, and We ordained among his offspring prophethood and the Book.) (29:27), and, \"And We bestowed upon him Ishaq, and (a grandson.\" Ya`qub) (21:72), thus, indicating that this occurred during Ibrahims lifetime Also, Jacob built Bayt Al-Maqdis, as earlier books testified The Two Sahihs recorded that Abu Dharr said, \"I said, `O Messenger of Allah! Which Masjid was built first He said, (Al-Masjid Al-Haram (Al-Ka`bah).) I said, `Then He said, (Bayt Al- Maqdis.) I said, `How many years later He said, (Forty years ) Further, the advice that'},\n",
              " 1: {'English': '(123) It [i.e., Paradise] is not [obtained] by your wishful thinking nor by that of the People of the Scripture. Whoever does a wrong will be recompensed for it, and he will not find besides Allāh a protector or a helper.(124) And whoever does righteous deeds, whether male or female, while being a believer - those will enter Paradise and will not be wronged, [even as much as] the speck on a date seed.(125) And who is better in religion than one who submits himself to Allāh while being a doer of good and follows the religion of Abraham, inclining toward truth? And Allāh took Abraham as an intimate friend.(126) And to Allāh belongs whatever is in the heavens and whatever is on the earth. And ever is Allāh, of all things, encompassing.',\n",
              "  'Arabic': 'لَّيۡسَ بِأَمَانِيِّكُمۡ وَلَآ أَمَانِيِّ أَهۡلِ ٱلۡكِتَٰبِۗ مَن يَعۡمَلۡ سُوٓءٗا يُجۡزَ بِهِۦ وَلَا يَجِدۡ لَهُۥ مِن دُونِ ٱللَّهِ وَلِيّٗا وَلَا نَصِيرٗا(123)وَمَن يَعۡمَلۡ مِنَ ٱلصَّٰلِحَٰتِ مِن ذَكَرٍ أَوۡ أُنثَىٰ وَهُوَ مُؤۡمِنٞ فَأُوْلَٰٓئِكَ يَدۡخُلُونَ ٱلۡجَنَّةَ وَلَا يُظۡلَمُونَ نَقِيرٗا(124)وَمَنۡ أَحۡسَنُ دِينٗا مِّمَّنۡ أَسۡلَمَ وَجۡهَهُۥ لِلَّهِ وَهُوَ مُحۡسِنٞ وَٱتَّبَعَ مِلَّةَ إِبۡرَٰهِيمَ حَنِيفٗاۗ وَٱتَّخَذَ ٱللَّهُ إِبۡرَٰهِيمَ خَلِيلٗا(125)وَلِلَّهِ مَا فِي ٱلسَّمَٰوَٰتِ وَمَا فِي ٱلۡأَرۡضِۚ وَكَانَ ٱللَّهُ بِكُلِّ شَيۡءٖ مُّحِيطٗا(126)',\n",
              "  'Citation': '(4:123,124,125,126)',\n",
              "  'Docs': 'It will not be in accordance with your desires, nor those of the People of the Scripture, whosoever works evil, will have the recompense thereof, and he will not find any protector or helper besides Allah And whoever does righteous good deeds, male or female, and is a believer, such will enter Paradise and not the least injustice, even to the size of a Naqir, will be done to them And who can be better in religion than one who submits his face (himself) to Allah; and he is a Muhsin (a doer of good) And follows the religion of Ibrahim the Hanif (Monotheist) And Allah did take Ibrahim as a Khalil (an intimate friend)! And to Allah belongs all that is in the heavens and all that is in the earth And Allah is Ever Encompassing all things..Success is Only Achieved by Performing Righteous Deeds, not Wishful Thinking.Qatadah said, \"We were told that the Muslims and the People of the Scriptures mentioned their own virtues to each other People of the Scriptures said, `Our Prophet came before your Prophet and our Book before your Book Therefore, we should have more right to Allah than you have Muslims said, `Rather, we have more right to Allah than you, our Prophet is the Final Prophet and our Book supersedes all the Books before it Allah sent down, \"It will not be in accordance with your desires (Muslims.\", nor those of the People of the Scripture (Jews and Christians), whosoever works evil, will have the recompense thereof), \"And who can be better in religion than one who submits his face (himself.\" to Allah; and he is a Muhsin.) Allah then supported the argument of the Muslims against their opponents of the other religions Similar statements were attributed to As-Suddi, Masruq, Ad-Dahhak and Abu Salih Al-`Awfi reported that Ibn `Abbas commented on this Ayah 4:123, \"The followers of various religions disputed, the people of the Tawrah said, `Our Book is the best Book and our Prophet (Musa) is the best Prophet The people of the Injil said similarly, the people of Islam said, `There is no religion except Islam, our Book has abrogated every other Book, our Prophet is the Final Prophet, and you were commanded to believe in your Books and adhere to our Book Allah judged between them, saying, o \"It will not be in accordance with your desires, nor those of the People of the Scripture, whosoever works evil, will have the recompense thereof.\" This Ayah indicates that the religion is not accepted on account of wishful thinking or mere hopes Rather, the accepted religion relies on what resides in the heart and which is made truthful through actions It is not true that when one utters a claim to something, he attains it merely on account of his claim It is not true that every person who claims to be on the truth is considered as such, merely on account of his words, until his claim gains merit with'},\n",
              " 2: {'English': '(83) So is it other than the religion of Allāh they desire, while to Him have submitted [all] those within the heavens and earth, willingly or by compulsion, and to Him they will be returned?(84) Say, \"We have believed in Allāh and in what was revealed to us and what was revealed to Abraham, Ishmael, Isaac, Jacob, and the Descendants [al-Asbāṭ], and in what was given to Moses and Jesus and to the prophets from their Lord. We make no distinction between any of them, and we are Muslims [submitting] to Him.\"(85) And whoever desires other than Islām as religion - never will it be accepted from him, and he, in the Hereafter, will be among the losers.',\n",
              "  'Arabic': 'أَفَغَيۡرَ دِينِ ٱللَّهِ يَبۡغُونَ وَلَهُۥٓ أَسۡلَمَ مَن فِي ٱلسَّمَٰوَٰتِ وَٱلۡأَرۡضِ طَوۡعٗا وَكَرۡهٗا وَإِلَيۡهِ يُرۡجَعُونَ(83)قُلۡ ءَامَنَّا بِٱللَّهِ وَمَآ أُنزِلَ عَلَيۡنَا وَمَآ أُنزِلَ عَلَىٰٓ إِبۡرَٰهِيمَ وَإِسۡمَٰعِيلَ وَإِسۡحَٰقَ وَيَعۡقُوبَ وَٱلۡأَسۡبَاطِ وَمَآ أُوتِيَ مُوسَىٰ وَعِيسَىٰ وَٱلنَّبِيُّونَ مِن رَّبِّهِمۡ لَا نُفَرِّقُ بَيۡنَ أَحَدٖ مِّنۡهُمۡ وَنَحۡنُ لَهُۥ مُسۡلِمُونَ(84)وَمَن يَبۡتَغِ غَيۡرَ ٱلۡإِسۡلَٰمِ دِينٗا فَلَن يُقۡبَلَ مِنۡهُ وَهُوَ فِي ٱلۡأٓخِرَةِ مِنَ ٱلۡخَٰسِرِينَ(85)',\n",
              "  'Citation': '(3:83,84,85)',\n",
              "  'Docs': 'Do they seek other than the religion of Allah, while to Him submitted all creatures in the heavens and the earth, willingly or unwillingly And to Him shall they all be returned Say: \"We believe in Allah and in what has been sent down to us, and what was sent down to Ibrahim, Isma`il, Ishaq, Ya`qub and Al-Asbat, and what was given to Musa, `Isa and the Prophets from their Lord We make no distinction between one another among them and to Him (Allah) we have submitted And whoever seeks a religion other than Islam, it will never be accepted of him, and in the Hereafter he will be one of the losers..The Only Valid Religion To Allah is Islam.Allah rebukes those who prefer a religion other than the religion that He sent His Books and Messengers with, which is the worship of Allah Alone without partners, to Whom, \"submitted all creatures in the heavens and the earth,.\" Willingly, or not Allah said in other Ayat, \"And unto Allah (Alone.\" falls in prostration whoever is in the heavens and the earth, willingly or unwillingly.) 13:15, and, \"Have they not observed things that Allah has created: (how.\" their shadows incline to the right and to the left, making prostration unto Allah, and they are lowly And to Allah prostrate all that is in the heavens and all that is in the earth, of the moving creatures and the angels, and they are not proud They fear their Lord above them, and they do what they are commanded) 16: 48- .Therefore, the faithful believer submits to Allah in heart and body, while the disbeliever unwillingly submits to Him in body only, since he is under Allahs power, irresistible control and mighty kingship that cannot be repelled or resisted Waki` reported that Mujahid said that the Ayah, \"While to Him submitted all creatures in the heavens and the earth, willingly or unwillingly.\", is similar to the Ayah, \"And verily, if you ask them: \"Who created the heavens and the earth Surely, they will say: \"Allah.\" 39: .He also reported that Ibn `Abbas said about, \"while to Him submitted all creatures in the heavens and the earth, willingly or unwillingly..\".\"When He took the covenant from them. \"And to Him shall they all be returned.\" on the Day of Return, when He will reward or punish each person according to his or her deeds..Allah then said, \"Say: \"We believe in Allah and in what has been sent down to us.\" the Quran, \"and what was sent down to Ibrahim, Ismai`0l, Ishaq, Ya`qub.\" the scriptures and revelation, \"and the Asbat,.\" the Asbat are the twelve tribes who originated from the twelve children of Israel (Ya`qub). \"and what was given to Musa, `Isa.\" the Tawrah and the Injil, \"and the Prophets from their Lord..\" and this encompasses all of Allahs Prophets. \"We make no distinction between one another among them.\" we believe in all of them, \"And to Him (Allah.\" we have submitted (in Islam)).Therefore, faithful Muslims'},\n",
              " 3: {'English': '(120) And never will the Jews and the Christians approve of you until you follow their religion. Say, \"Indeed, the guidance of Allāh is the [only] guidance.\" If you were to follow their desires after what has come to you of knowledge, you would have against Allāh no protector or helper.(121) Those to whom We have given the Book recite it with its true recital.[39] They [are the ones who] believe in it. And whoever disbelieves in it - it is they who are the losers.',\n",
              "  'Arabic': 'وَلَن تَرۡضَىٰ عَنكَ ٱلۡيَهُودُ وَلَا ٱلنَّصَٰرَىٰ حَتَّىٰ تَتَّبِعَ مِلَّتَهُمۡۗ قُلۡ إِنَّ هُدَى ٱللَّهِ هُوَ ٱلۡهُدَىٰۗ وَلَئِنِ ٱتَّبَعۡتَ أَهۡوَآءَهُم بَعۡدَ ٱلَّذِي جَآءَكَ مِنَ ٱلۡعِلۡمِ مَا لَكَ مِنَ ٱللَّهِ مِن وَلِيّٖ وَلَا نَصِيرٍ(120)ٱلَّذِينَ ءَاتَيۡنَٰهُمُ ٱلۡكِتَٰبَ يَتۡلُونَهُۥ حَقَّ تِلَاوَتِهِۦٓ أُوْلَٰٓئِكَ يُؤۡمِنُونَ بِهِۦۗ وَمَن يَكۡفُرۡ بِهِۦ فَأُوْلَٰٓئِكَ هُمُ ٱلۡخَٰسِرُونَ(121)',\n",
              "  'Citation': '(2:120,121)',\n",
              "  'Docs': 'Never will the Jews nor the Christians be pleased with you (O Muhammad ) till you follow their religion Say: \"Verily, the guidance of Allah (i.e Islamic Monotheism) that is the (only) guidance And if you (O Muhammad ) were to follow their (Jews and Christians) desires after what you have received of Knowledge (i.e the Quran), then you would have against Allah neither any Wali (protector or guardian) nor any helper Those to whom we gave the Book recite it as it should be recited (Yatlunahu Haqqa Tilawatihi) they are the ones who believe therein And whoso disbelieve in it, those are they who are the losers.) Ibn Jarir said, \"Allah said, \"Never will the Jews nor the Christians be pleased with you (O Muhammad .\" till you follow their religion.) meaning, `The Jews and the Christians will never be happy with you, O Muhammad! Therefore, do not seek what pleases or appeases them, and stick to what pleases Allah by calling them to the truth that Allah sent you with Allahs statement, \"Say: \"Verily, the guidance of Allah (i.e Islamic Monotheism.\" that is the (only) guidance) emeans, `Say, O Muhammad , the guidance of Allah that He sent me with is the true guidance, meaning the straight, perfect and comprehensive religion Qatadah said that Allahs statement, \"Say: \"Verily, the guidance of Allah (i.e Islamic Monotheism.\" that is the (only) guidance) is, \"A true argument that Allah taught Muhammad and his Companions and which they used against the people of misguidance Qatadah said, \"We were told that the Messenger of Allah used to say, \"There will always be a group of my Ummah fighting upon the truth, having the upper hand, not harmed by their opponents, until the decree of Allah (the Last Hour.\" comes.).This Hadith was collected in the Sahih and narrated from `Abdullah bin `Amr. \"And if you (O Muhammad .\" were to follow their (Jews and Christians) desires after what you have received of Knowledge (i.e the Quran), then you would have against Allah neither any Wali (protector or guardian) nor any helper.).This Ayah carries a stern warning for the Muslim Ummah against imitating the ways and methods of the Jews and Christians, after they have acquired knowledge of the Quran and Sunnah, may Allah grant us refuge from this behavior Although the speech in this Ayah was directed at the Messenger , the ruling of which applies to his entire Ummah..The Meaning of Correct Tilawah..Allah said, \"Those to whom We gave the Book Yatlunahu Haqqan Tilawatih..\".`Abdur-Razzaq said from Ma`mar, from Qatadah, \"They are the Jews and Christians This is the opinion of `Abdur-Rahman bin Zayd bin Aslam, and it was also chosen by Ibn Jarir Sa`id reported from Qatadah, \"They are the Companions of the Messenger of Allah Abu Al-`Aliyah said that Ibn Mas`ud said, \"By He in Whose Hand is my soul! The right Tilawah is allowing what it makes lawful, prohibiting what it makes unlawful, reciting it as it was revealed by Allah,'}}"
            ]
          },
          "metadata": {},
          "execution_count": 11
        }
      ]
    },
    {
      "cell_type": "markdown",
      "source": [
        "# Internet Search"
      ],
      "metadata": {
        "id": "IU6XicvPoJF6"
      }
    },
    {
      "cell_type": "code",
      "source": [
        "from langchain.retrievers import CohereRagRetriever\n",
        "from langchain.schema.document import Document\n",
        "\n",
        "def _pretty_print(docs):\n",
        "    for doc in docs:\n",
        "        print(doc.metadata)\n",
        "        print(\"\\n\\n\" + doc.page_content)\n",
        "        print(\"\\n\\n\" + \"-\" * 30 + \"\\n\\n\")\n",
        "\n",
        "rag = CohereRagRetriever(llm=chat)"
      ],
      "metadata": {
        "id": "IPIpAOpBoMuh"
      },
      "execution_count": 12,
      "outputs": []
    },
    {
      "cell_type": "code",
      "source": [
        "#document search (with citations!)\n",
        "docs = rag.get_relevant_documents(\n",
        "    \"What is 1+1?\",\n",
        "    source_documents=[\n",
        "        Document(page_content=\"One plus One is 2!\")\n",
        "    ],\n",
        ")\n",
        "_pretty_print(docs)"
      ],
      "metadata": {
        "colab": {
          "base_uri": "https://localhost:8080/"
        },
        "id": "bFQ0s9m6pJDS",
        "outputId": "e311a04f-8d85-4549-9d28-861f2508dd7c"
      },
      "execution_count": 14,
      "outputs": [
        {
          "output_type": "stream",
          "name": "stdout",
          "text": [
            "{'id': 'doc-0', 'snippet': 'One plus One is 2!'}\n",
            "\n",
            "\n",
            "One plus One is 2!\n",
            "\n",
            "\n",
            "------------------------------\n",
            "\n",
            "\n",
            "{'type': 'model_response', 'citations': [{'start': 8, 'end': 10, 'text': '2.', 'document_ids': ['doc-0']}], 'search_results': None, 'search_queries': None, 'token_count': {'prompt_tokens': 397, 'response_tokens': 27, 'total_tokens': 424, 'billed_tokens': 33}}\n",
            "\n",
            "\n",
            "1 + 1 = 2. \n",
            "\n",
            "That is the correct sum of 1 + 1. Did you think it would equal another number?\n",
            "\n",
            "\n",
            "------------------------------\n",
            "\n",
            "\n"
          ]
        }
      ]
    },
    {
      "cell_type": "code",
      "source": [
        "#document search (with citations!)\n",
        "docs = rag.get_relevant_documents(\n",
        "    query = query\n",
        ")\n",
        "_pretty_print(docs)"
      ],
      "metadata": {
        "colab": {
          "base_uri": "https://localhost:8080/"
        },
        "id": "lHGQvh3mXt_Q",
        "outputId": "d73992dd-0b2c-481f-cdca-67e12042169a"
      },
      "execution_count": 239,
      "outputs": [
        {
          "output_type": "stream",
          "name": "stdout",
          "text": [
            "{'id': 'web-search_9:0', 'snippet': 'Photo by Picsea on Unsplash\\n\\nWhat is the Role of a Parent\\n\\nWe try to answer the question What is the Role of a Parent? by taking into analysis the biological, psychological, social and financial dimensions. The parents’ roles are of the maximum importance for personality development of the children. Basic traditional roles of being a parent are: nurture and educate children, discipline them, manage home and financially support the family. Modern roles brought active participation of fathers in children care. The main idea is that parents must be child-centred and should aim to optimal growth and development of their children, to help them have satisfactory biological, social, psychological and emotional growth.', 'title': \"What is the Role of a Parent. We try to answer the question What is… | by Big Phil's Nook | Medium\", 'url': 'https://bigphill.medium.com/what-is-the-role-of-a-parent-acf892a600c'}\n",
            "\n",
            "\n",
            "Photo by Picsea on Unsplash\n",
            "\n",
            "What is the Role of a Parent\n",
            "\n",
            "We try to answer the question What is the Role of a Parent? by taking into analysis the biological, psychological, social and financial dimensions. The parents’ roles are of the maximum importance for personality development of the children. Basic traditional roles of being a parent are: nurture and educate children, discipline them, manage home and financially support the family. Modern roles brought active participation of fathers in children care. The main idea is that parents must be child-centred and should aim to optimal growth and development of their children, to help them have satisfactory biological, social, psychological and emotional growth.\n",
            "\n",
            "\n",
            "------------------------------\n",
            "\n",
            "\n",
            "{'id': 'web-search_8:4', 'snippet': '\\n\\nParents play a very important role in the life of their beloved youngsters, Their involvement is a must to see an overall improvement in the child’s growth both mentally and physically. They even play a vital role in the improvement of their performance in schools. They teach them many things:\\n\\nFrom being responsible for being considerate and humble. They are the drivers of the bus in which their children have landed for the journey of life. Guardians are the first teachers and curators of the character of the life of their kids.\\n\\nParents are one of the most beautiful creations of God on earth.', 'title': 'Role of parents in shaping the future of their children', 'url': 'https://www.saraswatiborsad.org/blog/role-of-parents-in-shaping-the-future-of-their-children/'}\n",
            "\n",
            "\n",
            "\n",
            "\n",
            "Parents play a very important role in the life of their beloved youngsters, Their involvement is a must to see an overall improvement in the child’s growth both mentally and physically. They even play a vital role in the improvement of their performance in schools. They teach them many things:\n",
            "\n",
            "From being responsible for being considerate and humble. They are the drivers of the bus in which their children have landed for the journey of life. Guardians are the first teachers and curators of the character of the life of their kids.\n",
            "\n",
            "Parents are one of the most beautiful creations of God on earth.\n",
            "\n",
            "\n",
            "------------------------------\n",
            "\n",
            "\n",
            "{'id': 'web-search_1:0', 'snippet': 'What is the Role of Parents in a Child’s Education?\\n\\nJuly 19, 2023August 31, 2022 by Sherry Lane\\n\\nThe role of parents in a child’s education is vital. They are the first and most important teachers in a child’s life, and they play a crucial role in shaping their future. Parents play an important role in supporting their child’s learning and development.\\n\\nThey, further, can do this by helping with homework, attending school functions, and communicating with the child’s teacher. Parents play an important role in shaping their child’s educational experiences.\\n\\nWhen parents are actively involved in their child’s education, it can make a big difference in their academic achievement, social development, and overall well-being.', 'title': \"What is the Role of Parents in a Child's Education?\", 'url': 'https://eduedify.com/role-of-parents-in-a-childs-education/'}\n",
            "\n",
            "\n",
            "What is the Role of Parents in a Child’s Education?\n",
            "\n",
            "July 19, 2023August 31, 2022 by Sherry Lane\n",
            "\n",
            "The role of parents in a child’s education is vital. They are the first and most important teachers in a child’s life, and they play a crucial role in shaping their future. Parents play an important role in supporting their child’s learning and development.\n",
            "\n",
            "They, further, can do this by helping with homework, attending school functions, and communicating with the child’s teacher. Parents play an important role in shaping their child’s educational experiences.\n",
            "\n",
            "When parents are actively involved in their child’s education, it can make a big difference in their academic achievement, social development, and overall well-being.\n",
            "\n",
            "\n",
            "------------------------------\n",
            "\n",
            "\n",
            "{'id': 'web-search_0:5', 'snippet': '\\n\\nAs children develop from infants to teens to adults, they go through a series of developmental stages that are important to all aspects of their personhood including physical, intellectual, emotional, and social. \\n\\nSupport and guidance\\n\\nThe proper role of the parent is to provide encouragement, support, and access to activities that enable the child to master key developmental tasks. A child’s learning and socialization are most influenced by their family since the family is the child’s primary social group. Happy parents raise happy children.\\n\\nChild development lies its root in their parents. Nothing can overcome the rigidity of a child’s upbringing. A parent thereby acts as a visionary to their children.', 'title': 'Importance of Parents in Life| Roles and actions', 'url': 'https://www.cuemath.com/learn/importance-of-parents/'}\n",
            "\n",
            "\n",
            "\n",
            "\n",
            "As children develop from infants to teens to adults, they go through a series of developmental stages that are important to all aspects of their personhood including physical, intellectual, emotional, and social. \n",
            "\n",
            "Support and guidance\n",
            "\n",
            "The proper role of the parent is to provide encouragement, support, and access to activities that enable the child to master key developmental tasks. A child’s learning and socialization are most influenced by their family since the family is the child’s primary social group. Happy parents raise happy children.\n",
            "\n",
            "Child development lies its root in their parents. Nothing can overcome the rigidity of a child’s upbringing. A parent thereby acts as a visionary to their children.\n",
            "\n",
            "\n",
            "------------------------------\n",
            "\n",
            "\n",
            "{'id': 'web-search_3:4', 'snippet': ' It is the parent’s job to show how exciting and useful learning can be. Through proper guidance, parents can help their kids manage their time and strike a balance between recreation (watching TV, playing games, surfing the net) and school.\\n\\nConnect what your child learns to everyday life:\\n\\nMore often than not, many of the things that your kids learn in school can be associated with everyday life. For example, you can talk to your child about units of measurement when cooking. In the field of science, you can discuss celestial bodies (sun, moon, stars), and the weather outside. If your child shows interest in gadgets and things, you can explain how the computer, refrigerator, and other appliances work.', 'title': 'The Role of Parents in Education | Indiana K-12 Professional Development', 'url': 'https://incompassinged.com/2017/08/04/the-role-of-parents-in-education/'}\n",
            "\n",
            "\n",
            " It is the parent’s job to show how exciting and useful learning can be. Through proper guidance, parents can help their kids manage their time and strike a balance between recreation (watching TV, playing games, surfing the net) and school.\n",
            "\n",
            "Connect what your child learns to everyday life:\n",
            "\n",
            "More often than not, many of the things that your kids learn in school can be associated with everyday life. For example, you can talk to your child about units of measurement when cooking. In the field of science, you can discuss celestial bodies (sun, moon, stars), and the weather outside. If your child shows interest in gadgets and things, you can explain how the computer, refrigerator, and other appliances work.\n",
            "\n",
            "\n",
            "------------------------------\n",
            "\n",
            "\n",
            "{'type': 'model_response', 'citations': [{'start': 139, 'end': 176, 'text': \"children's development and well-being\", 'document_ids': ['web-search_9:0', 'web-search_8:4', 'web-search_1:0', 'web-search_0:5', 'web-search_3:4']}, {'start': 222, 'end': 230, 'text': 'guidance', 'document_ids': ['web-search_0:5', 'web-search_3:4']}, {'start': 333, 'end': 443, 'text': 'nurturing and educating children, disciplining them, managing the home, and financially supporting the family.', 'document_ids': ['web-search_9:0']}, {'start': 444, 'end': 456, 'text': 'Modern roles', 'document_ids': ['web-search_9:0']}, {'start': 466, 'end': 511, 'text': 'active participation of fathers in child care', 'document_ids': ['web-search_9:0']}, {'start': 612, 'end': 655, 'text': 'a happier mother leads to happier children.', 'document_ids': ['web-search_0:5']}, {'start': 680, 'end': 713, 'text': 'first and most important teachers', 'document_ids': ['web-search_1:0']}, {'start': 747, 'end': 797, 'text': \"supporting their child's learning and development.\", 'document_ids': ['web-search_1:0']}, {'start': 818, 'end': 912, 'text': \"helping with homework, attending school functions, and communicating with the child's teacher.\", 'document_ids': ['web-search_1:0']}, {'start': 930, 'end': 988, 'text': 'connect what their child learns in school to everyday life', 'document_ids': ['web-search_3:4']}, {'start': 1085, 'end': 1119, 'text': 'Happy parents raise happy children', 'document_ids': ['web-search_0:5']}, {'start': 1220, 'end': 1228, 'text': 'physical', 'document_ids': ['web-search_8:4', 'web-search_0:5']}, {'start': 1230, 'end': 1242, 'text': 'intellectual', 'document_ids': ['web-search_0:5']}, {'start': 1244, 'end': 1253, 'text': 'emotional', 'document_ids': ['web-search_9:0', 'web-search_0:5']}, {'start': 1259, 'end': 1265, 'text': 'social', 'document_ids': ['web-search_8:4', 'web-search_0:5']}], 'search_results': [{'search_query': {'text': 'what is the role of parents', 'generation_id': 'eb117ea9-ac32-4f6e-b0b3-6e645c05781c'}, 'document_ids': ['web-search_0:5', 'web-search_1:0', 'web-search_3:4', 'web-search_8:4', 'web-search_9:0'], 'connector': {'id': 'web-search'}}], 'search_queries': [{'text': 'what is the role of parents', 'generation_id': 'eb117ea9-ac32-4f6e-b0b3-6e645c05781c'}], 'token_count': {'prompt_tokens': 1372, 'response_tokens': 237, 'total_tokens': 1609, 'billed_tokens': 247}}\n",
            "\n",
            "\n",
            "Being a parent is one of the toughest jobs in the world, but it is also one of the most rewarding. Parents have an important role in their children's development and well-being through supporting their children, providing guidance, and shaping their children's future. \n",
            "\n",
            "Some of the basic traditional roles of being a parent include nurturing and educating children, disciplining them, managing the home, and financially supporting the family. Modern roles see more active participation of fathers in child care, and although mothers still often take on the bulk of the responsibilities, research has shown that a happier mother leads to happier children. \n",
            "\n",
            "Parents are a child's first and most important teachers, and they play a crucial role in supporting their child's learning and development. This can be done by helping with homework, attending school functions, and communicating with the child's teacher. Parents can also connect what their child learns in school to everyday life by discussing topics related to what they learn in school during mealtimes or family outings. \n",
            "\n",
            "Happy parents raise happy children and parents act as visionaries to their children, shaping not just their academic futures but their physical, intellectual, emotional, and social personhood.\n",
            "\n",
            "\n",
            "------------------------------\n",
            "\n",
            "\n"
          ]
        }
      ]
    },
    {
      "cell_type": "markdown",
      "source": [
        "# Weaviate"
      ],
      "metadata": {
        "id": "16xJ6tkY4C_8"
      }
    },
    {
      "cell_type": "code",
      "source": [
        "!pip install weaviate-client"
      ],
      "metadata": {
        "colab": {
          "base_uri": "https://localhost:8080/"
        },
        "id": "1Os8yX9b4HA8",
        "outputId": "4dbfedd8-be92-4630-ed30-9b5755ac2a2a"
      },
      "execution_count": 4,
      "outputs": [
        {
          "output_type": "stream",
          "name": "stdout",
          "text": [
            "Collecting weaviate-client\n",
            "  Downloading weaviate_client-3.25.3-py3-none-any.whl (120 kB)\n",
            "\u001b[2K     \u001b[90m━━━━━━━━━━━━━━━━━━━━━━━━━━━━━━━━━━━━━━━━\u001b[0m \u001b[32m120.3/120.3 kB\u001b[0m \u001b[31m2.4 MB/s\u001b[0m eta \u001b[36m0:00:00\u001b[0m\n",
            "\u001b[?25hRequirement already satisfied: requests<3.0.0,>=2.30.0 in /usr/local/lib/python3.10/dist-packages (from weaviate-client) (2.31.0)\n",
            "Collecting validators<1.0.0,>=0.21.2 (from weaviate-client)\n",
            "  Downloading validators-0.22.0-py3-none-any.whl (26 kB)\n",
            "Collecting authlib<2.0.0,>=1.2.1 (from weaviate-client)\n",
            "  Downloading Authlib-1.2.1-py2.py3-none-any.whl (215 kB)\n",
            "\u001b[2K     \u001b[90m━━━━━━━━━━━━━━━━━━━━━━━━━━━━━━━━━━━━━━━━\u001b[0m \u001b[32m215.3/215.3 kB\u001b[0m \u001b[31m12.1 MB/s\u001b[0m eta \u001b[36m0:00:00\u001b[0m\n",
            "\u001b[?25hRequirement already satisfied: cryptography>=3.2 in /usr/local/lib/python3.10/dist-packages (from authlib<2.0.0,>=1.2.1->weaviate-client) (41.0.5)\n",
            "Requirement already satisfied: charset-normalizer<4,>=2 in /usr/local/lib/python3.10/dist-packages (from requests<3.0.0,>=2.30.0->weaviate-client) (3.3.2)\n",
            "Requirement already satisfied: idna<4,>=2.5 in /usr/local/lib/python3.10/dist-packages (from requests<3.0.0,>=2.30.0->weaviate-client) (3.4)\n",
            "Requirement already satisfied: urllib3<3,>=1.21.1 in /usr/local/lib/python3.10/dist-packages (from requests<3.0.0,>=2.30.0->weaviate-client) (1.26.18)\n",
            "Requirement already satisfied: certifi>=2017.4.17 in /usr/local/lib/python3.10/dist-packages (from requests<3.0.0,>=2.30.0->weaviate-client) (2023.7.22)\n",
            "Requirement already satisfied: cffi>=1.12 in /usr/local/lib/python3.10/dist-packages (from cryptography>=3.2->authlib<2.0.0,>=1.2.1->weaviate-client) (1.16.0)\n",
            "Requirement already satisfied: pycparser in /usr/local/lib/python3.10/dist-packages (from cffi>=1.12->cryptography>=3.2->authlib<2.0.0,>=1.2.1->weaviate-client) (2.21)\n",
            "Installing collected packages: validators, authlib, weaviate-client\n",
            "Successfully installed authlib-1.2.1 validators-0.22.0 weaviate-client-3.25.3\n"
          ]
        }
      ]
    },
    {
      "cell_type": "code",
      "source": [
        "import os\n",
        "import weaviate\n",
        "import json\n",
        "\n",
        "auth_config = weaviate.auth.AuthApiKey(api_key='t25tkIKVncKsmW0ATSBqytZEjxC9c3VAjfSn')\n",
        "client = weaviate.Client(\n",
        "    url=\"https://cohere-hack-jrvynxdk.weaviate.network/\",\n",
        "    auth_client_secret=auth_config,\n",
        "    additional_headers={\n",
        "        \"X-Cohere-Api-Key\":\"UUxT220ExD2Zsrngo4olu2XuWjYsscpaVXDpnS0C\"\n",
        "    },\n",
        "    startup_period=90\n",
        ")\n",
        "client.is_ready()"
      ],
      "metadata": {
        "colab": {
          "base_uri": "https://localhost:8080/"
        },
        "id": "VOsipmd44EcC",
        "outputId": "09234429-281a-4abf-da6a-718fe36ada96"
      },
      "execution_count": 10,
      "outputs": [
        {
          "output_type": "execute_result",
          "data": {
            "text/plain": [
              "True"
            ]
          },
          "metadata": {},
          "execution_count": 10
        }
      ]
    },
    {
      "cell_type": "markdown",
      "source": [
        "## Key-word Search"
      ],
      "metadata": {
        "id": "HSARV1tx-FFO"
      }
    },
    {
      "cell_type": "code",
      "source": [
        "where_filter = {\n",
        "  \"path\": [\"tafsir\"],\n",
        "  \"operator\": \"Like\",\n",
        "  \"valueString\": \"prophet\"\n",
        "}\n",
        "\n",
        "query_result = (\n",
        "  client.query\n",
        "  .get(\"quran\", [\"sura\", \"aya\",\"tafsir\"])\n",
        "  .with_where(where_filter)\n",
        "  .with_limit(3)\n",
        "  .do()\n",
        ")\n",
        "\n",
        "print(json.dumps(query_result, indent=2))"
      ],
      "metadata": {
        "colab": {
          "base_uri": "https://localhost:8080/"
        },
        "id": "2Ngarm5L4FbC",
        "outputId": "05f6b987-cc22-4181-e0a5-16e6e4cd3e1b"
      },
      "execution_count": 11,
      "outputs": [
        {
          "output_type": "stream",
          "name": "stdout",
          "text": [
            "{\n",
            "  \"data\": {\n",
            "    \"Get\": {\n",
            "      \"Quran\": [\n",
            "        {\n",
            "          \"aya\": \"1\",\n",
            "          \"sura\": 1,\n",
            "          \"tafsir\": \"Abu Hurayrah once performed the prayer and recited Bismillah aloud After he finished the prayer, he said, \\\"Among you, I perform the prayer that is the closest to the prayer of the Messenger of Allah Ad-Daraqutni, Al-Khatib and Al-Bayhaqi graded this Hadith Sahih Furthermore, in Sahih Al-Bukhari it is recorded that Anas bin Malik was asked about the recitation of the Prophet He said, \\\"His recitation was unhurried He then demonstrated that and recited, while lengthening the recitation of Bismillah Ar-Rahman Ar-Rahim, Also, in the Musnad of Imam Ahmad, the Sunan of Abu Dawud, the Sahih of Ibn Hibban and the Mustadrak of Al-Hakim - it is recorded that Umm Salamah said, \\\"The Messenger of Allah used to distinguish each Ayah during his recitation, - - - \\\"In the Name of Allah, the Most Gracious, the Most Merciful All praise and thanks be to Allah, the Lord of all that exists, the Most Gracious, the Most Merciful The Owner of the Day of Recompense..\\\".Ad-Daraqutni graded the chain of narration for this Hadith Sahih Furthermore, Imam Abu `Abdullah Ash-Shafi`i and Al-Hakim in his Mustadrak, recorded that Mu`awiyah led the prayer in Al-Madinah and did not recite the Bismillah The Muhajirin who were present at that prayer criticized that When Mu`awiyah led the following prayer, he recited the Bismillah aloud..The Hadiths mentioned above provide sufficient proof for the opinion that the Bismillah is recited aloud As for the opposing evidences and the scientific analysis of the narrations mentioned their weaknesses or otherwise it is not our desire to discuss this subject at this time..Other scholars stated that the Bismillah should not be recited aloud in the prayer, and this is the established practice of the Four Khalifahs, as well as `Abdullah bin Mughaffal and several scholars among the Tabi`in and later generations It is also the Madhhab (view) of Abu Hanifah, Ath-Thawri and Ahmad bin Hanbal..Imam Malik stated that the Bismillah is not recited aloud or silently This group based their view upon what Imam Muslim recorded that `Aishah said that the Messenger of Allah used to start the prayer by reciting the Takbir (Allahu Akbar; Allah is Greater) and then recite, \\\"All praise and thanks be to Allah, the Lord of all that exists..\\\" (Ibn Abi Hatim 1:12)..Also, the Two Sahihs recorded that Anas bin Malik said, \\\"I prayed behind the Prophet , Abu Bakr, `Umar and `Uthman and they used to start their prayer with, \\\"All praise and thanks be to Allah, the Lord of all that exists..\\\".Muslim added, \\\"And they did not mention, \\\"In the Name of Allah, the Most Gracious, the Most Merciful.\\\" whether in the beginning or the end of the recitation Similar is recorded in the Sunan books from `Abdullah bin Mughaffal, may Allah be pleased with him..These are the opinions held by the respected Imams, and their statements are similar in that they agree that the prayer of those who recite Al-Fatihah aloud or in secret is correct All the favor is from Allah. The\"\n",
            "        },\n",
            "        {\n",
            "          \"aya\": \"10\",\n",
            "          \"sura\": 2,\n",
            "          \"tafsir\": \"In their hearts is a disease and Allah has increased their disease A painful torment is theirs because they used to tell lies..The Meaning of `Disease in this Ayah..As-Suddi narrated from Abu Malik and (also) from Abu Salih, from Ibn `Abbas, and (also) Murrah Al-Hamdani from Ibn Mas`ud and other Companions that this Ayah, \\\"In their hearts is a disease.\\\" means, `doubt, and, \\\"And Allah has increased their disease.\\\" also means `doubt Mujahid, `Ikrimah, Al-Hasan Al-Basri, Abu Al-`Aliyah, Ar-Rabi` bin Anas and Qatadah also said similarly `Abdur-Rahman bin Zayd bin Aslam commented on, \\\"In their hearts is a disease.\\\", \\\"A disease in the religion, not a physical disease They are the hypocrites and the disease is the doubt that they brought to Islam. \\\"And Allah has increased their disease.\\\" meaning, increased them in shameful behavior He also recited, \\\"As for those who believe, it has increased their faith, and they rejoice But as for those in whose hearts is a disease, it will add disgrace to their disgrace..\\\" (9:124-125) and commented, \\\"Evil to their evil and deviation to their deviation This statement by `Abdur-Rahman is true, and it constitutes a punishment that is compatible to the sin, just as the earlier scholars stated Similarly, Allah said, \\\"While as for those who accept guidance, He increases their guidance and grants them their piety.\\\" (47:17)..Allah said next, \\\"Because they used to tell lies.\\\" The hypocrites have two characteristics, they lie and they deny the Unseen..The scholars who stated that the Prophet knew the hypocrites of his time have only the Hadith of Hudhayfah bin Al-Yaman as evidence In it the Prophet gave him the names of fourteen hypocrites during the battle of Tabuk These hypocrites plotted to assassinate the Prophet during the night on a hill in that area They planned to excite the Prophets camel, so that she would throw him down the hill Allah informed the Prophet about their plot, and the Prophet told Hudhayfah their names..As for the other hypocrites, Allah said about them, \\\"And among the bedouins around you, some are hypocrites, and so are some among the people of Al-Madinah who persist in hypocrisy; you (O Muhammad .\\\" know them not, We know them) (9:101), and, \\u2022 \\\"If the hypocrites, and those in whose hearts is a disease, and those who spread false news among the people in Al-Madinah do not cease, We shall certainly let you overpower them, then they will not be able to stay in it as your neighbors but a little while Accursed, they shall be seized wherever found, and killed with a (terrible.\\\" slaughter) (33:60-61)..These Ayat prove that the Prophet was not informed about each and everyone among the hypocrites of his time Rather, the Prophet was only informed about their characteristics, and he used to assume that some people possessed these characteristics Similarly, Allah said, \\\"Had We willed, We could have shown them to you, and you should have known them by their marks; but surely, you will know them by\"\n",
            "        },\n",
            "        {\n",
            "          \"aya\": \"1\",\n",
            "          \"sura\": 2,\n",
            "          \"tafsir\": \"\\\" Alif Lam Mim.\\\". The Discussion of the Individual Letters..The individual letters in the beginning of some Surahs are among those things whose knowledge Allah has kept only for Himself This was reported from Abu Bakr, `Umar, `Uthman, `Ali and Ibn Mas`ud It was said that these letters are the names of some of the Surahs It was also said that they are the beginnings that Allah chose to start the Surahs of the Quran with Khasif stated that Mujahid said, \\\"The beginnings of the Surahs, such as Qaf, Sad, Ta Sin Mim and Alif Lam Ra, are just some letters of the alphabet Some linguists also stated that they are letters of the alphabet and that Allah simply did not cite the entire alphabet of twenty-eight letters For instance, they said, one might say, \\\"My son recites Alif, Ba, Ta, Tha.. he means the entire alphabet although he stops before mentioning the rest of it This opinion was mentioned by Ibn Jarir. The Letters at the Beginning of Surahs..If one removes the repetitive letters, then the number of letters mentioned at the beginning of the Surahs is fourteen: Alif, Lam, Mim, Sad, Ra, Kaf, Ha, Ya, `Ayn, Ta, Sin, Ha, Qaf, Nun..So glorious is He Who made everything subtly reflect His wisdom..Moreover, the scholars said, \\\"There is no doubt that Allah did not reveal these letters for jest and play Some ignorant people said that some of the Quran does not mean anything, (meaning, such as these letters) thus committing a major mistake On the contrary, these letters carry a specific meaning Further, if we find an authentic narration leading to the Prophet that explains these letters, we will embrace the Prophets statement Otherwise, we will stop where we were made to stop and will proclaim, \\\"We believe in it; all of it (clear and unclear verses.\\\" is from our Lord) (3:7)..The scholars did not agree on one opinion or explanation regarding this subject Therefore, whoever thinks that one scholars opinion is correct, he is obliged to follow it, otherwise it is better to refrain from making any judgment on this matter Allah knows best. These Letters testify to the Miraculous Quran..The wisdom behind mentioning these letters in the beginning of the Surahs, regardless of the exact meanings of these letters, is that they testify to the miracle of the Quran Indeed, the servants are unable to produce something like the Quran, although it is comprised of the same letters with which they speak to each other This opinion was mentioned by Ar-Razi in his Tafsir who related it to Al-Mubarrid and several other scholars Al-Qurtubi also related this opinion to Al-Farra and Qutrub Az-Zamakhshari agreed with this opinion in his book, Al-Kashshaf In addition, the Imam and scholar Abu Al-`Abbas Ibn Taymiyyah and our Shaykh Al-Hafiz Abu Al-Hajjaj Al-Mizzi agreed with this opinion Al-Mizzi told me that it is also the opinion of Shaykh Al-Islam Ibn Taymiyyah KAz-Zamakhshari said that these letters, \\\"Were not all mentioned once in\"\n",
            "        }\n",
            "      ]\n",
            "    }\n",
            "  }\n",
            "}\n"
          ]
        }
      ]
    },
    {
      "cell_type": "code",
      "source": [
        "query"
      ],
      "metadata": {
        "colab": {
          "base_uri": "https://localhost:8080/",
          "height": 35
        },
        "id": "HwGaHdPw8DkB",
        "outputId": "6b59308e-072b-4b24-9c43-d64a0ea6c6bc"
      },
      "execution_count": 220,
      "outputs": [
        {
          "output_type": "execute_result",
          "data": {
            "text/plain": [
              "'I am interested in about the role of parents.'"
            ],
            "application/vnd.google.colaboratory.intrinsic+json": {
              "type": "string"
            }
          },
          "metadata": {},
          "execution_count": 220
        }
      ]
    },
    {
      "cell_type": "markdown",
      "source": [
        "## Semantic Search"
      ],
      "metadata": {
        "id": "DKzd5-Rw-KNn"
      }
    },
    {
      "cell_type": "code",
      "source": [
        "def semantic_search(query):\n",
        "    nearText = {\n",
        "        \"concepts\": [query],\n",
        "#         \"distance\": -139.0,\n",
        "    }\n",
        "\n",
        "    properties = [\n",
        "        \"sura\", \"aya\", \"tafsir\",\n",
        "        \"_additional {distance}\"\n",
        "    ]\n",
        "\n",
        "    response = (\n",
        "        client.query\n",
        "        .get(\"quran\", properties)\n",
        "        .with_near_text(nearText)\n",
        "        .with_limit(3)\n",
        "        .do()\n",
        "    )\n",
        "\n",
        "    result = response['data']['Get']['Quran']\n",
        "\n",
        "    return result\n",
        "\n",
        "\n",
        "res = semantic_search(query)\n",
        "res"
      ],
      "metadata": {
        "colab": {
          "base_uri": "https://localhost:8080/"
        },
        "id": "9PBva8lO4sdX",
        "outputId": "83e9d95d-87ea-418a-9877-5215f5f72ff5"
      },
      "execution_count": 234,
      "outputs": [
        {
          "output_type": "execute_result",
          "data": {
            "text/plain": [
              "[{'_additional': {'distance': -146.06438},\n",
              "  'aya': '8,9',\n",
              "  'sura': 29,\n",
              "  'tafsir': 'And We have enjoined on man to be dutiful to his parents; but if they strive to make you associate with Me, which you have no knowledge of, then obey them not Unto Me is your return and I shall tell you what you used to do And for those who believe and do righteous deeds, surely, We shall admit them among the righteous...Allah commands His servants to be dutiful to parents, after urging them to adhere to belief in His Tawhid, because a persons parents are the cause of his existence So he must treat them with the utmost kindness and respect, his father for spending on him and his mother because of her compassion for him Allah says: - \"And your Lord has decreed that you worship none but Him And that you be dutiful to your parents If one of them or both of them attain old age in your life, say not to them a word of disrespect, nor shout at them, but address them in terms of honor And lower unto them the wing of submission and humility through mercy, and say: \"My Lord! Bestow on them Your mercy as they did bring me up when I was young..\" (17:23-24) Although Allah orders us to show kindness, mercy and respect towards them in return for their previous kindness, He says: \"but if they strive to make associate with Me, which you have no knowledge of, then obey them not..\" meaning, if they are idolators, and they try to make you follow them in their religion, then beware of them, and do not obey them in that, for you will be brought back to Me on the Day of Resurrection, and Allah will reward you for your kindness towards them and your patience in adhering to your religion It is Allah Who will gather you with the group of the righteous, not with the group of your parents, even though you were the closest of people to them in the world For a person will be gathered on the Day of Resurrection with those whom he loves, meaning, religious love Allah says: \"And for those who believe and do righteous good deeds, surely, We shall make them enter with the righteous..\" In his Tafsir of this Ayah, At-Tirmidhi recorded that Sa`d said: \"Four Ayat were revealed concerning me -- and he told his story He said: \"Umm Sa`d said: `Did Allah not command you to honor your parents By Allah, I will not eat or drink anything until I die or you renounce Islam When they wanted to feed her, they would force her mouth open Then this Ayah was revealed: \"And We have enjoined on man to be dutiful to his parents; but if they strive to make you associate with Me, of which you have no knowledge, then obey them not..\" This Hadith was also recorded by Imam Ahmad, Muslim, Abu Dawud and An-Nasai At-Tirmidhi said, \"Hasan Sahih..'},\n",
              " {'_additional': {'distance': -145.01074},\n",
              "  'aya': '15,16',\n",
              "  'sura': 46,\n",
              "  'tafsir': 'And We have enjoined on man to be dutiful and kind to his parents His mother bears him with hardship And she delivers him with hardship And (the period of) his gestation and the weaning of him is thirty months, till when he attains full strength and reaches forty years, he says: \"My Lord! Grant me the power and ability that I may be grateful for Your favor which You have bestowed upon me and upon my parents, and that I may do righteous good deeds, such as please You, and make my offspring good Truly, I have turned to You in repentance, and truly, I am one of the Muslims They are those from whom We shall accept the best of their deeds and overlook their evil deeds (They shall be) among the dwellers of Paradise That is a promise of truth that they had been promised..Allahs Advice about the Parents.After mentioning that one must confess His Oneness, worship Him with sincerity, and remain upright in obeying Him, Allah follows that by giving instructions regarding the parents These appear together in many places of the Quran, such as Allahs saying, \"Your Lord has decreed that you worship none but Him, and that you be dutiful to your parents..\" (17:23) Allah says, \"Be grateful to Me and to your parents Unto Me is the final destination..\" (31:14) There are many other Ayat like this as well Here Allah says, \"And We have enjoined on man to be dutiful and kind to his parents..\" (46:15) meaning, `We have commanded him to treat them well and show compassion towards them Abu Dawud At-Tayalisi recorded from Sa`d bin Abi Waqqas, may Allah be pleased with him, that his mother said to him: \"Hasnt Allah commanded that you obey your parents Then I will not eat any food or drink any drink until you disbelieve in Allah Thus she stubbornly abstained from eating and drinking, until they had to open her mouth with a stick Then this Ayah was revealed, \"And We have enjoined on man to be dutiful and kind to his parents .\" This was also recorded by Muslim and the Sunan compilers, except for Ibn Majah Allah continues, \"His mother bears him with hardship..\" which means that the mother suffers hardship because of her child, such as fatigue, sickness, vomiting, heaviness, distress, and other forms of hardship that the pregnant women suffer. \"And she delivers him with hardship..\" meaning, she also delivers him with hardship, suffering the pains of labor and their severity. \"And (the period of.\" his gestation and weaning is thirty months,) `Ali, may Allah be pleased with him, used this Ayah along with the following two Ayat to prove that the minimum period of pregnancy (gestation) is six months: \"And his weaning is in two years..\" (31:14) and \"The mothers suckle their children two complete years -- for those who desire to complete the term of suckling .\" (2:233) This is a strong and valid conclusion, and it'},\n",
              " {'_additional': {'distance': -142.59277},\n",
              "  'aya': '12',\n",
              "  'sura': 4,\n",
              "  'tafsir': 'say He said, `That Kalalah refers to the person who has no child or parents This is also the opinion of `Ali bin Abi Talib, Ibn Mas`ud, Ibn `Abbas, Zayd bin Thabit, Ash-Sha`bi, An-Nakha`i, Al-Hasan Al-Basri, Qatadah, Jabir bin Zayd and Al-Hakam This is also the view of the people of Al-Madinah, Kufah, Basrah, the Seven Fuqaha, the Four Imams and the majority of scholars of the past and present, causing some scholars to declare that there is a consensus on this opinion. .The Ruling Concerning Children of the Mother From Other Than the Deceaseds Father.Allah said, \"But has left a brother or a sister.\", meaning, from his mothers side, as some of the Salaf stated, including Sa`d bin Abi Waqqas Qatadah reported that this is the view of Abu Bakr As-Siddiq. \"Each one of the two gets a sixth; but if more than two, they share in a third..\" There is a difference between the half brothers from the mothers side and the rest of the heirs First, they get a share in the inheritance on account of their mother Second, the males and females among them get the same share Third, they only have a share in the inheritance when the deceaseds estate is inherited in Kalalah, for they do not have a share if the deceased has a surviving father, grandfather, child or grandchild Fourth, they do not have more than a third, no matter how numerous they were aAllahs statement, \"After payment of legacies he (or she.\" may have bequeathed or debts, so that no loss is caused (to anyone).) means, let the will and testament be fair and free of any type of harm, without depriving some rightful heirs from all, or part of their share, or adding to the fixed portion that Allah or dained for some heirs Indeed, whoever does this, will have disputed with Allah concerning His decision and division An authentic Hadith states, \"Allah has given each his fixed due right Therefore, there is no will for a rightful inheritor..\".'}]"
            ]
          },
          "metadata": {},
          "execution_count": 234
        }
      ]
    },
    {
      "cell_type": "markdown",
      "source": [
        "## Hybrid"
      ],
      "metadata": {
        "id": "SNTHQvp7-nTf"
      }
    },
    {
      "cell_type": "code",
      "source": [
        "response = (\n",
        "    client.query\n",
        "    .get(\"Quran\", [\"tafsir\", \"sura\", \"aya\"])\n",
        "    .with_hybrid(\n",
        "        query=query,\n",
        "        alpha=0.75\n",
        "    )\n",
        "    .with_limit(3)\n",
        "    .do()\n",
        ")\n",
        "\n",
        "print(json.dumps(response, indent=2))"
      ],
      "metadata": {
        "colab": {
          "base_uri": "https://localhost:8080/"
        },
        "id": "qe8kCNqF-Syr",
        "outputId": "811090d5-2a28-4f7e-f471-e1a7795944af"
      },
      "execution_count": 238,
      "outputs": [
        {
          "output_type": "stream",
          "name": "stdout",
          "text": [
            "{\n",
            "  \"data\": {\n",
            "    \"Get\": {\n",
            "      \"Quran\": [\n",
            "        {\n",
            "          \"aya\": \"15,16\",\n",
            "          \"sura\": 46,\n",
            "          \"tafsir\": \"And We have enjoined on man to be dutiful and kind to his parents His mother bears him with hardship And she delivers him with hardship And (the period of) his gestation and the weaning of him is thirty months, till when he attains full strength and reaches forty years, he says: \\\"My Lord! Grant me the power and ability that I may be grateful for Your favor which You have bestowed upon me and upon my parents, and that I may do righteous good deeds, such as please You, and make my offspring good Truly, I have turned to You in repentance, and truly, I am one of the Muslims They are those from whom We shall accept the best of their deeds and overlook their evil deeds (They shall be) among the dwellers of Paradise That is a promise of truth that they had been promised..Allahs Advice about the Parents.After mentioning that one must confess His Oneness, worship Him with sincerity, and remain upright in obeying Him, Allah follows that by giving instructions regarding the parents These appear together in many places of the Quran, such as Allahs saying, \\\"Your Lord has decreed that you worship none but Him, and that you be dutiful to your parents..\\\" (17:23) Allah says, \\\"Be grateful to Me and to your parents Unto Me is the final destination..\\\" (31:14) There are many other Ayat like this as well Here Allah says, \\\"And We have enjoined on man to be dutiful and kind to his parents..\\\" (46:15) meaning, `We have commanded him to treat them well and show compassion towards them Abu Dawud At-Tayalisi recorded from Sa`d bin Abi Waqqas, may Allah be pleased with him, that his mother said to him: \\\"Hasnt Allah commanded that you obey your parents Then I will not eat any food or drink any drink until you disbelieve in Allah Thus she stubbornly abstained from eating and drinking, until they had to open her mouth with a stick Then this Ayah was revealed, \\\"And We have enjoined on man to be dutiful and kind to his parents .\\\" This was also recorded by Muslim and the Sunan compilers, except for Ibn Majah Allah continues, \\\"His mother bears him with hardship..\\\" which means that the mother suffers hardship because of her child, such as fatigue, sickness, vomiting, heaviness, distress, and other forms of hardship that the pregnant women suffer. \\\"And she delivers him with hardship..\\\" meaning, she also delivers him with hardship, suffering the pains of labor and their severity. \\\"And (the period of.\\\" his gestation and weaning is thirty months,) `Ali, may Allah be pleased with him, used this Ayah along with the following two Ayat to prove that the minimum period of pregnancy (gestation) is six months: \\\"And his weaning is in two years..\\\" (31:14) and \\\"The mothers suckle their children two complete years -- for those who desire to complete the term of suckling .\\\" (2:233) This is a strong and valid conclusion, and it\"\n",
            "        },\n",
            "        {\n",
            "          \"aya\": \"8,9\",\n",
            "          \"sura\": 29,\n",
            "          \"tafsir\": \"And We have enjoined on man to be dutiful to his parents; but if they strive to make you associate with Me, which you have no knowledge of, then obey them not Unto Me is your return and I shall tell you what you used to do And for those who believe and do righteous deeds, surely, We shall admit them among the righteous...Allah commands His servants to be dutiful to parents, after urging them to adhere to belief in His Tawhid, because a persons parents are the cause of his existence So he must treat them with the utmost kindness and respect, his father for spending on him and his mother because of her compassion for him Allah says: - \\\"And your Lord has decreed that you worship none but Him And that you be dutiful to your parents If one of them or both of them attain old age in your life, say not to them a word of disrespect, nor shout at them, but address them in terms of honor And lower unto them the wing of submission and humility through mercy, and say: \\\"My Lord! Bestow on them Your mercy as they did bring me up when I was young..\\\" (17:23-24) Although Allah orders us to show kindness, mercy and respect towards them in return for their previous kindness, He says: \\\"but if they strive to make associate with Me, which you have no knowledge of, then obey them not..\\\" meaning, if they are idolators, and they try to make you follow them in their religion, then beware of them, and do not obey them in that, for you will be brought back to Me on the Day of Resurrection, and Allah will reward you for your kindness towards them and your patience in adhering to your religion It is Allah Who will gather you with the group of the righteous, not with the group of your parents, even though you were the closest of people to them in the world For a person will be gathered on the Day of Resurrection with those whom he loves, meaning, religious love Allah says: \\\"And for those who believe and do righteous good deeds, surely, We shall make them enter with the righteous..\\\" In his Tafsir of this Ayah, At-Tirmidhi recorded that Sa`d said: \\\"Four Ayat were revealed concerning me -- and he told his story He said: \\\"Umm Sa`d said: `Did Allah not command you to honor your parents By Allah, I will not eat or drink anything until I die or you renounce Islam When they wanted to feed her, they would force her mouth open Then this Ayah was revealed: \\\"And We have enjoined on man to be dutiful to his parents; but if they strive to make you associate with Me, of which you have no knowledge, then obey them not..\\\" This Hadith was also recorded by Imam Ahmad, Muslim, Abu Dawud and An-Nasai At-Tirmidhi said, \\\"Hasan Sahih..\"\n",
            "        },\n",
            "        {\n",
            "          \"aya\": \"23,24\",\n",
            "          \"sura\": 17,\n",
            "          \"tafsir\": \"And your Lord has Qada decreed that you worship none but Him And that you be dutiful to your parents If one of them or both of them attain old age in your life, say not to them a word of disrespect, nor reprimand them but address them in terms of honor And lower unto them the wing of submission and humility through mercy, and say: \\\"My Lord! Bestow on them Your mercy as they did bring me up when I was young..The Command to Worship Allah Alone and to be Dutiful to Ones Parents.Allah commands us to worship Him alone, with no partner or associate The word Qada normally having the meaning of decree here means \\\"commanded Mujahid said that \\\"And He has Qada.\\\" means enjoined This is also how Ubayy bin Ka`b, Ibn Mas`ud and Ad-Dahhak bin Muzahim recited the Ayah as: .\\\"And your Lord has Wassa enjoined that you worship none but Him The idea of worshipping Allah is connected to the idea of honoring ones parents Allah says: \\\"And that you be dutiful to your parents..\\\" Here He commands good treatment of parents, as He says elsewhere: \\\"give thanks to Me and to your parents Unto Me is the final destination.\\\" 31: \\\"If one of them or both of them attain old age in your life, say not to them a word of disrespect,.\\\" means, do not let them hear anything offensive from you, not even say \\\"Uff! which is the mildest word of disrespect, \\\"and do not reprimand them.\\\" means, do not do anything horrible to them. \\\"and do not reprimand them.\\\" `Ata bin Rabah said that it meant, \\\"Do not raise your hand against them When Allah forbids speaking and behaving in an obnoxious manner, He commands speaking and behaving in a good manner, so He says: \\\"but address them in terms of honor..\\\" meaning gently, kindly, politely, and with respect and appreciation. \\\"And lower unto them the wing of submission and humility through mercy,.\\\" means, be humble towards them in your actions. \\\"and say: \\\"My Lord! Bestow on them Your Mercy as they did bring me up when I was young..\\\" means, say this when they grow old and when they die Ibn `Abbas said: \\\"But then Allah revealed: \\\"It is not (proper.\\\" for the Prophet and those who believe to ask Allahs forgiveness for the idolators ..) 9:13 There are many Hadiths which speak about honoring ones parents, such as the Hadith narrated through a number of chains of narration from Anas and others, which states that the Prophet climbed up on the Minbar, and then said, ((Amin, Amin, Amin.)) It was said, \\\"O Messenger of Allah, why did you say Amin He said: : : : : : : : : : \\\"Jibril came to me and said, \\\"O Muhammad, he is doomed who hears you mentioned and does not say Salla upon you He said, \\\"Say Amin, so I said Amin Then he said, \\\"He is doomed who sees the\"\n",
            "        }\n",
            "      ]\n",
            "    }\n",
            "  }\n",
            "}\n"
          ]
        }
      ]
    },
    {
      "cell_type": "markdown",
      "source": [
        "# Weaviate Hybrid Search & Langchain Cohere"
      ],
      "metadata": {
        "id": "7XjvVhLZLPCZ"
      }
    },
    {
      "cell_type": "code",
      "source": [
        "import os\n",
        "import weaviate\n",
        "import json\n",
        "\n",
        "auth_config = weaviate.auth.AuthApiKey(api_key='t25tkIKVncKsmW0ATSBqytZEjxC9c3VAjfSn')\n",
        "client = weaviate.Client(\n",
        "    url=\"https://cohere-hack-jrvynxdk.weaviate.network/\",\n",
        "    auth_client_secret=auth_config,\n",
        "    additional_headers={\n",
        "        \"X-Cohere-Api-Key\":\"lwU3WyxaXvsIBvUIDcMUOMH80FzO316zgBdLRt7H\"\n",
        "    }\n",
        ")\n",
        "client.is_ready()"
      ],
      "metadata": {
        "colab": {
          "base_uri": "https://localhost:8080/"
        },
        "id": "SN-dMlBbLSCS",
        "outputId": "7f5164ca-447f-44ce-c69a-4ec707618a0c"
      },
      "execution_count": 5,
      "outputs": [
        {
          "output_type": "execute_result",
          "data": {
            "text/plain": [
              "True"
            ]
          },
          "metadata": {},
          "execution_count": 5
        }
      ]
    },
    {
      "cell_type": "code",
      "source": [
        "query = \"The oneness of God. Feeling Grateful\"\n",
        "\n",
        "response = (\n",
        "    client.query\n",
        "    .get(\"Quran\", [\"tafsir\", \"sura\", \"aya\"])\n",
        "    .with_hybrid(\n",
        "        query=query,\n",
        "        alpha=0.75\n",
        "    )\n",
        "    .with_limit(3)\n",
        "    .do()\n",
        ")"
      ],
      "metadata": {
        "id": "gVU2nb3mLquz"
      },
      "execution_count": 26,
      "outputs": []
    },
    {
      "cell_type": "code",
      "source": [
        "documents = response['data']['Get']['Quran']"
      ],
      "metadata": {
        "id": "E-QVl79SL81s"
      },
      "execution_count": 27,
      "outputs": []
    },
    {
      "cell_type": "code",
      "source": [
        "from langchain.chains.summarize import load_summarize_chain\n",
        "from langchain.prompts import ChatPromptTemplate\n",
        "from langchain.chat_models import ChatCohere\n",
        "\n",
        "llm = ChatCohere(cohere_api_key=cohere_api_key)\n",
        "chain_type = \"map_reduce\"\n",
        "\n",
        "chain = load_summarize_chain(llm, chain_type=chain_type, verbose=False)\n",
        "\n",
        "prompt = ChatPromptTemplate.from_template(\"\"\"\n",
        "A user searches \"{message}\" and the following result comes up: {context}\n",
        "\n",
        "Your job is to summarize this result in relation to the user's search into ONE sentence.\n",
        "\n",
        "Only respond with the sentence and nothing else. Do not ask any follow up questions!\n",
        "\"\"\")\n",
        "\n",
        "\n",
        "chain = prompt | llm\n",
        "\n",
        "result = chain.batch([{\"message\": query, \"context\": documents[0]['tafsir']}, {\"message\": query, \"context\":documents[1]['tafsir']}, {\"message\": query, \"context\":documents[2]['tafsir']}])"
      ],
      "metadata": {
        "id": "9mRUjHL0LYUd"
      },
      "execution_count": 10,
      "outputs": []
    },
    {
      "cell_type": "code",
      "source": [
        "import re\n",
        "\n",
        "def remove_newlines_and_questions(text):\n",
        "    # Remove everything after the first newline character\n",
        "    text = re.sub(r\"\\n.*\", \"\", text)\n",
        "    text = re.sub(r'\\.(.*?\\?)', \".\", text)\n",
        "    text = re.sub(r\"Muhammad\", \"Muhammad (saw)\", text)\n",
        "\n",
        "    # Remove any spaces at the beginning or end of the string\n",
        "    text = text.strip()\n",
        "\n",
        "    return text"
      ],
      "metadata": {
        "id": "M35gcq35PN82"
      },
      "execution_count": 11,
      "outputs": []
    },
    {
      "cell_type": "code",
      "source": [
        "summaries = []\n",
        "for ai in result:\n",
        "  cleaned = remove_newlines_and_questions(ai.content)\n",
        "  summaries.append(cleaned)\n",
        "\n",
        "for s in summaries:\n",
        "  print(s)\n",
        "  print()"
      ],
      "metadata": {
        "colab": {
          "base_uri": "https://localhost:8080/"
        },
        "id": "nkfqTncbMyQ3",
        "outputId": "02b3c86c-2211-4cb7-95a0-d345f1739d11"
      },
      "execution_count": 24,
      "outputs": [
        {
          "output_type": "stream",
          "name": "stdout",
          "text": [
            "Feeling grateful is an important part of recognizing the oneness of God; the Islamic belief that God is singular and the only true God. Allah, as described in the Quran, has provided mankind with many blessings, such as the night and day, and the ability to live and thrive on the earth. However, many deny Allah's grace and choose instead to worship idols.\n",
            "\n",
            "The oneness of God is a central tenet of Islam, and those who do not believe in the Hereafter, their hearts are in denial and filled with pride at the idea of worshipping anyone but Allah, the One, the Unique, the Lone, and the Self-Sufficient. Allah knows the truth and will punish them for their arrogance.\n",
            "\n",
            "Feeling grateful is part of the spiritual journey towards truly understanding the oneness of God, who is the one and only deity, with no partners or equals. This message can be found in several hadiths and verses in the Quran, such as Ayah 3 from Surah Al-Ilah in the Quran, which states \"And your God is One God; there is only One God. Furthermore, the Most Gracious, the Most Merciful\", reinforces this idea of oneness and the exclusivity of God.\n",
            "\n"
          ]
        }
      ]
    },
    {
      "cell_type": "code",
      "source": [
        "quran_data = []\n",
        "\n",
        "quran_data.append((documents[0]['sura'], documents[0]['aya'], documents[0]['tafsir']))\n",
        "quran_data.append((documents[1]['sura'], documents[1]['aya'], documents[1]['tafsir']))\n",
        "quran_data.append((documents[2]['sura'], documents[2]['aya'], documents[2]['tafsir']))"
      ],
      "metadata": {
        "id": "mKS5QncUVGWr"
      },
      "execution_count": 28,
      "outputs": []
    },
    {
      "cell_type": "code",
      "source": [
        "quran_data"
      ],
      "metadata": {
        "colab": {
          "base_uri": "https://localhost:8080/"
        },
        "id": "gpZvp811LuQf",
        "outputId": "bcc7d027-5ad4-475b-bad1-cc7d43712fde"
      },
      "execution_count": 14,
      "outputs": [
        {
          "output_type": "execute_result",
          "data": {
            "text/plain": [
              "[(40,\n",
              "  '61,62,63,64,65',\n",
              "  'Allah, it is He Who has made the night for you that you may rest therein and the day for you to see Truly, Allah is full of bounty to mankind; yet, most of mankind give no thanks That is Allah, your Lord, the Creator of all things, La ilaha ila Huwa How then are you turning away Thus were turned away those who used to deny the Ayat of Allah Allah, it is He Who has made for you the earth as a dwelling place and the sky as a canopy, and has given you shape and made your shapes good and pure (looking) and has provided you with good things That is Allah, your Lord, so Blessed be Allah, the Lord of all that exists He is the Ever Living, La ilaha illa Huwa; so invoke Him making the religion for Him Alone All the praises and thanks be to Allah, the Lord of all that exits..Signs of the Power and Oneness of Allah..Allah reminds us of His grace towards His creation in that He has given them the night in which they rest and relax from their activities so that they can go back to them for their livelihood during the day He has given them the day with its light, so that they can undertake their journeys and engage in their business. \"Truly, Allah is full of bounty to mankind; yet, most of mankind give no thanks..\" means, they do not express gratitude for the favors which Allah bestows upon them Then Allah says: \"That is Allah, your Lord, the Creator of all things, La ilaha illa Huwa..\" means, the One Who does all of these things is Allah, the One, the Unique, the Creator of all things, besides Whom there is no other god or lord. \"How then are you turning away.\" means, `how can you worship idols which cannot create anything but are themselves hand-made and carved \"Thus were turned away those who used to deny the Ayat of Allah.\" means, just as these people Quraysh were led astray by their worship of gods other than Allah, those who came before them also disbelieved and worshipped others, with no proof or evidence, but on the basis of ignorance and desires They denied the signs and proof of Allah. \"Allah, it is He Who has made for you the earth as a dwelling place.\" means, `He made it stable and spread it out for you, so that you might live on it and travel about in it; He strengthened it with the mountains so that it does not shake with you. \"and the sky as a canopy,.\" means, `a roof covering and protecting the world. \"and has given you shape and made your shapes good.\" means, `He created you in the best and most perfect form. \"and has provided you with good and pure things..\" means, of food and drink in this world Allah states that that He is the Creator of the dwelling place'),\n",
              " (16,\n",
              "  '22,23',\n",
              "  'Your god is one God But for those who believe not in the Hereafter, their hearts are in denial, and they are proud Certainly, Allah knows what they conceal and what they reveal Truly, He does not like the proud..None is to be worshipped except Allah.Allah tells us that there is none to be worshipped besides Him, the One, the Unique, the Lone, the Self-Sufficient He tells us that the hearts of the disbelievers deny that and are astonished by that: \"\"Has he made the gods (all.\" into One God! Verily, this is a curious thing!) (38:5). \"And when Allah alone is mentioned, the hearts of those who do not believe in the Hereafter are filled with disgust, and when those besides Him are mentioned, behold, they rejoice!.\" (39:45). \"and they are proud.\" meaning they are too proud to worship Allah, and their hearts reject the idea of singling Him out, as Allah says: \"Verily! Those who scorn My worship they will surely enter Hell in humiliation!.\" 40:60 So here, Allah says; \"Certainly.\", meaning truly, \"Allah knows what they conceal and what they reveal..\" meaning He will requite them for that in full. \"Truly, He does not like the proud..\".'),\n",
              " (2,\n",
              "  '163',\n",
              "  'And your Ilah (God) is One Ilah (God Allah), La ilaha illa Huwa (there is none who has the right to be worshipped but He), the Most Gracious, the Most Merciful..In this Ayah, Allah mentions that He is the only deity, and that He has no partners or equals He is Allah, the One and Only, the Sustainer, and there is no deity worthy of worship except Him He is the Most Gracious Ar-Rahman, the Most Merciful Ar-Rahim We explained the meanings of these two Names in the beginning of Surat Al-Fatihah Shahr bin Hawshab reported that Asma bint Yazid bin As-Sakan narrated that Allahs Messenger said: \"Allahs Greatest Name is contained in these two Ayat.\": \"And your Ilah (God.\" is One Ilah (God Allah), La ilaha illa Huwa (there is none who has the right to be worshipped but He), the Most Gracious, the Most Merciful.) and: - \"Alif-Lam-Mim Allah! La ilaha illa Huwa (none has the right to be worshipped but He.\", Al-Haiyul-Qaiyum (the Ever Living, the One Who sustains and protects all that exists).) (3:1, 2).Then Allah mentions some of the proof that He is alone as the deity, that He is the One who created the heavens and the earth and all of the various creatures between them, all of which testify to His Oneness Allah said:.')]"
            ]
          },
          "metadata": {},
          "execution_count": 14
        }
      ]
    },
    {
      "cell_type": "code",
      "source": [
        "import requests\n",
        "# GET VERSE INFO with API\n",
        "returned_verses = {}\n",
        "i = 0\n",
        "for verse_tuple in quran_data:\n",
        "  surah, ayas, tafsir_docs = verse_tuple\n",
        "  aya_list = [int(x) for x in ayas.split(',')]\n",
        "  eng_verse_chunk = \"\"\n",
        "  arb_verse_chunk = \"\"\n",
        "  for aya in aya_list:\n",
        "    api_url = f\"https://quranenc.com/api/v1/translation/aya/english_saheeh/{surah}/{aya}\"\n",
        "    response = requests.get(api_url)\n",
        "    data = response.json()\n",
        "    eng = data['result']['translation']\n",
        "    arb = data['result']['arabic_text']\n",
        "    # footnote = data['result']['footnotes']\n",
        "    # print(arb)\n",
        "    # print(eng)\n",
        "    # print(f\"({surah}:{aya})\")\n",
        "    eng_verse_chunk+=eng\n",
        "    arb_verse_chunk+=arb + f\"({aya})\"\n",
        "  returned_verses[i] = {\"English\": eng_verse_chunk,\n",
        "                        \"Arabic\": arb_verse_chunk,\n",
        "                        \"Citation\": f\"({surah}:{ayas})\",\n",
        "                        \"Docs\": tafsir_docs}\n",
        "  i+=1"
      ],
      "metadata": {
        "id": "ohBZ260SYs_j"
      },
      "execution_count": 16,
      "outputs": []
    },
    {
      "cell_type": "code",
      "source": [
        "for k,v in returned_verses.items():\n",
        "  print(v['English'])\n",
        "  print(v['Arabic'])\n",
        "  print(v['Citation'])\n",
        "  print()"
      ],
      "metadata": {
        "colab": {
          "base_uri": "https://localhost:8080/"
        },
        "id": "2ac3sYWaaTy0",
        "outputId": "80f2fe1c-aecd-433d-a9e2-6f5b66181dbe"
      },
      "execution_count": 17,
      "outputs": [
        {
          "output_type": "stream",
          "name": "stdout",
          "text": [
            "(61) It is Allāh who made for you the night that you may rest therein and the day giving sight.[1376] Indeed, Allāh is the possessor of bounty for the people, but most of them are not grateful.(62) That is Allāh, your Lord, Creator of all things; there is no deity except Him, so how are you deluded?(63) Thus were those [before you] deluded who were rejecting the signs of Allāh.(64) It is Allāh who made for you the earth a place of settlement and the sky a structure [i.e., ceiling] and formed you and perfected your forms and provided you with good things. That is Allāh, your Lord; then blessed is Allāh, Lord of the worlds.(65) He is the Ever-Living;[1377] there is no deity except Him, so call upon Him, [being] sincere to Him in religion. [All] praise is [due] to Allāh, Lord of the worlds.\n",
            "ٱللَّهُ ٱلَّذِي جَعَلَ لَكُمُ ٱلَّيۡلَ لِتَسۡكُنُواْ فِيهِ وَٱلنَّهَارَ مُبۡصِرًاۚ إِنَّ ٱللَّهَ لَذُو فَضۡلٍ عَلَى ٱلنَّاسِ وَلَٰكِنَّ أَكۡثَرَ ٱلنَّاسِ لَا يَشۡكُرُونَ(61)ذَٰلِكُمُ ٱللَّهُ رَبُّكُمۡ خَٰلِقُ كُلِّ شَيۡءٖ لَّآ إِلَٰهَ إِلَّا هُوَۖ فَأَنَّىٰ تُؤۡفَكُونَ(62)كَذَٰلِكَ يُؤۡفَكُ ٱلَّذِينَ كَانُواْ بِـَٔايَٰتِ ٱللَّهِ يَجۡحَدُونَ(63)ٱللَّهُ ٱلَّذِي جَعَلَ لَكُمُ ٱلۡأَرۡضَ قَرَارٗا وَٱلسَّمَآءَ بِنَآءٗ وَصَوَّرَكُمۡ فَأَحۡسَنَ صُوَرَكُمۡ وَرَزَقَكُم مِّنَ ٱلطَّيِّبَٰتِۚ ذَٰلِكُمُ ٱللَّهُ رَبُّكُمۡۖ فَتَبَارَكَ ٱللَّهُ رَبُّ ٱلۡعَٰلَمِينَ(64)هُوَ ٱلۡحَيُّ لَآ إِلَٰهَ إِلَّا هُوَ فَٱدۡعُوهُ مُخۡلِصِينَ لَهُ ٱلدِّينَۗ ٱلۡحَمۡدُ لِلَّهِ رَبِّ ٱلۡعَٰلَمِينَ(65)\n",
            "(40:61,62,63,64,65)\n",
            "\n",
            "(22) Your god is one God. But those who do not believe in the Hereafter - their hearts are disapproving, and they are arrogant.(23) Assuredly, Allāh knows what they conceal and what they declare. Indeed, He does not like the arrogant.\n",
            "إِلَٰهُكُمۡ إِلَٰهٞ وَٰحِدٞۚ فَٱلَّذِينَ لَا يُؤۡمِنُونَ بِٱلۡأٓخِرَةِ قُلُوبُهُم مُّنكِرَةٞ وَهُم مُّسۡتَكۡبِرُونَ(22)لَا جَرَمَ أَنَّ ٱللَّهَ يَعۡلَمُ مَا يُسِرُّونَ وَمَا يُعۡلِنُونَۚ إِنَّهُۥ لَا يُحِبُّ ٱلۡمُسۡتَكۡبِرِينَ(23)\n",
            "(16:22,23)\n",
            "\n",
            "(163) And your god is one God. There is no deity [worthy of worship] except Him, the Entirely Merciful, the Especially Merciful.\n",
            "وَإِلَٰهُكُمۡ إِلَٰهٞ وَٰحِدٞۖ لَّآ إِلَٰهَ إِلَّا هُوَ ٱلرَّحۡمَٰنُ ٱلرَّحِيمُ(163)\n",
            "(2:163)\n",
            "\n"
          ]
        }
      ]
    },
    {
      "cell_type": "markdown",
      "source": [
        "## Pt.2: User Selects Verse\n",
        "Let's say they selected the third verse"
      ],
      "metadata": {
        "id": "0IBK6dAtbbvP"
      }
    },
    {
      "cell_type": "code",
      "source": [
        "import cohere\n",
        "\n",
        "generate_prompt = f\"\"\"\n",
        "Tadabbur refers to the act of contemplation, reflection, or thoughtful consideration.\n",
        "It is often associated with reflecting on the meanings of Quranic verses or contemplating the natural world as a means of deepening one's understanding and connection with God.\n",
        "Tadabbur involves pondering the deeper meanings and implications of various aspects of life.\n",
        "\n",
        "Using this definition, generate 3 deep and descriptive questions to assist one in doing tadabbur for the folloing text: {documents[2]['tafsir']}.\n",
        "\n",
        "Ex for text regarding Monotheism:\n",
        "\n",
        "1. Reflect upon the concept of monotheism and the idea that there is no deity but Allah. What does this mean in the context of our existence and the universe? How does this notion contrast with the idea of polytheism or the belief in many gods?\n",
        "2. Consider the role of creation as a testimony to Allah's oneness. What does it mean that the heavens, the earth, and all creatures between them testify to Allah's uniqueness? How does the beauty and complexity of the natural world serve as a sign of Allah's existence and Oneness?\n",
        "3. Contemplate the importance of the names \"Ar-Rahman\" and \"Ar-Rahim\" in this passage. What do these names imply about Allah's character and how do they relate to the concept of oneness? How do these names emphasize Allah's compassion and mercy towards creation?\n",
        "\n",
        "\"\"\"\n",
        "\n",
        "co = cohere.Client(cohere_api_key) # This is your trial API key\n",
        "response = co.generate(\n",
        "  model='command',\n",
        "  prompt=generate_prompt,\n",
        "  max_tokens=500,\n",
        "  temperature=1.0,\n",
        "  k=0,\n",
        "  stop_sequences=[],\n",
        "  return_likelihoods='NONE')\n"
      ],
      "metadata": {
        "id": "3ihgj9OQaZk8"
      },
      "execution_count": 56,
      "outputs": []
    },
    {
      "cell_type": "code",
      "source": [
        "print(response.generations[0].text)\n",
        "resp = response.generations[0].text"
      ],
      "metadata": {
        "colab": {
          "base_uri": "https://localhost:8080/"
        },
        "id": "dpc_RjIscebj",
        "outputId": "90222620-bac4-46cb-c86a-7bd1211e0057"
      },
      "execution_count": 57,
      "outputs": [
        {
          "output_type": "stream",
          "name": "stdout",
          "text": [
            " Sure, here are three deep and descriptive questions to assist you in tadabbur for the provided text about monotheism:\n",
            "\n",
            "1. contemplate the idea that Allah is the only deity worthy of worship. What does this mean in the context of our existence, where we encounter countless phenomena and distractions that might lead us to think that many forces are in play? How can we recognize and affirm the oneness of Allah in our daily lives and worship?\n",
            "\n",
            "2. Consider the names \"Ar-Rahman\" and \"Ar-Rahim\" that appear in this passage. What do these names tell us about the nature of Allah and His relationship with creation? How do these names echo throughout the universe in different forms and experiences, testifying to Allah's eternal compassion and mercy?\n",
            "\n",
            "3. Analyzing the concept of creation as a testimony to Allah's oneness. What is the significance of the heavens, the earth, and all creatures affirming Allah's uniqueness? How does the order, complexity, and beauty of the natural world serve as evidence of Allah's existence and oneness? \n",
            "\n",
            "Remember, the goal of tadabbur is to stimulate deep thought and reflection on the meaning and significance of the Quranic message. \n",
            "\n",
            "Would you like me to generate any more questions? \n"
          ]
        }
      ]
    },
    {
      "cell_type": "code",
      "source": [
        "p = remove_newlines_and_questions(resp)\n",
        "\n",
        "print(p)"
      ],
      "metadata": {
        "colab": {
          "base_uri": "https://localhost:8080/"
        },
        "id": "WVzNaO9UdauK",
        "outputId": "178cb6c9-eba5-4665-d343-b3360137ef24"
      },
      "execution_count": 58,
      "outputs": [
        {
          "output_type": "stream",
          "name": "stdout",
          "text": [
            "Sure, here are three deep and descriptive questions to assist you in tadabbur for the provided text about monotheism:\n"
          ]
        }
      ]
    },
    {
      "cell_type": "code",
      "source": [
        "response.generations[0].text"
      ],
      "metadata": {
        "colab": {
          "base_uri": "https://localhost:8080/",
          "height": 122
        },
        "id": "OTBSzd_yRFKn",
        "outputId": "003854bb-8eab-4766-db93-874bdaa4be0c"
      },
      "execution_count": 59,
      "outputs": [
        {
          "output_type": "execute_result",
          "data": {
            "text/plain": [
              "' Sure, here are three deep and descriptive questions to assist you in tadabbur for the provided text about monotheism:\\n\\n1. contemplate the idea that Allah is the only deity worthy of worship. What does this mean in the context of our existence, where we encounter countless phenomena and distractions that might lead us to think that many forces are in play? How can we recognize and affirm the oneness of Allah in our daily lives and worship?\\n\\n2. Consider the names \"Ar-Rahman\" and \"Ar-Rahim\" that appear in this passage. What do these names tell us about the nature of Allah and His relationship with creation? How do these names echo throughout the universe in different forms and experiences, testifying to Allah\\'s eternal compassion and mercy?\\n\\n3. Analyzing the concept of creation as a testimony to Allah\\'s oneness. What is the significance of the heavens, the earth, and all creatures affirming Allah\\'s uniqueness? How does the order, complexity, and beauty of the natural world serve as evidence of Allah\\'s existence and oneness? \\n\\nRemember, the goal of tadabbur is to stimulate deep thought and reflection on the meaning and significance of the Quranic message. \\n\\nWould you like me to generate any more questions? '"
            ],
            "application/vnd.google.colaboratory.intrinsic+json": {
              "type": "string"
            }
          },
          "metadata": {},
          "execution_count": 59
        }
      ]
    },
    {
      "cell_type": "code",
      "source": [],
      "metadata": {
        "id": "4M-6TrQTXsbm"
      },
      "execution_count": null,
      "outputs": []
    }
  ]
}